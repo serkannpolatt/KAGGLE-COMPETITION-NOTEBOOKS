{
 "cells": [
  {
   "cell_type": "markdown",
   "id": "fb7a7002",
   "metadata": {
    "papermill": {
     "duration": 0.009208,
     "end_time": "2025-01-31T08:47:15.700109",
     "exception": false,
     "start_time": "2025-01-31T08:47:15.690901",
     "status": "completed"
    },
    "tags": []
   },
   "source": [
    "# Import library"
   ]
  },
  {
   "cell_type": "code",
   "execution_count": 1,
   "id": "0b32ca1a",
   "metadata": {
    "execution": {
     "iopub.execute_input": "2025-01-31T08:47:15.722743Z",
     "iopub.status.busy": "2025-01-31T08:47:15.722186Z",
     "iopub.status.idle": "2025-01-31T08:47:18.204660Z",
     "shell.execute_reply": "2025-01-31T08:47:18.203706Z"
    },
    "papermill": {
     "duration": 2.496297,
     "end_time": "2025-01-31T08:47:18.207569",
     "exception": false,
     "start_time": "2025-01-31T08:47:15.711272",
     "status": "completed"
    },
    "tags": []
   },
   "outputs": [
    {
     "data": {
      "text/html": [
       "<style type='text/css'>\n",
       ".datatable table.frame { margin-bottom: 0; }\n",
       ".datatable table.frame thead { border-bottom: none; }\n",
       ".datatable table.frame tr.coltypes td {  color: #FFFFFF;  line-height: 6px;  padding: 0 0.5em;}\n",
       ".datatable .bool    { background: #DDDD99; }\n",
       ".datatable .object  { background: #565656; }\n",
       ".datatable .int     { background: #5D9E5D; }\n",
       ".datatable .float   { background: #4040CC; }\n",
       ".datatable .str     { background: #CC4040; }\n",
       ".datatable .time    { background: #40CC40; }\n",
       ".datatable .row_index {  background: var(--jp-border-color3);  border-right: 1px solid var(--jp-border-color0);  color: var(--jp-ui-font-color3);  font-size: 9px;}\n",
       ".datatable .frame tbody td { text-align: left; }\n",
       ".datatable .frame tr.coltypes .row_index {  background: var(--jp-border-color0);}\n",
       ".datatable th:nth-child(2) { padding-left: 12px; }\n",
       ".datatable .hellipsis {  color: var(--jp-cell-editor-border-color);}\n",
       ".datatable .vellipsis {  background: var(--jp-layout-color0);  color: var(--jp-cell-editor-border-color);}\n",
       ".datatable .na {  color: var(--jp-cell-editor-border-color);  font-size: 80%;}\n",
       ".datatable .sp {  opacity: 0.25;}\n",
       ".datatable .footer { font-size: 9px; }\n",
       ".datatable .frame_dimensions {  background: var(--jp-border-color3);  border-top: 1px solid var(--jp-border-color0);  color: var(--jp-ui-font-color3);  display: inline-block;  opacity: 0.6;  padding: 1px 10px 1px 5px;}\n",
       "</style>\n"
      ],
      "text/plain": [
       "<IPython.core.display.HTML object>"
      ]
     },
     "metadata": {},
     "output_type": "display_data"
    }
   ],
   "source": [
    "import numpy as np\n",
    "import pandas as pd\n",
    "import matplotlib.pyplot as plt\n",
    "import seaborn as sns\n",
    "\n",
    "from sklearn.linear_model import Ridge,Lasso\n",
    "from sklearn.metrics import mean_absolute_percentage_error\n",
    "from lightgbm import log_evaluation, early_stopping, LGBMRegressor\n",
    "\n",
    "sns.set_style('darkgrid')"
   ]
  },
  {
   "cell_type": "markdown",
   "id": "8850f3f9",
   "metadata": {
    "papermill": {
     "duration": 0.009484,
     "end_time": "2025-01-31T08:47:18.227104",
     "exception": false,
     "start_time": "2025-01-31T08:47:18.217620",
     "status": "completed"
    },
    "tags": []
   },
   "source": [
    "# Load data"
   ]
  },
  {
   "cell_type": "code",
   "execution_count": 2,
   "id": "f48b4a92",
   "metadata": {
    "execution": {
     "iopub.execute_input": "2025-01-31T08:47:18.247920Z",
     "iopub.status.busy": "2025-01-31T08:47:18.247522Z",
     "iopub.status.idle": "2025-01-31T08:47:18.839318Z",
     "shell.execute_reply": "2025-01-31T08:47:18.838126Z"
    },
    "papermill": {
     "duration": 0.605403,
     "end_time": "2025-01-31T08:47:18.842104",
     "exception": false,
     "start_time": "2025-01-31T08:47:18.236701",
     "status": "completed"
    },
    "tags": []
   },
   "outputs": [],
   "source": [
    "train_df = pd.read_csv(\"/kaggle/input/playground-series-s5e1/train.csv\", parse_dates=[\"date\"])\n",
    "original_train_df = train_df.copy()\n",
    "test_df = pd.read_csv(\"/kaggle/input/playground-series-s5e1/test.csv\", parse_dates=[\"date\"])\n",
    "sub = pd.read_csv(\"/kaggle/input/playground-series-s5e1/sample_submission.csv\")\n"
   ]
  },
  {
   "cell_type": "markdown",
   "id": "5ecf2b24",
   "metadata": {
    "papermill": {
     "duration": 0.009586,
     "end_time": "2025-01-31T08:47:18.861484",
     "exception": false,
     "start_time": "2025-01-31T08:47:18.851898",
     "status": "completed"
    },
    "tags": []
   },
   "source": [
    "# Data preprocessing"
   ]
  },
  {
   "cell_type": "markdown",
   "id": "b16c8ee8",
   "metadata": {
    "papermill": {
     "duration": 0.009427,
     "end_time": "2025-01-31T08:47:18.880472",
     "exception": false,
     "start_time": "2025-01-31T08:47:18.871045",
     "status": "completed"
    },
    "tags": []
   },
   "source": [
    "## Import GDP data"
   ]
  },
  {
   "cell_type": "code",
   "execution_count": 3,
   "id": "7b8d5679",
   "metadata": {
    "execution": {
     "iopub.execute_input": "2025-01-31T08:47:18.901559Z",
     "iopub.status.busy": "2025-01-31T08:47:18.901114Z",
     "iopub.status.idle": "2025-01-31T08:47:18.976675Z",
     "shell.execute_reply": "2025-01-31T08:47:18.975693Z"
    },
    "papermill": {
     "duration": 0.089159,
     "end_time": "2025-01-31T08:47:18.979184",
     "exception": false,
     "start_time": "2025-01-31T08:47:18.890025",
     "status": "completed"
    },
    "tags": []
   },
   "outputs": [],
   "source": [
    "gdp_per_capita_df = pd.read_csv(\"/kaggle/input/world-gdpgdp-gdp-per-capita-and-annual-growths/gdp_per_capita.csv\")\n",
    "\n",
    "years =  [\"2010\", \"2011\", \"2012\", \"2013\", \"2014\", \"2015\", \"2016\", \"2017\", \"2018\", \"2019\", \"2020\"]\n",
    "gdp_per_capita_filtered_df = gdp_per_capita_df.loc[gdp_per_capita_df[\"Country Name\"].isin(train_df[\"country\"].unique()), [\"Country Name\"] + years].set_index(\"Country Name\")\n",
    "for year in years:\n",
    "    gdp_per_capita_filtered_df[f\"{year}_ratio\"] = gdp_per_capita_filtered_df[year] / gdp_per_capita_filtered_df.sum()[year]\n",
    "gdp_per_capita_filtered_ratios_df = gdp_per_capita_filtered_df[[i+\"_ratio\" for i in years]]\n",
    "gdp_per_capita_filtered_ratios_df.columns = [int(i) for i in years]\n",
    "gdp_per_capita_filtered_ratios_df = gdp_per_capita_filtered_ratios_df.unstack().reset_index().rename(columns = {\"level_0\": \"year\", 0: \"ratio\", \"Country Name\": \"country\"})\n",
    "gdp_per_capita_filtered_ratios_df['year'] = pd.to_datetime(gdp_per_capita_filtered_ratios_df['year'], format='%Y')\n",
    "\n",
    "# For plotting purposes\n",
    "gdp_per_capita_filtered_ratios_df_2 = gdp_per_capita_filtered_ratios_df.copy()\n",
    "gdp_per_capita_filtered_ratios_df_2[\"year\"] = pd.to_datetime(gdp_per_capita_filtered_ratios_df_2['year'].astype(str)) + pd.offsets.YearEnd(1)\n",
    "gdp_per_capita_filtered_ratios_df = pd.concat([gdp_per_capita_filtered_ratios_df, gdp_per_capita_filtered_ratios_df_2]).reset_index()"
   ]
  },
  {
   "cell_type": "code",
   "execution_count": 4,
   "id": "feaef414",
   "metadata": {
    "execution": {
     "iopub.execute_input": "2025-01-31T08:47:19.000055Z",
     "iopub.status.busy": "2025-01-31T08:47:18.999666Z",
     "iopub.status.idle": "2025-01-31T08:47:19.006371Z",
     "shell.execute_reply": "2025-01-31T08:47:19.005130Z"
    },
    "papermill": {
     "duration": 0.019796,
     "end_time": "2025-01-31T08:47:19.008614",
     "exception": false,
     "start_time": "2025-01-31T08:47:18.988818",
     "status": "completed"
    },
    "tags": []
   },
   "outputs": [],
   "source": [
    "gdp_per_capita_filtered_ratios_df_2[\"year\"] = gdp_per_capita_filtered_ratios_df_2[\"year\"].dt.year"
   ]
  },
  {
   "cell_type": "markdown",
   "id": "d08fcc0c",
   "metadata": {
    "papermill": {
     "duration": 0.009048,
     "end_time": "2025-01-31T08:47:19.027092",
     "exception": false,
     "start_time": "2025-01-31T08:47:19.018044",
     "status": "completed"
    },
    "tags": []
   },
   "source": [
    "## Process missing values"
   ]
  },
  {
   "cell_type": "code",
   "execution_count": 5,
   "id": "a158d26d",
   "metadata": {
    "execution": {
     "iopub.execute_input": "2025-01-31T08:47:19.048157Z",
     "iopub.status.busy": "2025-01-31T08:47:19.047737Z",
     "iopub.status.idle": "2025-01-31T08:47:25.965311Z",
     "shell.execute_reply": "2025-01-31T08:47:25.963767Z"
    },
    "papermill": {
     "duration": 6.931238,
     "end_time": "2025-01-31T08:47:25.967691",
     "exception": false,
     "start_time": "2025-01-31T08:47:19.036453",
     "status": "completed"
    },
    "tags": []
   },
   "outputs": [
    {
     "name": "stdout",
     "output_type": "stream",
     "text": [
      "Missing values remaining: 8871\n",
      "Missing values remaining: 2\n"
     ]
    }
   ],
   "source": [
    "train_df_imputed = train_df.copy()\n",
    "missing_value_ids = train_df.loc[train_df[\"num_sold\"].isna(), \"id\"].values\n",
    "print(f\"Missing values remaining: {train_df_imputed['num_sold'].isna().sum()}\")\n",
    "\n",
    "train_df_imputed[\"year\"] = train_df_imputed[\"date\"].dt.year\n",
    "for year in train_df_imputed[\"year\"].unique():\n",
    "    # Impute Time Series 1 (Canada, Discount Stickers, Holographic Goose)\n",
    "    target_ratio = gdp_per_capita_filtered_ratios_df_2.loc[(gdp_per_capita_filtered_ratios_df_2[\"year\"] == year) & (gdp_per_capita_filtered_ratios_df_2[\"country\"] == \"Norway\"), \"ratio\"].values[0] # Using Norway as should have the best precision\n",
    "    current_raito = gdp_per_capita_filtered_ratios_df_2.loc[(gdp_per_capita_filtered_ratios_df_2[\"year\"] == year) & (gdp_per_capita_filtered_ratios_df_2[\"country\"] == \"Canada\"), \"ratio\"].values[0]\n",
    "    ratio_can = current_raito / target_ratio\n",
    "    train_df_imputed.loc[(train_df_imputed[\"country\"] == \"Canada\") & (train_df_imputed[\"store\"] == \"Discount Stickers\") & (train_df_imputed[\"product\"] == \"Holographic Goose\") & (train_df_imputed[\"year\"] == year), \"num_sold\"] = (train_df_imputed.loc[(train_df_imputed[\"country\"] == \"Norway\") & (train_df_imputed[\"store\"] == \"Discount Stickers\") & (train_df_imputed[\"product\"] == \"Holographic Goose\") & (train_df_imputed[\"year\"] == year), \"num_sold\"] * ratio_can).values\n",
    "    \n",
    "    # Impute Time Series 2 (Only Missing Values)\n",
    "    current_ts =  train_df_imputed.loc[(train_df_imputed[\"country\"] == \"Canada\") & (train_df_imputed[\"store\"] == \"Premium Sticker Mart\") & (train_df_imputed[\"product\"] == \"Holographic Goose\") & (train_df_imputed[\"year\"] == year)]\n",
    "    missing_ts_dates = current_ts.loc[current_ts[\"num_sold\"].isna(), \"date\"]\n",
    "    train_df_imputed.loc[(train_df_imputed[\"country\"] == \"Canada\") & (train_df_imputed[\"store\"] == \"Premium Sticker Mart\") & (train_df_imputed[\"product\"] == \"Holographic Goose\") & (train_df_imputed[\"year\"] == year) & (train_df_imputed[\"date\"].isin(missing_ts_dates)), \"num_sold\"] = (train_df_imputed.loc[(train_df_imputed[\"country\"] == \"Norway\") & (train_df_imputed[\"store\"] == \"Premium Sticker Mart\") & (train_df_imputed[\"product\"] == \"Holographic Goose\") & (train_df_imputed[\"year\"] == year) & (train_df_imputed[\"date\"].isin(missing_ts_dates)), \"num_sold\"] * ratio_can).values\n",
    "\n",
    "    # Impute Time Series 3 (Only Missing Values)\n",
    "    current_ts =  train_df_imputed.loc[(train_df_imputed[\"country\"] == \"Canada\") & (train_df_imputed[\"store\"] == \"Stickers for Less\") & (train_df_imputed[\"product\"] == \"Holographic Goose\") & (train_df_imputed[\"year\"] == year)]\n",
    "    missing_ts_dates = current_ts.loc[current_ts[\"num_sold\"].isna(), \"date\"]\n",
    "    train_df_imputed.loc[(train_df_imputed[\"country\"] == \"Canada\") & (train_df_imputed[\"store\"] == \"Stickers for Less\") & (train_df_imputed[\"product\"] == \"Holographic Goose\") & (train_df_imputed[\"year\"] == year) & (train_df_imputed[\"date\"].isin(missing_ts_dates)), \"num_sold\"] = (train_df_imputed.loc[(train_df_imputed[\"country\"] == \"Norway\") & (train_df_imputed[\"store\"] == \"Stickers for Less\") & (train_df_imputed[\"product\"] == \"Holographic Goose\") & (train_df_imputed[\"year\"] == year) & (train_df_imputed[\"date\"].isin(missing_ts_dates)), \"num_sold\"] * ratio_can).values\n",
    "    \n",
    "    # Impute Time Series 4 (Kenya, Discount Stickers, Holographic Goose)\n",
    "    current_raito = gdp_per_capita_filtered_ratios_df_2.loc[(gdp_per_capita_filtered_ratios_df_2[\"year\"] == year) & (gdp_per_capita_filtered_ratios_df_2[\"country\"] == \"Kenya\"), \"ratio\"].values[0]\n",
    "    ratio_ken = current_raito / target_ratio\n",
    "    train_df_imputed.loc[(train_df_imputed[\"country\"] == \"Kenya\") & (train_df_imputed[\"store\"] == \"Discount Stickers\") & (train_df_imputed[\"product\"] == \"Holographic Goose\") & (train_df_imputed[\"year\"] == year), \"num_sold\"] = (train_df_imputed.loc[(train_df_imputed[\"country\"] == \"Norway\") & (train_df_imputed[\"store\"] == \"Discount Stickers\") & (train_df_imputed[\"product\"] == \"Holographic Goose\")& (train_df_imputed[\"year\"] == year), \"num_sold\"] * ratio_ken).values\n",
    "\n",
    "    # Impute Time Series 5 (Only Missing Values)\n",
    "    current_ts = train_df_imputed.loc[(train_df_imputed[\"country\"] == \"Kenya\") & (train_df_imputed[\"store\"] == \"Premium Sticker Mart\") & (train_df_imputed[\"product\"] == \"Holographic Goose\") & (train_df_imputed[\"year\"] == year)]\n",
    "    missing_ts_dates = current_ts.loc[current_ts[\"num_sold\"].isna(), \"date\"]\n",
    "    train_df_imputed.loc[(train_df_imputed[\"country\"] == \"Kenya\") & (train_df_imputed[\"store\"] == \"Premium Sticker Mart\") & (train_df_imputed[\"product\"] == \"Holographic Goose\") & (train_df_imputed[\"year\"] == year) & (train_df_imputed[\"date\"].isin(missing_ts_dates)), \"num_sold\"] = (train_df_imputed.loc[(train_df_imputed[\"country\"] == \"Norway\") & (train_df_imputed[\"store\"] == \"Premium Sticker Mart\") & (train_df_imputed[\"product\"] == \"Holographic Goose\") & (train_df_imputed[\"year\"] == year) & (train_df_imputed[\"date\"].isin(missing_ts_dates)), \"num_sold\"] * ratio_ken).values\n",
    "\n",
    "    # Impute Time Series 6 (Only Missing Values)\n",
    "    current_ts = train_df_imputed.loc[(train_df_imputed[\"country\"] == \"Kenya\") & (train_df_imputed[\"store\"] == \"Stickers for Less\") & (train_df_imputed[\"product\"] == \"Holographic Goose\") & (train_df_imputed[\"year\"] == year)]\n",
    "    missing_ts_dates = current_ts.loc[current_ts[\"num_sold\"].isna(), \"date\"]\n",
    "    train_df_imputed.loc[(train_df_imputed[\"country\"] == \"Kenya\") & (train_df_imputed[\"store\"] == \"Stickers for Less\") & (train_df_imputed[\"product\"] == \"Holographic Goose\") & (train_df_imputed[\"year\"] == year) & (train_df_imputed[\"date\"].isin(missing_ts_dates)), \"num_sold\"] = (train_df_imputed.loc[(train_df_imputed[\"country\"] == \"Norway\") & (train_df_imputed[\"store\"] == \"Stickers for Less\") & (train_df_imputed[\"product\"] == \"Holographic Goose\") & (train_df_imputed[\"year\"] == year) & (train_df_imputed[\"date\"].isin(missing_ts_dates)), \"num_sold\"] * ratio_ken).values\n",
    "\n",
    "    # Impute Time Series 7 (Only Missing Values)\n",
    "    current_ts = train_df_imputed.loc[(train_df_imputed[\"country\"] == \"Kenya\") & (train_df_imputed[\"store\"] == \"Discount Stickers\") & (train_df_imputed[\"product\"] == \"Kerneler\") & (train_df_imputed[\"year\"] == year)]\n",
    "    missing_ts_dates = current_ts.loc[current_ts[\"num_sold\"].isna(), \"date\"]\n",
    "    train_df_imputed.loc[(train_df_imputed[\"country\"] == \"Kenya\") & (train_df_imputed[\"store\"] == \"Discount Stickers\") & (train_df_imputed[\"product\"] == \"Kerneler\") & (train_df_imputed[\"year\"] == year) & (train_df_imputed[\"date\"].isin(missing_ts_dates)), \"num_sold\"] = (train_df_imputed.loc[(train_df_imputed[\"country\"] == \"Norway\") & (train_df_imputed[\"store\"] == \"Discount Stickers\") & (train_df_imputed[\"product\"] == \"Kerneler\") & (train_df_imputed[\"year\"] == year) & (train_df_imputed[\"date\"].isin(missing_ts_dates)), \"num_sold\"] * ratio_ken).values\n",
    "    \n",
    "print(f\"Missing values remaining: {train_df_imputed['num_sold'].isna().sum()}\")"
   ]
  },
  {
   "cell_type": "code",
   "execution_count": 6,
   "id": "18e6a4de",
   "metadata": {
    "execution": {
     "iopub.execute_input": "2025-01-31T08:47:25.988850Z",
     "iopub.status.busy": "2025-01-31T08:47:25.988421Z",
     "iopub.status.idle": "2025-01-31T08:47:26.014775Z",
     "shell.execute_reply": "2025-01-31T08:47:26.013296Z"
    },
    "papermill": {
     "duration": 0.040071,
     "end_time": "2025-01-31T08:47:26.017479",
     "exception": false,
     "start_time": "2025-01-31T08:47:25.977408",
     "status": "completed"
    },
    "tags": []
   },
   "outputs": [
    {
     "data": {
      "text/html": [
       "<div>\n",
       "<style scoped>\n",
       "    .dataframe tbody tr th:only-of-type {\n",
       "        vertical-align: middle;\n",
       "    }\n",
       "\n",
       "    .dataframe tbody tr th {\n",
       "        vertical-align: top;\n",
       "    }\n",
       "\n",
       "    .dataframe thead th {\n",
       "        text-align: right;\n",
       "    }\n",
       "</style>\n",
       "<table border=\"1\" class=\"dataframe\">\n",
       "  <thead>\n",
       "    <tr style=\"text-align: right;\">\n",
       "      <th></th>\n",
       "      <th>id</th>\n",
       "      <th>date</th>\n",
       "      <th>country</th>\n",
       "      <th>store</th>\n",
       "      <th>product</th>\n",
       "      <th>num_sold</th>\n",
       "      <th>year</th>\n",
       "    </tr>\n",
       "  </thead>\n",
       "  <tbody>\n",
       "    <tr>\n",
       "      <th>23719</th>\n",
       "      <td>23719</td>\n",
       "      <td>2010-09-21</td>\n",
       "      <td>Kenya</td>\n",
       "      <td>Discount Stickers</td>\n",
       "      <td>Kerneler Dark Mode</td>\n",
       "      <td>NaN</td>\n",
       "      <td>2010</td>\n",
       "    </tr>\n",
       "    <tr>\n",
       "      <th>207003</th>\n",
       "      <td>207003</td>\n",
       "      <td>2016-04-19</td>\n",
       "      <td>Canada</td>\n",
       "      <td>Discount Stickers</td>\n",
       "      <td>Kerneler</td>\n",
       "      <td>NaN</td>\n",
       "      <td>2016</td>\n",
       "    </tr>\n",
       "  </tbody>\n",
       "</table>\n",
       "</div>"
      ],
      "text/plain": [
       "            id       date country              store             product  \\\n",
       "23719    23719 2010-09-21   Kenya  Discount Stickers  Kerneler Dark Mode   \n",
       "207003  207003 2016-04-19  Canada  Discount Stickers            Kerneler   \n",
       "\n",
       "        num_sold  year  \n",
       "23719        NaN  2010  \n",
       "207003       NaN  2016  "
      ]
     },
     "metadata": {},
     "output_type": "display_data"
    },
    {
     "name": "stdout",
     "output_type": "stream",
     "text": [
      "Missing values remaining: 0\n"
     ]
    }
   ],
   "source": [
    "missing_rows = train_df_imputed.loc[train_df_imputed[\"num_sold\"].isna()]\n",
    "display(missing_rows)\n",
    "train_df_imputed.loc[train_df_imputed[\"id\"] == 23719, \"num_sold\"] = 4\n",
    "train_df_imputed.loc[train_df_imputed[\"id\"] == 207003, \"num_sold\"] = 195\n",
    "\n",
    "print(f\"Missing values remaining: {train_df_imputed['num_sold'].isna().sum()}\")"
   ]
  },
  {
   "cell_type": "markdown",
   "id": "a52bfefe",
   "metadata": {
    "papermill": {
     "duration": 0.010221,
     "end_time": "2025-01-31T08:47:26.037685",
     "exception": false,
     "start_time": "2025-01-31T08:47:26.027464",
     "status": "completed"
    },
    "tags": []
   },
   "source": [
    "## store weights"
   ]
  },
  {
   "cell_type": "code",
   "execution_count": 7,
   "id": "dc3c415a",
   "metadata": {
    "execution": {
     "iopub.execute_input": "2025-01-31T08:47:26.060003Z",
     "iopub.status.busy": "2025-01-31T08:47:26.059172Z",
     "iopub.status.idle": "2025-01-31T08:47:26.093311Z",
     "shell.execute_reply": "2025-01-31T08:47:26.092291Z"
    },
    "papermill": {
     "duration": 0.048035,
     "end_time": "2025-01-31T08:47:26.095650",
     "exception": false,
     "start_time": "2025-01-31T08:47:26.047615",
     "status": "completed"
    },
    "tags": []
   },
   "outputs": [
    {
     "data": {
      "text/plain": [
       "store\n",
       "Discount Stickers       0.184716\n",
       "Premium Sticker Mart    0.441564\n",
       "Stickers for Less       0.373720\n",
       "Name: num_sold, dtype: float64"
      ]
     },
     "execution_count": 7,
     "metadata": {},
     "output_type": "execute_result"
    }
   ],
   "source": [
    "store_weights = train_df_imputed.groupby(\"store\")[\"num_sold\"].sum()/train_df_imputed[\"num_sold\"].sum()\n",
    "store_weights"
   ]
  },
  {
   "cell_type": "markdown",
   "id": "85bf080b",
   "metadata": {
    "papermill": {
     "duration": 0.009836,
     "end_time": "2025-01-31T08:47:26.115411",
     "exception": false,
     "start_time": "2025-01-31T08:47:26.105575",
     "status": "completed"
    },
    "tags": []
   },
   "source": [
    "## The proportion of product in daily sales"
   ]
  },
  {
   "cell_type": "code",
   "execution_count": 8,
   "id": "ec08d589",
   "metadata": {
    "execution": {
     "iopub.execute_input": "2025-01-31T08:47:26.137070Z",
     "iopub.status.busy": "2025-01-31T08:47:26.136637Z",
     "iopub.status.idle": "2025-01-31T08:47:26.860914Z",
     "shell.execute_reply": "2025-01-31T08:47:26.859811Z"
    },
    "papermill": {
     "duration": 0.737813,
     "end_time": "2025-01-31T08:47:26.863201",
     "exception": false,
     "start_time": "2025-01-31T08:47:26.125388",
     "status": "completed"
    },
    "tags": []
   },
   "outputs": [
    {
     "data": {
      "text/html": [
       "<div>\n",
       "<style scoped>\n",
       "    .dataframe tbody tr th:only-of-type {\n",
       "        vertical-align: middle;\n",
       "    }\n",
       "\n",
       "    .dataframe tbody tr th {\n",
       "        vertical-align: top;\n",
       "    }\n",
       "\n",
       "    .dataframe thead th {\n",
       "        text-align: right;\n",
       "    }\n",
       "</style>\n",
       "<table border=\"1\" class=\"dataframe\">\n",
       "  <thead>\n",
       "    <tr style=\"text-align: right;\">\n",
       "      <th></th>\n",
       "      <th>date</th>\n",
       "      <th>product</th>\n",
       "      <th>ratios</th>\n",
       "    </tr>\n",
       "  </thead>\n",
       "  <tbody>\n",
       "    <tr>\n",
       "      <th>0</th>\n",
       "      <td>2010-01-01</td>\n",
       "      <td>Holographic Goose</td>\n",
       "      <td>0.052441</td>\n",
       "    </tr>\n",
       "    <tr>\n",
       "      <th>1</th>\n",
       "      <td>2010-01-01</td>\n",
       "      <td>Kaggle</td>\n",
       "      <td>0.329305</td>\n",
       "    </tr>\n",
       "    <tr>\n",
       "      <th>2</th>\n",
       "      <td>2010-01-01</td>\n",
       "      <td>Kaggle Tiers</td>\n",
       "      <td>0.291165</td>\n",
       "    </tr>\n",
       "    <tr>\n",
       "      <th>3</th>\n",
       "      <td>2010-01-01</td>\n",
       "      <td>Kerneler</td>\n",
       "      <td>0.152373</td>\n",
       "    </tr>\n",
       "  </tbody>\n",
       "</table>\n",
       "</div>"
      ],
      "text/plain": [
       "        date            product    ratios\n",
       "0 2010-01-01  Holographic Goose  0.052441\n",
       "1 2010-01-01             Kaggle  0.329305\n",
       "2 2010-01-01       Kaggle Tiers  0.291165\n",
       "3 2010-01-01           Kerneler  0.152373"
      ]
     },
     "execution_count": 8,
     "metadata": {},
     "output_type": "execute_result"
    }
   ],
   "source": [
    "product_df = train_df_imputed.groupby([\"date\",\"product\"])[\"num_sold\"].sum().reset_index()\n",
    "product_ratio_df = product_df.pivot(index=\"date\", columns=\"product\", values=\"num_sold\")\n",
    "product_ratio_df = product_ratio_df.apply(lambda x: x/x.sum(),axis=1)\n",
    "product_ratio_df = product_ratio_df.stack().rename(\"ratios\").reset_index()\n",
    "product_ratio_df.head(4)"
   ]
  },
  {
   "cell_type": "code",
   "execution_count": 9,
   "id": "965ecd5e",
   "metadata": {
    "execution": {
     "iopub.execute_input": "2025-01-31T08:47:26.885156Z",
     "iopub.status.busy": "2025-01-31T08:47:26.884746Z",
     "iopub.status.idle": "2025-01-31T08:47:26.898555Z",
     "shell.execute_reply": "2025-01-31T08:47:26.897400Z"
    },
    "papermill": {
     "duration": 0.027475,
     "end_time": "2025-01-31T08:47:26.900693",
     "exception": false,
     "start_time": "2025-01-31T08:47:26.873218",
     "status": "completed"
    },
    "tags": []
   },
   "outputs": [
    {
     "data": {
      "text/html": [
       "<div>\n",
       "<style scoped>\n",
       "    .dataframe tbody tr th:only-of-type {\n",
       "        vertical-align: middle;\n",
       "    }\n",
       "\n",
       "    .dataframe tbody tr th {\n",
       "        vertical-align: top;\n",
       "    }\n",
       "\n",
       "    .dataframe thead th {\n",
       "        text-align: right;\n",
       "    }\n",
       "</style>\n",
       "<table border=\"1\" class=\"dataframe\">\n",
       "  <thead>\n",
       "    <tr style=\"text-align: right;\">\n",
       "      <th></th>\n",
       "      <th>id</th>\n",
       "      <th>date</th>\n",
       "      <th>country</th>\n",
       "      <th>store</th>\n",
       "      <th>product</th>\n",
       "      <th>num_sold</th>\n",
       "      <th>year</th>\n",
       "    </tr>\n",
       "  </thead>\n",
       "  <tbody>\n",
       "    <tr>\n",
       "      <th>0</th>\n",
       "      <td>0</td>\n",
       "      <td>2010-01-01</td>\n",
       "      <td>Canada</td>\n",
       "      <td>Discount Stickers</td>\n",
       "      <td>Holographic Goose</td>\n",
       "      <td>141.557387</td>\n",
       "      <td>2010</td>\n",
       "    </tr>\n",
       "    <tr>\n",
       "      <th>1</th>\n",
       "      <td>1</td>\n",
       "      <td>2010-01-01</td>\n",
       "      <td>Canada</td>\n",
       "      <td>Discount Stickers</td>\n",
       "      <td>Kaggle</td>\n",
       "      <td>973.000000</td>\n",
       "      <td>2010</td>\n",
       "    </tr>\n",
       "    <tr>\n",
       "      <th>2</th>\n",
       "      <td>2</td>\n",
       "      <td>2010-01-01</td>\n",
       "      <td>Canada</td>\n",
       "      <td>Discount Stickers</td>\n",
       "      <td>Kaggle Tiers</td>\n",
       "      <td>906.000000</td>\n",
       "      <td>2010</td>\n",
       "    </tr>\n",
       "    <tr>\n",
       "      <th>3</th>\n",
       "      <td>3</td>\n",
       "      <td>2010-01-01</td>\n",
       "      <td>Canada</td>\n",
       "      <td>Discount Stickers</td>\n",
       "      <td>Kerneler</td>\n",
       "      <td>423.000000</td>\n",
       "      <td>2010</td>\n",
       "    </tr>\n",
       "    <tr>\n",
       "      <th>4</th>\n",
       "      <td>4</td>\n",
       "      <td>2010-01-01</td>\n",
       "      <td>Canada</td>\n",
       "      <td>Discount Stickers</td>\n",
       "      <td>Kerneler Dark Mode</td>\n",
       "      <td>491.000000</td>\n",
       "      <td>2010</td>\n",
       "    </tr>\n",
       "  </tbody>\n",
       "</table>\n",
       "</div>"
      ],
      "text/plain": [
       "   id       date country              store             product    num_sold  \\\n",
       "0   0 2010-01-01  Canada  Discount Stickers   Holographic Goose  141.557387   \n",
       "1   1 2010-01-01  Canada  Discount Stickers              Kaggle  973.000000   \n",
       "2   2 2010-01-01  Canada  Discount Stickers        Kaggle Tiers  906.000000   \n",
       "3   3 2010-01-01  Canada  Discount Stickers            Kerneler  423.000000   \n",
       "4   4 2010-01-01  Canada  Discount Stickers  Kerneler Dark Mode  491.000000   \n",
       "\n",
       "   year  \n",
       "0  2010  \n",
       "1  2010  \n",
       "2  2010  \n",
       "3  2010  \n",
       "4  2010  "
      ]
     },
     "execution_count": 9,
     "metadata": {},
     "output_type": "execute_result"
    }
   ],
   "source": [
    "train_df_imputed.head()"
   ]
  },
  {
   "cell_type": "markdown",
   "id": "9346de55",
   "metadata": {
    "papermill": {
     "duration": 0.009891,
     "end_time": "2025-01-31T08:47:26.921018",
     "exception": false,
     "start_time": "2025-01-31T08:47:26.911127",
     "status": "completed"
    },
    "tags": []
   },
   "source": [
    "## Group the dates and calculate the total sales num_sold per day"
   ]
  },
  {
   "cell_type": "code",
   "execution_count": 10,
   "id": "f96f8c95",
   "metadata": {
    "execution": {
     "iopub.execute_input": "2025-01-31T08:47:26.943151Z",
     "iopub.status.busy": "2025-01-31T08:47:26.942744Z",
     "iopub.status.idle": "2025-01-31T08:47:26.978726Z",
     "shell.execute_reply": "2025-01-31T08:47:26.977501Z"
    },
    "papermill": {
     "duration": 0.050141,
     "end_time": "2025-01-31T08:47:26.981324",
     "exception": false,
     "start_time": "2025-01-31T08:47:26.931183",
     "status": "completed"
    },
    "tags": []
   },
   "outputs": [],
   "source": [
    "original_train_df_imputed = train_df_imputed.copy()\n",
    "train_df_imputed = train_df_imputed.groupby([\"date\"])[\"num_sold\"].sum().reset_index()"
   ]
  },
  {
   "cell_type": "code",
   "execution_count": 11,
   "id": "771e7a66",
   "metadata": {
    "execution": {
     "iopub.execute_input": "2025-01-31T08:47:27.004174Z",
     "iopub.status.busy": "2025-01-31T08:47:27.003124Z",
     "iopub.status.idle": "2025-01-31T08:47:27.014370Z",
     "shell.execute_reply": "2025-01-31T08:47:27.013145Z"
    },
    "papermill": {
     "duration": 0.024993,
     "end_time": "2025-01-31T08:47:27.016614",
     "exception": false,
     "start_time": "2025-01-31T08:47:26.991621",
     "status": "completed"
    },
    "tags": []
   },
   "outputs": [
    {
     "data": {
      "text/html": [
       "<div>\n",
       "<style scoped>\n",
       "    .dataframe tbody tr th:only-of-type {\n",
       "        vertical-align: middle;\n",
       "    }\n",
       "\n",
       "    .dataframe tbody tr th {\n",
       "        vertical-align: top;\n",
       "    }\n",
       "\n",
       "    .dataframe thead th {\n",
       "        text-align: right;\n",
       "    }\n",
       "</style>\n",
       "<table border=\"1\" class=\"dataframe\">\n",
       "  <thead>\n",
       "    <tr style=\"text-align: right;\">\n",
       "      <th></th>\n",
       "      <th>date</th>\n",
       "      <th>num_sold</th>\n",
       "    </tr>\n",
       "  </thead>\n",
       "  <tbody>\n",
       "    <tr>\n",
       "      <th>0</th>\n",
       "      <td>2010-01-01</td>\n",
       "      <td>85710.772635</td>\n",
       "    </tr>\n",
       "    <tr>\n",
       "      <th>1</th>\n",
       "      <td>2010-01-02</td>\n",
       "      <td>82699.983533</td>\n",
       "    </tr>\n",
       "    <tr>\n",
       "      <th>2</th>\n",
       "      <td>2010-01-03</td>\n",
       "      <td>88476.100742</td>\n",
       "    </tr>\n",
       "    <tr>\n",
       "      <th>3</th>\n",
       "      <td>2010-01-04</td>\n",
       "      <td>68206.949986</td>\n",
       "    </tr>\n",
       "    <tr>\n",
       "      <th>4</th>\n",
       "      <td>2010-01-05</td>\n",
       "      <td>65832.192575</td>\n",
       "    </tr>\n",
       "  </tbody>\n",
       "</table>\n",
       "</div>"
      ],
      "text/plain": [
       "        date      num_sold\n",
       "0 2010-01-01  85710.772635\n",
       "1 2010-01-02  82699.983533\n",
       "2 2010-01-03  88476.100742\n",
       "3 2010-01-04  68206.949986\n",
       "4 2010-01-05  65832.192575"
      ]
     },
     "execution_count": 11,
     "metadata": {},
     "output_type": "execute_result"
    }
   ],
   "source": [
    "train_df_imputed.head()"
   ]
  },
  {
   "cell_type": "markdown",
   "id": "4349f110",
   "metadata": {
    "papermill": {
     "duration": 0.009924,
     "end_time": "2025-01-31T08:47:27.036979",
     "exception": false,
     "start_time": "2025-01-31T08:47:27.027055",
     "status": "completed"
    },
    "tags": []
   },
   "source": [
    "## The weekly effect was normalized"
   ]
  },
  {
   "cell_type": "code",
   "execution_count": 12,
   "id": "a52449c6",
   "metadata": {
    "execution": {
     "iopub.execute_input": "2025-01-31T08:47:27.059254Z",
     "iopub.status.busy": "2025-01-31T08:47:27.058853Z",
     "iopub.status.idle": "2025-01-31T08:47:27.083909Z",
     "shell.execute_reply": "2025-01-31T08:47:27.082830Z"
    },
    "papermill": {
     "duration": 0.039354,
     "end_time": "2025-01-31T08:47:27.086700",
     "exception": false,
     "start_time": "2025-01-31T08:47:27.047346",
     "status": "completed"
    },
    "tags": []
   },
   "outputs": [
    {
     "data": {
      "text/plain": [
       "day_of_week\n",
       "0    0.943221\n",
       "1    0.943352\n",
       "2    0.943859\n",
       "3    0.943747\n",
       "4    1.000503\n",
       "5    1.056331\n",
       "6    1.168988\n",
       "Name: day_of_week_ratios, dtype: float64"
      ]
     },
     "metadata": {},
     "output_type": "display_data"
    }
   ],
   "source": [
    "train_df_imputed[\"day_of_week\"] = train_df_imputed[\"date\"].dt.dayofweek\n",
    "day_of_week_ratio = (train_df_imputed.groupby(\"day_of_week\")[\"num_sold\"].mean() / train_df_imputed.groupby(\"day_of_week\")[\"num_sold\"].mean().mean()).rename(\"day_of_week_ratios\")\n",
    "display(day_of_week_ratio)\n",
    "train_df_imputed = pd.merge(train_df_imputed, day_of_week_ratio, how=\"left\", on=\"day_of_week\")\n",
    "train_df_imputed[\"num_sold\"] = train_df_imputed[\"num_sold\"] / train_df_imputed[\"day_of_week_ratios\"]\n",
    "train_df_imputed = train_df_imputed.drop(\"day_of_week_ratios\",axis=1)# we don't need it in training."
   ]
  },
  {
   "cell_type": "markdown",
   "id": "19bdc96c",
   "metadata": {
    "papermill": {
     "duration": 0.010208,
     "end_time": "2025-01-31T08:47:27.107499",
     "exception": false,
     "start_time": "2025-01-31T08:47:27.097291",
     "status": "completed"
    },
    "tags": []
   },
   "source": [
    "## Fetch date column"
   ]
  },
  {
   "cell_type": "code",
   "execution_count": 13,
   "id": "0a598227",
   "metadata": {
    "execution": {
     "iopub.execute_input": "2025-01-31T08:47:27.130137Z",
     "iopub.status.busy": "2025-01-31T08:47:27.129736Z",
     "iopub.status.idle": "2025-01-31T08:47:27.141566Z",
     "shell.execute_reply": "2025-01-31T08:47:27.140680Z"
    },
    "papermill": {
     "duration": 0.026083,
     "end_time": "2025-01-31T08:47:27.144108",
     "exception": false,
     "start_time": "2025-01-31T08:47:27.118025",
     "status": "completed"
    },
    "tags": []
   },
   "outputs": [],
   "source": [
    "test_total_sales_df = test_df.groupby([\"date\"])[\"id\"].first().reset_index().drop(columns=\"id\")\n",
    "test_total_sales_dates = test_total_sales_df[[\"date\"]]"
   ]
  },
  {
   "cell_type": "markdown",
   "id": "5eccafd8",
   "metadata": {
    "papermill": {
     "duration": 0.010397,
     "end_time": "2025-01-31T08:47:27.165191",
     "exception": false,
     "start_time": "2025-01-31T08:47:27.154794",
     "status": "completed"
    },
    "tags": []
   },
   "source": [
    "# Feature engineering"
   ]
  },
  {
   "cell_type": "code",
   "execution_count": 14,
   "id": "c98f120b",
   "metadata": {
    "execution": {
     "iopub.execute_input": "2025-01-31T08:47:27.188311Z",
     "iopub.status.busy": "2025-01-31T08:47:27.187896Z",
     "iopub.status.idle": "2025-01-31T08:47:27.201622Z",
     "shell.execute_reply": "2025-01-31T08:47:27.200509Z"
    },
    "papermill": {
     "duration": 0.02823,
     "end_time": "2025-01-31T08:47:27.204044",
     "exception": false,
     "start_time": "2025-01-31T08:47:27.175814",
     "status": "completed"
    },
    "tags": []
   },
   "outputs": [],
   "source": [
    "def feature_engineer(df):\n",
    "    new_df = df.copy()\n",
    "    new_df[\"month\"] = df[\"date\"].dt.month\n",
    "    new_df[\"month_sin\"] = np.sin(new_df['month'] * (2 * np.pi / 12))\n",
    "    new_df[\"month_cos\"] = np.cos(new_df['month'] * (2 * np.pi / 12))\n",
    "    new_df[\"day_of_week\"] = df[\"date\"].dt.dayofweek\n",
    "    new_df[\"day_of_week\"] = new_df[\"day_of_week\"].apply(lambda x: 0 if x<=3 else(1 if x==4 else (2 if x==5 else (3))))    \n",
    "    new_df[\"day_of_year\"] = df['date'].apply(\n",
    "        lambda x: x.timetuple().tm_yday if not (x.is_leap_year and x.month > 2) else x.timetuple().tm_yday - 1\n",
    "    )\n",
    "\n",
    "    new_df['day_sin4'] = np.sin(new_df['day_of_year'] * (8 * np.pi /  365.0))\n",
    "    new_df['day_cos4'] = np.cos(new_df['day_of_year'] * (8 * np.pi /  365.0))\n",
    "    new_df['day_sin3'] = np.sin(new_df['day_of_year'] * (6 * np.pi /  365.0))\n",
    "    new_df['day_cos3'] = np.cos(new_df['day_of_year'] * (6 * np.pi /  365.0))\n",
    "    new_df['day_sin2'] = np.sin(new_df['day_of_year'] * (4 * np.pi /  365.0))\n",
    "    new_df['day_cos2'] = np.cos(new_df['day_of_year'] * (4 * np.pi /  365.0))\n",
    "    new_df['day_sin'] = np.sin(new_df['day_of_year'] * (2 * np.pi /  365.0))\n",
    "    new_df['day_cos'] = np.cos(new_df['day_of_year'] * (2 * np.pi /  365.0)) \n",
    "    new_df['day_sin_0.5'] = np.sin(new_df['day_of_year'] * (1 * np.pi /  365.0))\n",
    "    new_df['day_cos_0.5'] = np.cos(new_df['day_of_year'] * (1 * np.pi /  365.0))    \n",
    "    new_df[\"important_dates\"] = new_df[\"day_of_year\"].apply(lambda x: x if x in [1,2,3,4,5,6,7,8,9,10,99, 100, 101, 125,126,355,256,357,358,359,360,361,362,363,364,365] else 0)\n",
    "    \n",
    "    new_df = new_df.drop(columns=[\"date\",\"month\",\"day_of_year\"])\n",
    "    new_df = pd.get_dummies(new_df, columns = [\"important_dates\",\"day_of_week\"], drop_first=True)\n",
    "    \n",
    "    return new_df"
   ]
  },
  {
   "cell_type": "code",
   "execution_count": 15,
   "id": "f0591df8",
   "metadata": {
    "execution": {
     "iopub.execute_input": "2025-01-31T08:47:27.227832Z",
     "iopub.status.busy": "2025-01-31T08:47:27.227464Z",
     "iopub.status.idle": "2025-01-31T08:47:27.288035Z",
     "shell.execute_reply": "2025-01-31T08:47:27.287087Z"
    },
    "papermill": {
     "duration": 0.075517,
     "end_time": "2025-01-31T08:47:27.290670",
     "exception": false,
     "start_time": "2025-01-31T08:47:27.215153",
     "status": "completed"
    },
    "tags": []
   },
   "outputs": [],
   "source": [
    "train_total_sales_df = feature_engineer(train_df_imputed)\n",
    "test_total_sales_df = feature_engineer(test_total_sales_df)"
   ]
  },
  {
   "cell_type": "markdown",
   "id": "93281e5e",
   "metadata": {
    "papermill": {
     "duration": 0.010281,
     "end_time": "2025-01-31T08:47:27.312114",
     "exception": false,
     "start_time": "2025-01-31T08:47:27.301833",
     "status": "completed"
    },
    "tags": []
   },
   "source": [
    "## import holidays"
   ]
  },
  {
   "cell_type": "code",
   "execution_count": 16,
   "id": "282e615f",
   "metadata": {
    "execution": {
     "iopub.execute_input": "2025-01-31T08:47:27.335450Z",
     "iopub.status.busy": "2025-01-31T08:47:27.334467Z",
     "iopub.status.idle": "2025-01-31T08:47:27.789731Z",
     "shell.execute_reply": "2025-01-31T08:47:27.788813Z"
    },
    "papermill": {
     "duration": 0.469649,
     "end_time": "2025-01-31T08:47:27.792276",
     "exception": false,
     "start_time": "2025-01-31T08:47:27.322627",
     "status": "completed"
    },
    "tags": []
   },
   "outputs": [],
   "source": [
    "import holidays\n",
    "train_df_tmp = train_df.copy()\n",
    "test_df_tmp = test_df.copy()\n",
    "alpha2 = dict(zip(np.sort(train_df.country.unique()), ['CA', 'FI', 'IT', 'KE', 'NO', 'SG']))\n",
    "h = {c: holidays.country_holidays(a, years=range(2010, 2020)) for c, a in alpha2.items()}\n",
    "train_df_tmp['is_holiday'] = 0\n",
    "test_df_tmp['is_holiday'] = 0\n",
    "for c in alpha2:\n",
    "    train_df_tmp.loc[train_df_tmp.country==c, 'is_holiday'] = train_df_tmp.date.isin(h[c]).astype(int)\n",
    "    test_df_tmp.loc[test_df_tmp.country==c, 'is_holiday'] = test_df_tmp.date.isin(h[c]).astype(int)\n",
    "\n",
    "\n",
    "train_total_sales_df['is_holiday'] = (train_df_tmp.groupby([\"date\"])[\"is_holiday\"].sum().reset_index())[\"is_holiday\"]\n",
    "test_total_sales_df['is_holiday'] = (test_df_tmp.groupby([\"date\"])[\"is_holiday\"].sum().reset_index())[\"is_holiday\"]"
   ]
  },
  {
   "cell_type": "code",
   "execution_count": 17,
   "id": "380cc60b",
   "metadata": {
    "execution": {
     "iopub.execute_input": "2025-01-31T08:47:27.815301Z",
     "iopub.status.busy": "2025-01-31T08:47:27.814928Z",
     "iopub.status.idle": "2025-01-31T08:47:27.822677Z",
     "shell.execute_reply": "2025-01-31T08:47:27.821683Z"
    },
    "papermill": {
     "duration": 0.021905,
     "end_time": "2025-01-31T08:47:27.824937",
     "exception": false,
     "start_time": "2025-01-31T08:47:27.803032",
     "status": "completed"
    },
    "tags": []
   },
   "outputs": [],
   "source": [
    "y = train_total_sales_df[\"num_sold\"]\n",
    "X = train_total_sales_df.drop(columns=\"num_sold\")\n",
    "X_test = test_total_sales_df"
   ]
  },
  {
   "cell_type": "code",
   "execution_count": 18,
   "id": "bd22c675",
   "metadata": {
    "execution": {
     "iopub.execute_input": "2025-01-31T08:47:27.847964Z",
     "iopub.status.busy": "2025-01-31T08:47:27.847516Z",
     "iopub.status.idle": "2025-01-31T08:47:27.870501Z",
     "shell.execute_reply": "2025-01-31T08:47:27.869409Z"
    },
    "papermill": {
     "duration": 0.037222,
     "end_time": "2025-01-31T08:47:27.872862",
     "exception": false,
     "start_time": "2025-01-31T08:47:27.835640",
     "status": "completed"
    },
    "tags": []
   },
   "outputs": [
    {
     "data": {
      "text/html": [
       "<div>\n",
       "<style scoped>\n",
       "    .dataframe tbody tr th:only-of-type {\n",
       "        vertical-align: middle;\n",
       "    }\n",
       "\n",
       "    .dataframe tbody tr th {\n",
       "        vertical-align: top;\n",
       "    }\n",
       "\n",
       "    .dataframe thead th {\n",
       "        text-align: right;\n",
       "    }\n",
       "</style>\n",
       "<table border=\"1\" class=\"dataframe\">\n",
       "  <thead>\n",
       "    <tr style=\"text-align: right;\">\n",
       "      <th></th>\n",
       "      <th>month_sin</th>\n",
       "      <th>month_cos</th>\n",
       "      <th>day_sin4</th>\n",
       "      <th>day_cos4</th>\n",
       "      <th>day_sin3</th>\n",
       "      <th>day_cos3</th>\n",
       "      <th>day_sin2</th>\n",
       "      <th>day_cos2</th>\n",
       "      <th>day_sin</th>\n",
       "      <th>day_cos</th>\n",
       "      <th>...</th>\n",
       "      <th>important_dates_360</th>\n",
       "      <th>important_dates_361</th>\n",
       "      <th>important_dates_362</th>\n",
       "      <th>important_dates_363</th>\n",
       "      <th>important_dates_364</th>\n",
       "      <th>important_dates_365</th>\n",
       "      <th>day_of_week_1</th>\n",
       "      <th>day_of_week_2</th>\n",
       "      <th>day_of_week_3</th>\n",
       "      <th>is_holiday</th>\n",
       "    </tr>\n",
       "  </thead>\n",
       "  <tbody>\n",
       "    <tr>\n",
       "      <th>0</th>\n",
       "      <td>0.5</td>\n",
       "      <td>0.866025</td>\n",
       "      <td>0.068802</td>\n",
       "      <td>0.997630</td>\n",
       "      <td>0.051620</td>\n",
       "      <td>0.998667</td>\n",
       "      <td>0.034422</td>\n",
       "      <td>0.999407</td>\n",
       "      <td>0.017213</td>\n",
       "      <td>0.999852</td>\n",
       "      <td>...</td>\n",
       "      <td>0</td>\n",
       "      <td>0</td>\n",
       "      <td>0</td>\n",
       "      <td>0</td>\n",
       "      <td>0</td>\n",
       "      <td>0</td>\n",
       "      <td>1</td>\n",
       "      <td>0</td>\n",
       "      <td>0</td>\n",
       "      <td>90</td>\n",
       "    </tr>\n",
       "    <tr>\n",
       "      <th>1</th>\n",
       "      <td>0.5</td>\n",
       "      <td>0.866025</td>\n",
       "      <td>0.137279</td>\n",
       "      <td>0.990532</td>\n",
       "      <td>0.103102</td>\n",
       "      <td>0.994671</td>\n",
       "      <td>0.068802</td>\n",
       "      <td>0.997630</td>\n",
       "      <td>0.034422</td>\n",
       "      <td>0.999407</td>\n",
       "      <td>...</td>\n",
       "      <td>0</td>\n",
       "      <td>0</td>\n",
       "      <td>0</td>\n",
       "      <td>0</td>\n",
       "      <td>0</td>\n",
       "      <td>0</td>\n",
       "      <td>0</td>\n",
       "      <td>1</td>\n",
       "      <td>0</td>\n",
       "      <td>0</td>\n",
       "    </tr>\n",
       "    <tr>\n",
       "      <th>2</th>\n",
       "      <td>0.5</td>\n",
       "      <td>0.866025</td>\n",
       "      <td>0.205104</td>\n",
       "      <td>0.978740</td>\n",
       "      <td>0.154309</td>\n",
       "      <td>0.988023</td>\n",
       "      <td>0.103102</td>\n",
       "      <td>0.994671</td>\n",
       "      <td>0.051620</td>\n",
       "      <td>0.998667</td>\n",
       "      <td>...</td>\n",
       "      <td>0</td>\n",
       "      <td>0</td>\n",
       "      <td>0</td>\n",
       "      <td>0</td>\n",
       "      <td>0</td>\n",
       "      <td>0</td>\n",
       "      <td>0</td>\n",
       "      <td>0</td>\n",
       "      <td>1</td>\n",
       "      <td>0</td>\n",
       "    </tr>\n",
       "    <tr>\n",
       "      <th>3</th>\n",
       "      <td>0.5</td>\n",
       "      <td>0.866025</td>\n",
       "      <td>0.271958</td>\n",
       "      <td>0.962309</td>\n",
       "      <td>0.205104</td>\n",
       "      <td>0.978740</td>\n",
       "      <td>0.137279</td>\n",
       "      <td>0.990532</td>\n",
       "      <td>0.068802</td>\n",
       "      <td>0.997630</td>\n",
       "      <td>...</td>\n",
       "      <td>0</td>\n",
       "      <td>0</td>\n",
       "      <td>0</td>\n",
       "      <td>0</td>\n",
       "      <td>0</td>\n",
       "      <td>0</td>\n",
       "      <td>0</td>\n",
       "      <td>0</td>\n",
       "      <td>0</td>\n",
       "      <td>0</td>\n",
       "    </tr>\n",
       "    <tr>\n",
       "      <th>4</th>\n",
       "      <td>0.5</td>\n",
       "      <td>0.866025</td>\n",
       "      <td>0.337523</td>\n",
       "      <td>0.941317</td>\n",
       "      <td>0.255353</td>\n",
       "      <td>0.966848</td>\n",
       "      <td>0.171293</td>\n",
       "      <td>0.985220</td>\n",
       "      <td>0.085965</td>\n",
       "      <td>0.996298</td>\n",
       "      <td>...</td>\n",
       "      <td>0</td>\n",
       "      <td>0</td>\n",
       "      <td>0</td>\n",
       "      <td>0</td>\n",
       "      <td>0</td>\n",
       "      <td>0</td>\n",
       "      <td>0</td>\n",
       "      <td>0</td>\n",
       "      <td>0</td>\n",
       "      <td>0</td>\n",
       "    </tr>\n",
       "  </tbody>\n",
       "</table>\n",
       "<p>5 rows × 42 columns</p>\n",
       "</div>"
      ],
      "text/plain": [
       "   month_sin  month_cos  day_sin4  day_cos4  day_sin3  day_cos3  day_sin2  \\\n",
       "0        0.5   0.866025  0.068802  0.997630  0.051620  0.998667  0.034422   \n",
       "1        0.5   0.866025  0.137279  0.990532  0.103102  0.994671  0.068802   \n",
       "2        0.5   0.866025  0.205104  0.978740  0.154309  0.988023  0.103102   \n",
       "3        0.5   0.866025  0.271958  0.962309  0.205104  0.978740  0.137279   \n",
       "4        0.5   0.866025  0.337523  0.941317  0.255353  0.966848  0.171293   \n",
       "\n",
       "   day_cos2   day_sin   day_cos  ...  important_dates_360  \\\n",
       "0  0.999407  0.017213  0.999852  ...                    0   \n",
       "1  0.997630  0.034422  0.999407  ...                    0   \n",
       "2  0.994671  0.051620  0.998667  ...                    0   \n",
       "3  0.990532  0.068802  0.997630  ...                    0   \n",
       "4  0.985220  0.085965  0.996298  ...                    0   \n",
       "\n",
       "   important_dates_361  important_dates_362  important_dates_363  \\\n",
       "0                    0                    0                    0   \n",
       "1                    0                    0                    0   \n",
       "2                    0                    0                    0   \n",
       "3                    0                    0                    0   \n",
       "4                    0                    0                    0   \n",
       "\n",
       "   important_dates_364  important_dates_365  day_of_week_1  day_of_week_2  \\\n",
       "0                    0                    0              1              0   \n",
       "1                    0                    0              0              1   \n",
       "2                    0                    0              0              0   \n",
       "3                    0                    0              0              0   \n",
       "4                    0                    0              0              0   \n",
       "\n",
       "   day_of_week_3  is_holiday  \n",
       "0              0          90  \n",
       "1              0           0  \n",
       "2              1           0  \n",
       "3              0           0  \n",
       "4              0           0  \n",
       "\n",
       "[5 rows x 42 columns]"
      ]
     },
     "execution_count": 18,
     "metadata": {},
     "output_type": "execute_result"
    }
   ],
   "source": [
    "X.head()"
   ]
  },
  {
   "cell_type": "markdown",
   "id": "850499ec",
   "metadata": {
    "papermill": {
     "duration": 0.010341,
     "end_time": "2025-01-31T08:47:27.894193",
     "exception": false,
     "start_time": "2025-01-31T08:47:27.883852",
     "status": "completed"
    },
    "tags": []
   },
   "source": [
    "## hill climbing"
   ]
  },
  {
   "cell_type": "code",
   "execution_count": 19,
   "id": "2caf08c8",
   "metadata": {
    "execution": {
     "iopub.execute_input": "2025-01-31T08:47:27.917609Z",
     "iopub.status.busy": "2025-01-31T08:47:27.917180Z",
     "iopub.status.idle": "2025-01-31T08:47:27.926641Z",
     "shell.execute_reply": "2025-01-31T08:47:27.925581Z"
    },
    "papermill": {
     "duration": 0.024119,
     "end_time": "2025-01-31T08:47:27.928919",
     "exception": false,
     "start_time": "2025-01-31T08:47:27.904800",
     "status": "completed"
    },
    "tags": []
   },
   "outputs": [],
   "source": [
    "import numpy as np\n",
    "\n",
    "class LinearModel1:\n",
    "    def fit(self, X, y=None):\n",
    "        pass\n",
    "\n",
    "    def predict(self, X):\n",
    "        return self.nonlinear(X)\n",
    "\n",
    "    def nonlinear(self, X):\n",
    "        y = (\n",
    "            X.important_dates_1 * 14514.153142903406 +\n",
    "            X.important_dates_6 +\n",
    "            X.important_dates_99 -\n",
    "            X.important_dates_359 +\n",
    "            X.important_dates_363 * 23245.947607750375 +\n",
    "            64795.970182750174 -\n",
    "            ((X.important_dates_362 + np.sqrt(X.important_dates_364 + X.important_dates_365)) *\n",
    "             ((X.important_dates_2 - X.important_dates_10) * (X.important_dates_101 + X.month_sin) +\n",
    "              X.important_dates_362 - 19142.637752625015))\n",
    "        )\n",
    "        return y\n",
    "\n",
    "class LinearModel2:\n",
    "    def fit(self, X, y=None):\n",
    "        pass\n",
    "\n",
    "    def predict(self, X):\n",
    "        return self.nonlinear(X)\n",
    "\n",
    "    def nonlinear(self, X):\n",
    "        y = X.month_sin*210.148+\\\n",
    "            (X.important_dates_1+X.important_dates_362+X.important_dates_363+X.important_dates_364+X.important_dates_365)*19472.7071+\\\n",
    "            X.important_dates_4*X.month_sin+\\\n",
    "            65141.2073\n",
    "            \n",
    "        return y\n"
   ]
  },
  {
   "cell_type": "markdown",
   "id": "523d6ee2",
   "metadata": {
    "papermill": {
     "duration": 0.010896,
     "end_time": "2025-01-31T08:47:27.950351",
     "exception": false,
     "start_time": "2025-01-31T08:47:27.939455",
     "status": "completed"
    },
    "tags": []
   },
   "source": [
    "# Model"
   ]
  },
  {
   "cell_type": "markdown",
   "id": "a5c2cb7d",
   "metadata": {
    "papermill": {
     "duration": 0.010226,
     "end_time": "2025-01-31T08:47:27.971220",
     "exception": false,
     "start_time": "2025-01-31T08:47:27.960994",
     "status": "completed"
    },
    "tags": []
   },
   "source": [
    "## Multi-model"
   ]
  },
  {
   "cell_type": "code",
   "execution_count": 20,
   "id": "e073527f",
   "metadata": {
    "execution": {
     "iopub.execute_input": "2025-01-31T08:47:27.994485Z",
     "iopub.status.busy": "2025-01-31T08:47:27.994114Z",
     "iopub.status.idle": "2025-01-31T08:47:28.004660Z",
     "shell.execute_reply": "2025-01-31T08:47:28.003495Z"
    },
    "papermill": {
     "duration": 0.025424,
     "end_time": "2025-01-31T08:47:28.007513",
     "exception": false,
     "start_time": "2025-01-31T08:47:27.982089",
     "status": "completed"
    },
    "tags": []
   },
   "outputs": [],
   "source": [
    "regressors = {\n",
    "    \"Ridge\" : Ridge(tol=1e-2, max_iter=1000000, random_state=0),\n",
    "    \"Lasso\" : Lasso(tol=1e-2, max_iter=1000000, random_state=0),\n",
    "    #\"nonlinear1\" : LinearModel1(),\n",
    "    #\"nonlinear2\" : LinearModel2(),\n",
    "    \"LGBM1\": LGBMRegressor(**{'objective': 'regression_l2',\n",
    "                               'metric': 'mape', \n",
    "                               'max_depth': 7,\n",
    "                               'num_leaves': 123, \n",
    "                               'min_child_samples': 21,\n",
    "                               'min_child_weight': 24,\n",
    "                               'colsample_bytree': 0.3641261996760593, \n",
    "                               'reg_alpha': 0.03632800166349373, \n",
    "                               'reg_lambda': 0.5287861861476272,\n",
    "                               'random_state': 42,\n",
    "                               'early_stopping_round':200,\n",
    "                               'verbose': -1,\n",
    "                               'boosting_type': 'gbdt',\n",
    "                               'n_estimators': 3000,\n",
    "                               'learning_rate': 0.01,\n",
    "                               }),\n",
    "    \"LGBM2\": LGBMRegressor(**{'objective': 'regression_l2',\n",
    "                               'metric': 'mape',\n",
    "                               'max_depth': 6,\n",
    "                               'num_leaves': 502,\n",
    "                               'min_child_samples': 23,\n",
    "                               'min_child_weight': 18, \n",
    "                               'colsample_bytree': 0.4714820876493163, \n",
    "                               'reg_alpha': 0.054972003081022576, \n",
    "                               'reg_lambda': 0.5774608955362155,\n",
    "                               'random_state': 42,\n",
    "                               'early_stopping_round': 200,\n",
    "                               'verbose': -1,\n",
    "                               'boosting_type': 'goss',\n",
    "                               'n_estimators': 3000,\n",
    "                               'learning_rate': 0.01,\n",
    "                              }),\n",
    "    \"LGBM3\": LGBMRegressor(**{'objective': 'regression_l2', \n",
    "                               'metric': 'mape',\n",
    "                               'max_depth': 14,\n",
    "                               'num_leaves': 279,\n",
    "                               'min_child_samples': 7,\n",
    "                               'min_child_weight': 24, \n",
    "                               'colsample_bytree': 0.43218993309765835,\n",
    "                               'reg_alpha': 0.42757392987472964,\n",
    "                               'reg_lambda': 0.9039762787446107,\n",
    "                               'random_state': 42,\n",
    "                               'early_stopping_round': 200,\n",
    "                               'verbose': -1,\n",
    "                               'boosting_type': 'goss',\n",
    "                               'n_estimators': 3000,\n",
    "                               'learning_rate': 0.01,\n",
    "                               }),\n",
    "   \n",
    "}"
   ]
  },
  {
   "cell_type": "markdown",
   "id": "8d07a669",
   "metadata": {
    "papermill": {
     "duration": 0.010831,
     "end_time": "2025-01-31T08:47:28.029369",
     "exception": false,
     "start_time": "2025-01-31T08:47:28.018538",
     "status": "completed"
    },
    "tags": []
   },
   "source": [
    "## Cross-validation trains, validates, and generates predictions"
   ]
  },
  {
   "cell_type": "code",
   "execution_count": 21,
   "id": "398137b6",
   "metadata": {
    "execution": {
     "iopub.execute_input": "2025-01-31T08:47:28.053129Z",
     "iopub.status.busy": "2025-01-31T08:47:28.052168Z",
     "iopub.status.idle": "2025-01-31T08:47:40.740536Z",
     "shell.execute_reply": "2025-01-31T08:47:40.738290Z"
    },
    "papermill": {
     "duration": 12.702598,
     "end_time": "2025-01-31T08:47:40.742887",
     "exception": false,
     "start_time": "2025-01-31T08:47:28.040289",
     "status": "completed"
    },
    "tags": []
   },
   "outputs": [
    {
     "name": "stdout",
     "output_type": "stream",
     "text": [
      "Model: Ridge\n",
      "Average validation MAPE: 0.08440518859085111\n",
      "Training time (mins): 0.0\n",
      "\n",
      "Model: Lasso\n",
      "Average validation MAPE: 0.08435849808849315\n",
      "Training time (mins): 0.0\n",
      "\n",
      "Model: LGBM1\n",
      "Average validation MAPE: 0.08073235533559192\n",
      "Training time (mins): 0.01\n",
      "\n",
      "Model: LGBM2\n",
      "Average validation MAPE: 0.0808120781700295\n",
      "Training time (mins): 0.01\n",
      "\n",
      "Model: LGBM3\n",
      "Average validation MAPE: 0.07996375976095851\n",
      "Training time (mins): 0.02\n",
      "\n"
     ]
    }
   ],
   "source": [
    "import time\n",
    "from sklearn.model_selection import KFold\n",
    "n_folds = 5\n",
    "\n",
    "for key, reg in regressors.items():\n",
    "    test_preds = np.zeros(len(X_test))\n",
    "    oof_full = y.copy()\n",
    "\n",
    "    start = time.time()\n",
    "\n",
    "    cv = KFold(n_splits=n_folds, shuffle=False)\n",
    "    score=0\n",
    "    for fold, (train_idx, val_idx) in enumerate(cv.split(X, y)):\n",
    "        X_train, X_valid = X.iloc[train_idx], X.iloc[val_idx]\n",
    "        y_train, y_valid = y.iloc[train_idx], y.iloc[val_idx]\n",
    "        start = time.time()\n",
    "        if \"LGBM\" in key:\n",
    "            reg.fit(X_train, y_train,\n",
    "                   eval_set = [(X_valid, y_valid)], \n",
    "                                       callbacks = [log_evaluation(0),\n",
    "                                                    early_stopping(200, verbose = False)\n",
    "                                                   ])\n",
    "            \n",
    "        else:\n",
    "            reg.fit(X_train, y_train)\n",
    "        oof_preds = reg.predict(X_valid)\n",
    "        score += mean_absolute_percentage_error(y_valid, oof_preds)/n_folds\n",
    "        oof_full[val_idx] = oof_preds\n",
    "        \n",
    "        test_preds += reg.predict(X_test)/n_folds\n",
    "    \n",
    "    # Stop timer\n",
    "    stop = time.time()\n",
    "    \n",
    "    print('Model:', key)\n",
    "    print('Average validation MAPE:', score)\n",
    "    print('Training time (mins):', np.round((stop - start)/60,2))\n",
    "    print('')\n",
    "    \n",
    "\n",
    "    oof_full.to_csv(f\"{key}_oof_preds.csv\", index=False)\n",
    "    ss = pd.DataFrame()\n",
    "    ss[\"num_sold\"] = test_preds\n",
    "    ss.to_csv(f\"{key}_test_preds.csv\", index=False)\n"
   ]
  },
  {
   "cell_type": "markdown",
   "id": "9fadb57a",
   "metadata": {
    "papermill": {
     "duration": 0.010386,
     "end_time": "2025-01-31T08:47:40.766103",
     "exception": false,
     "start_time": "2025-01-31T08:47:40.755717",
     "status": "completed"
    },
    "tags": []
   },
   "source": [
    "## Combine oof_preds and test_preds into a single DataFrame"
   ]
  },
  {
   "cell_type": "code",
   "execution_count": 22,
   "id": "36c0fbe5",
   "metadata": {
    "execution": {
     "iopub.execute_input": "2025-01-31T08:47:40.789781Z",
     "iopub.status.busy": "2025-01-31T08:47:40.789392Z",
     "iopub.status.idle": "2025-01-31T08:47:40.829841Z",
     "shell.execute_reply": "2025-01-31T08:47:40.828850Z"
    },
    "papermill": {
     "duration": 0.055165,
     "end_time": "2025-01-31T08:47:40.832348",
     "exception": false,
     "start_time": "2025-01-31T08:47:40.777183",
     "status": "completed"
    },
    "tags": []
   },
   "outputs": [
    {
     "data": {
      "text/html": [
       "<div>\n",
       "<style scoped>\n",
       "    .dataframe tbody tr th:only-of-type {\n",
       "        vertical-align: middle;\n",
       "    }\n",
       "\n",
       "    .dataframe tbody tr th {\n",
       "        vertical-align: top;\n",
       "    }\n",
       "\n",
       "    .dataframe thead th {\n",
       "        text-align: right;\n",
       "    }\n",
       "</style>\n",
       "<table border=\"1\" class=\"dataframe\">\n",
       "  <thead>\n",
       "    <tr style=\"text-align: right;\">\n",
       "      <th></th>\n",
       "      <th>Ridge</th>\n",
       "      <th>Lasso</th>\n",
       "      <th>LGBM1</th>\n",
       "      <th>LGBM2</th>\n",
       "      <th>LGBM3</th>\n",
       "    </tr>\n",
       "  </thead>\n",
       "  <tbody>\n",
       "    <tr>\n",
       "      <th>0</th>\n",
       "      <td>75330.614509</td>\n",
       "      <td>76595.240988</td>\n",
       "      <td>74999.827138</td>\n",
       "      <td>75281.161428</td>\n",
       "      <td>75769.424313</td>\n",
       "    </tr>\n",
       "    <tr>\n",
       "      <th>1</th>\n",
       "      <td>70191.310186</td>\n",
       "      <td>70729.684771</td>\n",
       "      <td>68918.998778</td>\n",
       "      <td>73478.208949</td>\n",
       "      <td>72694.366916</td>\n",
       "    </tr>\n",
       "    <tr>\n",
       "      <th>2</th>\n",
       "      <td>69111.721455</td>\n",
       "      <td>69407.623220</td>\n",
       "      <td>69128.151179</td>\n",
       "      <td>71917.216685</td>\n",
       "      <td>70826.117241</td>\n",
       "    </tr>\n",
       "  </tbody>\n",
       "</table>\n",
       "</div>"
      ],
      "text/plain": [
       "          Ridge         Lasso         LGBM1         LGBM2         LGBM3\n",
       "0  75330.614509  76595.240988  74999.827138  75281.161428  75769.424313\n",
       "1  70191.310186  70729.684771  68918.998778  73478.208949  72694.366916\n",
       "2  69111.721455  69407.623220  69128.151179  71917.216685  70826.117241"
      ]
     },
     "execution_count": 22,
     "metadata": {},
     "output_type": "execute_result"
    }
   ],
   "source": [
    "oof_df = pd.DataFrame(index=np.arange(len(y)))\n",
    "for i in regressors.keys():\n",
    "    df = pd.read_csv(f\"/kaggle/working/{i}_oof_preds.csv\")\n",
    "    df.rename(columns={\"num_sold\": i}, inplace=True)\n",
    "    oof_df = pd.concat([oof_df,df], axis=1)\n",
    "    \n",
    "# Join test preds\n",
    "test_preds = pd.DataFrame(index=np.arange(len(X_test)))\n",
    "for i in regressors.keys():\n",
    "    df = pd.read_csv(f\"/kaggle/working/{i}_test_preds.csv\")\n",
    "    df.rename(columns={\"num_sold\": i}, inplace=True)\n",
    "    test_preds = pd.concat([test_preds,df], axis=1)\n",
    "    \n",
    "oof_df.head(3)"
   ]
  },
  {
   "cell_type": "markdown",
   "id": "9703ff7a",
   "metadata": {
    "papermill": {
     "duration": 0.010764,
     "end_time": "2025-01-31T08:47:40.854167",
     "exception": false,
     "start_time": "2025-01-31T08:47:40.843403",
     "status": "completed"
    },
    "tags": []
   },
   "source": [
    "## Calculation model score"
   ]
  },
  {
   "cell_type": "code",
   "execution_count": 23,
   "id": "5b3c556b",
   "metadata": {
    "execution": {
     "iopub.execute_input": "2025-01-31T08:47:40.878488Z",
     "iopub.status.busy": "2025-01-31T08:47:40.877680Z",
     "iopub.status.idle": "2025-01-31T08:47:40.892479Z",
     "shell.execute_reply": "2025-01-31T08:47:40.891335Z"
    },
    "papermill": {
     "duration": 0.029355,
     "end_time": "2025-01-31T08:47:40.894695",
     "exception": false,
     "start_time": "2025-01-31T08:47:40.865340",
     "status": "completed"
    },
    "tags": []
   },
   "outputs": [
    {
     "data": {
      "text/plain": [
       "{'LGBM3': 0.079962254108881,\n",
       " 'LGBM1': 0.08072845892198309,\n",
       " 'LGBM2': 0.08080981792575927,\n",
       " 'Lasso': 0.08435752973416218,\n",
       " 'Ridge': 0.08440420535034757}"
      ]
     },
     "execution_count": 23,
     "metadata": {},
     "output_type": "execute_result"
    }
   ],
   "source": [
    "# Evaluate oof preds\n",
    "scores = {}\n",
    "for col in oof_df.columns:\n",
    "    scores[col] = mean_absolute_percentage_error(y, oof_df[col])\n",
    "\n",
    "# Sort scores\n",
    "    scores = {k: v for k, v in sorted(scores.items(), key=lambda item: item[1], reverse=False)}\n",
    "\n",
    "# Sort oof_df and test_preds\n",
    "oof_df = oof_df[list(scores.keys())]\n",
    "test_preds = test_preds[list(scores.keys())]\n",
    "\n",
    "scores"
   ]
  },
  {
   "cell_type": "markdown",
   "id": "8940d7f2",
   "metadata": {
    "papermill": {
     "duration": 0.010713,
     "end_time": "2025-01-31T08:47:40.916696",
     "exception": false,
     "start_time": "2025-01-31T08:47:40.905983",
     "status": "completed"
    },
    "tags": []
   },
   "source": [
    "# Optimization treatment"
   ]
  },
  {
   "cell_type": "markdown",
   "id": "c9bb6bde",
   "metadata": {
    "papermill": {
     "duration": 0.010755,
     "end_time": "2025-01-31T08:47:40.938511",
     "exception": false,
     "start_time": "2025-01-31T08:47:40.927756",
     "status": "completed"
    },
    "tags": []
   },
   "source": [
    "## Model weight optimization based on Hill Climbing"
   ]
  },
  {
   "cell_type": "code",
   "execution_count": 24,
   "id": "4908758e",
   "metadata": {
    "execution": {
     "iopub.execute_input": "2025-01-31T08:47:40.963607Z",
     "iopub.status.busy": "2025-01-31T08:47:40.962498Z",
     "iopub.status.idle": "2025-01-31T08:47:56.736461Z",
     "shell.execute_reply": "2025-01-31T08:47:56.735264Z"
    },
    "papermill": {
     "duration": 15.790347,
     "end_time": "2025-01-31T08:47:56.739852",
     "exception": false,
     "start_time": "2025-01-31T08:47:40.949505",
     "status": "completed"
    },
    "tags": []
   },
   "outputs": [
    {
     "name": "stderr",
     "output_type": "stream",
     "text": [
      "/opt/conda/lib/python3.7/site-packages/pandas/core/frame.py:4913: SettingWithCopyWarning: \n",
      "A value is trying to be set on a copy of a slice from a DataFrame\n",
      "\n",
      "See the caveats in the documentation: https://pandas.pydata.org/pandas-docs/stable/user_guide/indexing.html#returning-a-view-versus-a-copy\n",
      "  errors=errors,\n"
     ]
    },
    {
     "name": "stdout",
     "output_type": "stream",
     "text": [
      "Iteration: 1, Model added: Lasso, Best weight: -0.9239999999999999, Best MAPE: 0.07867\n"
     ]
    },
    {
     "name": "stderr",
     "output_type": "stream",
     "text": [
      "/opt/conda/lib/python3.7/site-packages/pandas/core/frame.py:4913: SettingWithCopyWarning: \n",
      "A value is trying to be set on a copy of a slice from a DataFrame\n",
      "\n",
      "See the caveats in the documentation: https://pandas.pydata.org/pandas-docs/stable/user_guide/indexing.html#returning-a-view-versus-a-copy\n",
      "  errors=errors,\n"
     ]
    },
    {
     "name": "stdout",
     "output_type": "stream",
     "text": [
      "Iteration: 2, Model added: LGBM2, Best weight: -0.3199999999999994, Best MAPE: 0.07856\n"
     ]
    },
    {
     "name": "stderr",
     "output_type": "stream",
     "text": [
      "/opt/conda/lib/python3.7/site-packages/pandas/core/frame.py:4913: SettingWithCopyWarning: \n",
      "A value is trying to be set on a copy of a slice from a DataFrame\n",
      "\n",
      "See the caveats in the documentation: https://pandas.pydata.org/pandas-docs/stable/user_guide/indexing.html#returning-a-view-versus-a-copy\n",
      "  errors=errors,\n"
     ]
    },
    {
     "name": "stdout",
     "output_type": "stream",
     "text": [
      "Iteration: 3, Model added: Ridge, Best weight: 0.1150000000000011, Best MAPE: 0.07845\n",
      "Iteration: 4, Model added: LGBM1, Best weight: -0.12699999999999922, Best MAPE: 0.07841\n"
     ]
    },
    {
     "name": "stderr",
     "output_type": "stream",
     "text": [
      "/opt/conda/lib/python3.7/site-packages/pandas/core/frame.py:4913: SettingWithCopyWarning: \n",
      "A value is trying to be set on a copy of a slice from a DataFrame\n",
      "\n",
      "See the caveats in the documentation: https://pandas.pydata.org/pandas-docs/stable/user_guide/indexing.html#returning-a-view-versus-a-copy\n",
      "  errors=errors,\n"
     ]
    }
   ],
   "source": [
    "# Initialise\n",
    "STOP = False\n",
    "current_best_ensemble = oof_df.iloc[:,0]\n",
    "current_best_test_preds = test_preds.iloc[:,0]\n",
    "MODELS = oof_df.iloc[:,1:]\n",
    "weight_range = np.arange(-1,1,0.001)  \n",
    "history = [mean_absolute_percentage_error(y, current_best_ensemble)]\n",
    "i=0\n",
    "\n",
    "# Hill climbing\n",
    "while not STOP:\n",
    "    i+=1\n",
    "    potential_new_best_cv_score = mean_absolute_percentage_error(y, current_best_ensemble)\n",
    "    k_best, wgt_best = None, None\n",
    "    for k in MODELS:\n",
    "        for wgt in weight_range:\n",
    "            potential_ensemble = (1-wgt) * current_best_ensemble + wgt * MODELS[k]\n",
    "            cv_score = mean_absolute_percentage_error(y, potential_ensemble)\n",
    "            if cv_score < potential_new_best_cv_score:\n",
    "                potential_new_best_cv_score = cv_score\n",
    "                k_best, wgt_best = k, wgt\n",
    "            \n",
    "    if k_best is not None:\n",
    "        current_best_ensemble = (1-wgt_best) * current_best_ensemble + wgt_best * MODELS[k_best]\n",
    "        current_best_test_preds = (1-wgt_best) * current_best_test_preds + wgt_best * test_preds[k_best]\n",
    "        MODELS.drop(k_best, axis=1, inplace=True)\n",
    "        if MODELS.shape[1]==0:\n",
    "            STOP = True\n",
    "        print(f'Iteration: {i}, Model added: {k_best}, Best weight: {wgt_best:}, Best MAPE: {potential_new_best_cv_score:.5f}')\n",
    "        history.append(potential_new_best_cv_score)\n",
    "    else:\n",
    "        STOP = True"
   ]
  },
  {
   "cell_type": "markdown",
   "id": "8c0f75d6",
   "metadata": {
    "papermill": {
     "duration": 0.011328,
     "end_time": "2025-01-31T08:47:56.762779",
     "exception": false,
     "start_time": "2025-01-31T08:47:56.751451",
     "status": "completed"
    },
    "tags": []
   },
   "source": [
    "## Weighted average of predicted results"
   ]
  },
  {
   "cell_type": "code",
   "execution_count": 25,
   "id": "c39068a8",
   "metadata": {
    "execution": {
     "iopub.execute_input": "2025-01-31T08:47:56.788946Z",
     "iopub.status.busy": "2025-01-31T08:47:56.787955Z",
     "iopub.status.idle": "2025-01-31T08:47:56.797338Z",
     "shell.execute_reply": "2025-01-31T08:47:56.796104Z"
    },
    "papermill": {
     "duration": 0.024549,
     "end_time": "2025-01-31T08:47:56.799469",
     "exception": false,
     "start_time": "2025-01-31T08:47:56.774920",
     "status": "completed"
    },
    "tags": []
   },
   "outputs": [],
   "source": [
    "test_total_sales_dates[\"num_sold\"] = current_best_test_preds*0.5+LinearModel2().predict(X_test)*0.5"
   ]
  },
  {
   "cell_type": "markdown",
   "id": "c1d2bf47",
   "metadata": {
    "papermill": {
     "duration": 0.011233,
     "end_time": "2025-01-31T08:47:56.823923",
     "exception": false,
     "start_time": "2025-01-31T08:47:56.812690",
     "status": "completed"
    },
    "tags": []
   },
   "source": [
    "## The date offset method generates the predicted product proportions"
   ]
  },
  {
   "cell_type": "code",
   "execution_count": 26,
   "id": "1bf2b973",
   "metadata": {
    "execution": {
     "iopub.execute_input": "2025-01-31T08:47:56.848598Z",
     "iopub.status.busy": "2025-01-31T08:47:56.848188Z",
     "iopub.status.idle": "2025-01-31T08:47:56.866138Z",
     "shell.execute_reply": "2025-01-31T08:47:56.865196Z"
    },
    "papermill": {
     "duration": 0.033237,
     "end_time": "2025-01-31T08:47:56.868712",
     "exception": false,
     "start_time": "2025-01-31T08:47:56.835475",
     "status": "completed"
    },
    "tags": []
   },
   "outputs": [],
   "source": [
    "product_ratio_2017_df = product_ratio_df.loc[product_ratio_df[\"date\"].dt.year == 2015].copy()\n",
    "product_ratio_2018_df = product_ratio_df.loc[product_ratio_df[\"date\"].dt.year == 2016].copy()\n",
    "product_ratio_2019_df = product_ratio_df.loc[product_ratio_df[\"date\"].dt.year == 2015].copy()\n",
    "\n",
    "product_ratio_2017_df[\"date\"] = product_ratio_2017_df[\"date\"] + pd.DateOffset(years=2)\n",
    "product_ratio_2018_df[\"date\"] = product_ratio_2018_df[\"date\"] + pd.DateOffset(years=2)\n",
    "product_ratio_2019_df[\"date\"] =  product_ratio_2019_df[\"date\"] + pd.DateOffset(years=4)\n",
    "\n",
    "forecasted_ratios_df = pd.concat([product_ratio_2017_df, product_ratio_2018_df, product_ratio_2019_df])"
   ]
  },
  {
   "cell_type": "markdown",
   "id": "ee2d6c35",
   "metadata": {
    "papermill": {
     "duration": 0.011495,
     "end_time": "2025-01-31T08:47:56.891902",
     "exception": false,
     "start_time": "2025-01-31T08:47:56.880407",
     "status": "completed"
    },
    "tags": []
   },
   "source": [
    "## The data of the test set is decomposed and predicted based on multiple weights"
   ]
  },
  {
   "cell_type": "code",
   "execution_count": 27,
   "id": "cdc3ca74",
   "metadata": {
    "execution": {
     "iopub.execute_input": "2025-01-31T08:47:56.917966Z",
     "iopub.status.busy": "2025-01-31T08:47:56.917599Z",
     "iopub.status.idle": "2025-01-31T08:47:57.083663Z",
     "shell.execute_reply": "2025-01-31T08:47:57.082542Z"
    },
    "papermill": {
     "duration": 0.181671,
     "end_time": "2025-01-31T08:47:57.086039",
     "exception": false,
     "start_time": "2025-01-31T08:47:56.904368",
     "status": "completed"
    },
    "tags": []
   },
   "outputs": [
    {
     "data": {
      "text/html": [
       "<div>\n",
       "<style scoped>\n",
       "    .dataframe tbody tr th:only-of-type {\n",
       "        vertical-align: middle;\n",
       "    }\n",
       "\n",
       "    .dataframe tbody tr th {\n",
       "        vertical-align: top;\n",
       "    }\n",
       "\n",
       "    .dataframe thead th {\n",
       "        text-align: right;\n",
       "    }\n",
       "</style>\n",
       "<table border=\"1\" class=\"dataframe\">\n",
       "  <thead>\n",
       "    <tr style=\"text-align: right;\">\n",
       "      <th></th>\n",
       "      <th>id</th>\n",
       "      <th>date</th>\n",
       "      <th>country</th>\n",
       "      <th>store</th>\n",
       "      <th>product</th>\n",
       "      <th>day_num_sold</th>\n",
       "      <th>store_ratio</th>\n",
       "      <th>year</th>\n",
       "      <th>country_ratio</th>\n",
       "      <th>product_ratio</th>\n",
       "      <th>day_of_week</th>\n",
       "      <th>day_of_week_ratios</th>\n",
       "      <th>num_sold</th>\n",
       "    </tr>\n",
       "  </thead>\n",
       "  <tbody>\n",
       "    <tr>\n",
       "      <th>0</th>\n",
       "      <td>230130</td>\n",
       "      <td>2017-01-01</td>\n",
       "      <td>Canada</td>\n",
       "      <td>Discount Stickers</td>\n",
       "      <td>Holographic Goose</td>\n",
       "      <td>75817.682818</td>\n",
       "      <td>0.184716</td>\n",
       "      <td>2017</td>\n",
       "      <td>0.17221</td>\n",
       "      <td>0.053755</td>\n",
       "      <td>6</td>\n",
       "      <td>1.168988</td>\n",
       "      <td>151.551065</td>\n",
       "    </tr>\n",
       "    <tr>\n",
       "      <th>1</th>\n",
       "      <td>230131</td>\n",
       "      <td>2017-01-01</td>\n",
       "      <td>Canada</td>\n",
       "      <td>Discount Stickers</td>\n",
       "      <td>Kaggle</td>\n",
       "      <td>75817.682818</td>\n",
       "      <td>0.184716</td>\n",
       "      <td>2017</td>\n",
       "      <td>0.17221</td>\n",
       "      <td>0.350044</td>\n",
       "      <td>6</td>\n",
       "      <td>1.168988</td>\n",
       "      <td>986.879571</td>\n",
       "    </tr>\n",
       "  </tbody>\n",
       "</table>\n",
       "</div>"
      ],
      "text/plain": [
       "       id       date country              store            product  \\\n",
       "0  230130 2017-01-01  Canada  Discount Stickers  Holographic Goose   \n",
       "1  230131 2017-01-01  Canada  Discount Stickers             Kaggle   \n",
       "\n",
       "   day_num_sold  store_ratio  year  country_ratio  product_ratio  day_of_week  \\\n",
       "0  75817.682818     0.184716  2017        0.17221       0.053755            6   \n",
       "1  75817.682818     0.184716  2017        0.17221       0.350044            6   \n",
       "\n",
       "   day_of_week_ratios    num_sold  \n",
       "0            1.168988  151.551065  \n",
       "1            1.168988  986.879571  "
      ]
     },
     "metadata": {},
     "output_type": "display_data"
    }
   ],
   "source": [
    "store_weights_df = store_weights.reset_index()\n",
    "test_sub_df = pd.merge(test_df, test_total_sales_dates, how=\"left\", on=\"date\")\n",
    "test_sub_df = test_sub_df.rename(columns = {\"num_sold\":\"day_num_sold\"})\n",
    "# Adding in the product ratios\n",
    "test_sub_df = pd.merge(test_sub_df, store_weights_df, how=\"left\", on=\"store\")\n",
    "test_sub_df = test_sub_df.rename(columns = {\"num_sold\":\"store_ratio\"})\n",
    "# Adding in the country ratios\n",
    "test_sub_df[\"year\"] = test_sub_df[\"date\"].dt.year\n",
    "test_sub_df = pd.merge(test_sub_df, gdp_per_capita_filtered_ratios_df_2, how=\"left\", on=[\"year\", \"country\"])\n",
    "test_sub_df = test_sub_df.rename(columns = {\"ratio\":\"country_ratio\"})\n",
    "# Adding in the product ratio\n",
    "test_sub_df = pd.merge(test_sub_df, forecasted_ratios_df, how=\"left\", on=[\"date\", \"product\"])\n",
    "test_sub_df = test_sub_df.rename(columns = {\"ratios\":\"product_ratio\"})\n",
    "\n",
    "# Adding in the week ratio\n",
    "test_sub_df[\"day_of_week\"] = test_sub_df[\"date\"].dt.dayofweek\n",
    "test_sub_df = pd.merge(test_sub_df, day_of_week_ratio.reset_index(), how=\"left\", on=\"day_of_week\")\n",
    "\n",
    "\n",
    "# Disaggregating the forecast\n",
    "test_sub_df.loc[test_sub_df['country'] == 'Kenya', 'country_ratio'] -= 0.0007/2\n",
    "\n",
    "test_sub_df[\"num_sold\"] = test_sub_df[\"day_num_sold\"] *test_sub_df[\"day_of_week_ratios\"]* test_sub_df[\"store_ratio\"] * test_sub_df[\"country_ratio\"] * test_sub_df[\"product_ratio\"]\n",
    "#test_sub_df[\"num_sold\"] = test_sub_df[\"num_sold\"].round()\n",
    "display(test_sub_df.head(2))"
   ]
  },
  {
   "cell_type": "markdown",
   "id": "407e65e4",
   "metadata": {
    "papermill": {
     "duration": 0.011628,
     "end_time": "2025-01-31T08:47:57.109536",
     "exception": false,
     "start_time": "2025-01-31T08:47:57.097908",
     "status": "completed"
    },
    "tags": []
   },
   "source": [
    "# Blending with other solutions"
   ]
  },
  {
   "cell_type": "code",
   "execution_count": 28,
   "id": "1be0b7cd",
   "metadata": {
    "execution": {
     "iopub.execute_input": "2025-01-31T08:47:57.135271Z",
     "iopub.status.busy": "2025-01-31T08:47:57.134428Z",
     "iopub.status.idle": "2025-01-31T08:47:57.660732Z",
     "shell.execute_reply": "2025-01-31T08:47:57.659496Z"
    },
    "papermill": {
     "duration": 0.541994,
     "end_time": "2025-01-31T08:47:57.663398",
     "exception": false,
     "start_time": "2025-01-31T08:47:57.121404",
     "status": "completed"
    },
    "tags": []
   },
   "outputs": [
    {
     "data": {
      "text/html": [
       "<div>\n",
       "<style scoped>\n",
       "    .dataframe tbody tr th:only-of-type {\n",
       "        vertical-align: middle;\n",
       "    }\n",
       "\n",
       "    .dataframe tbody tr th {\n",
       "        vertical-align: top;\n",
       "    }\n",
       "\n",
       "    .dataframe thead th {\n",
       "        text-align: right;\n",
       "    }\n",
       "</style>\n",
       "<table border=\"1\" class=\"dataframe\">\n",
       "  <thead>\n",
       "    <tr style=\"text-align: right;\">\n",
       "      <th></th>\n",
       "      <th>id</th>\n",
       "      <th>num_sold</th>\n",
       "    </tr>\n",
       "  </thead>\n",
       "  <tbody>\n",
       "    <tr>\n",
       "      <th>0</th>\n",
       "      <td>230130</td>\n",
       "      <td>148</td>\n",
       "    </tr>\n",
       "    <tr>\n",
       "      <th>1</th>\n",
       "      <td>230131</td>\n",
       "      <td>975</td>\n",
       "    </tr>\n",
       "    <tr>\n",
       "      <th>2</th>\n",
       "      <td>230132</td>\n",
       "      <td>746</td>\n",
       "    </tr>\n",
       "    <tr>\n",
       "      <th>3</th>\n",
       "      <td>230133</td>\n",
       "      <td>432</td>\n",
       "    </tr>\n",
       "    <tr>\n",
       "      <th>4</th>\n",
       "      <td>230134</td>\n",
       "      <td>506</td>\n",
       "    </tr>\n",
       "  </tbody>\n",
       "</table>\n",
       "</div>"
      ],
      "text/plain": [
       "       id  num_sold\n",
       "0  230130       148\n",
       "1  230131       975\n",
       "2  230132       746\n",
       "3  230133       432\n",
       "4  230134       506"
      ]
     },
     "metadata": {},
     "output_type": "display_data"
    }
   ],
   "source": [
    "import gc\n",
    "submission = pd.read_csv(\"/kaggle/input/playground-series-s5e1/sample_submission.csv\")\n",
    "lb_best = pd.read_csv(\"/kaggle/input/pgs501-model-2-additional-country-doy-factor/submission.csv\")\n",
    "tf_best = pd.read_csv(\"/kaggle/input/transformer-starter-lb-0-052/submission_v1.csv\")\n",
    "lb_blend = pd.read_csv(\"/kaggle/input/pgs501-model-2-additional-country-doy-factor/blend.csv\")\n",
    "lb1_best = pd.read_csv(\"/kaggle/input/pgs501-model-1-time-series-decomposition/submission.csv\")\n",
    "lb1_blend = pd.read_csv(\"/kaggle/input/pgs501-model-1-time-series-decomposition/blend.csv\")\n",
    "hc_best = pd.read_csv(\"/kaggle/input/stricker-sales-hill-climbing-for-ensembling/submission.csv\")\n",
    "pg_best = pd.read_csv(\"/kaggle/input/stricker-sales-pgs501-model-1/submission.csv\")\n",
    "so_best = pd.read_csv(\"/kaggle/input/stricker-sales-solution/submission.csv\")\n",
    "gc.collect()\n",
    "\n",
    "#submission[\"num_sold\"] = (test_sub_df[\"num_sold\"]*0.2403 + (tf_best.num_sold*0.5+lb_blend.num_sold*0.5)*0.2587 + hc_best.num_sold*0.5102).round()\n",
    "submission[\"num_sold\"] = so_best.num_sold.round()\n",
    "display(submission.head())"
   ]
  },
  {
   "cell_type": "code",
   "execution_count": 29,
   "id": "d692deb8",
   "metadata": {
    "execution": {
     "iopub.execute_input": "2025-01-31T08:47:57.689650Z",
     "iopub.status.busy": "2025-01-31T08:47:57.688655Z",
     "iopub.status.idle": "2025-01-31T08:47:57.811750Z",
     "shell.execute_reply": "2025-01-31T08:47:57.810494Z"
    },
    "papermill": {
     "duration": 0.138938,
     "end_time": "2025-01-31T08:47:57.814423",
     "exception": false,
     "start_time": "2025-01-31T08:47:57.675485",
     "status": "completed"
    },
    "tags": []
   },
   "outputs": [],
   "source": [
    "submission.to_csv('submission.csv', index = False)"
   ]
  }
 ],
 "metadata": {
  "kaggle": {
   "accelerator": "none",
   "dataSources": [
    {
     "databundleVersionId": 10652996,
     "sourceId": 85723,
     "sourceType": "competition"
    },
    {
     "datasetId": 2007861,
     "sourceId": 3325325,
     "sourceType": "datasetVersion"
    },
    {
     "datasetId": 6571992,
     "sourceId": 10615200,
     "sourceType": "datasetVersion"
    },
    {
     "datasetId": 6572038,
     "sourceId": 10615260,
     "sourceType": "datasetVersion"
    },
    {
     "datasetId": 6578043,
     "sourceId": 10624059,
     "sourceType": "datasetVersion"
    },
    {
     "sourceId": 218891836,
     "sourceType": "kernelVersion"
    },
    {
     "sourceId": 219013464,
     "sourceType": "kernelVersion"
    },
    {
     "sourceId": 219999314,
     "sourceType": "kernelVersion"
    }
   ],
   "dockerImageVersionId": 30235,
   "isGpuEnabled": false,
   "isInternetEnabled": true,
   "language": "python",
   "sourceType": "notebook"
  },
  "kernelspec": {
   "display_name": "Python 3",
   "language": "python",
   "name": "python3"
  },
  "language_info": {
   "codemirror_mode": {
    "name": "ipython",
    "version": 3
   },
   "file_extension": ".py",
   "mimetype": "text/x-python",
   "name": "python",
   "nbconvert_exporter": "python",
   "pygments_lexer": "ipython3",
   "version": "3.7.12"
  },
  "papermill": {
   "default_parameters": {},
   "duration": 52.777767,
   "end_time": "2025-01-31T08:47:58.649324",
   "environment_variables": {},
   "exception": null,
   "input_path": "__notebook__.ipynb",
   "output_path": "__notebook__.ipynb",
   "parameters": {},
   "start_time": "2025-01-31T08:47:05.871557",
   "version": "2.3.4"
  }
 },
 "nbformat": 4,
 "nbformat_minor": 5
}
