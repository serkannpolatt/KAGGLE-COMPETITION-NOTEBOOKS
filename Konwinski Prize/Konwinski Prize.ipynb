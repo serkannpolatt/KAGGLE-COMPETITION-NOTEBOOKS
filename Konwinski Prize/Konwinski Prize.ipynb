{
 "cells": [
  {
   "cell_type": "code",
   "execution_count": null,
   "id": "ab539762",
   "metadata": {
    "_cell_guid": "3036cc2a-e7d0-4a3d-bd06-eda7b2e84c62",
    "_uuid": "086f9e64-7a54-43f8-a39c-b9d66916a121",
    "collapsed": false,
    "execution": {
     "iopub.execute_input": "2025-03-06T18:24:11.844689Z",
     "iopub.status.busy": "2025-03-06T18:24:11.844401Z",
     "iopub.status.idle": "2025-03-06T18:24:11.848541Z",
     "shell.execute_reply": "2025-03-06T18:24:11.847938Z"
    },
    "jupyter": {
     "outputs_hidden": false
    },
    "papermill": {
     "duration": 0.018412,
     "end_time": "2025-03-06T18:24:11.849551",
     "exception": false,
     "start_time": "2025-03-06T18:24:11.831139",
     "status": "completed"
    },
    "tags": []
   },
   "outputs": [],
   "source": [
    "import os\n",
    "\n",
    "os.environ[\"TRITON_PTXAS_PATH\"] = \"/usr/local/cuda/bin/ptxas\""
   ]
  },
  {
   "cell_type": "code",
   "execution_count": 2,
   "id": "95e984b8",
   "metadata": {
    "_cell_guid": "eb862ac3-4642-4ecd-a1a0-b2701c00d800",
    "_kg_hide-output": true,
    "_uuid": "481ef31d-36ba-45a3-9a98-138a459f6d85",
    "collapsed": false,
    "execution": {
     "iopub.execute_input": "2025-03-06T18:24:11.873871Z",
     "iopub.status.busy": "2025-03-06T18:24:11.873653Z",
     "iopub.status.idle": "2025-03-06T18:24:23.494333Z",
     "shell.execute_reply": "2025-03-06T18:24:23.493425Z"
    },
    "jupyter": {
     "outputs_hidden": false
    },
    "papermill": {
     "duration": 11.634307,
     "end_time": "2025-03-06T18:24:23.495925",
     "exception": false,
     "start_time": "2025-03-06T18:24:11.861618",
     "status": "completed"
    },
    "tags": []
   },
   "outputs": [],
   "source": [
    "import io\n",
    "import time\n",
    "import shutil\n",
    "\n",
    "import pandas as pd\n",
    "import polars as pl\n",
    "\n",
    "import kaggle_evaluation.konwinski_prize_inference_server\n",
    "from typing import List, Tuple, Dict, Optional\n",
    "\n",
    "start_time = time.time()\n",
    "allowed_time = [start_time + 60 * 60]"
   ]
  },
  {
   "cell_type": "code",
   "execution_count": 3,
   "id": "9d479da3",
   "metadata": {
    "_cell_guid": "af345919-bd32-4541-9e26-86b1d1370f87",
    "_uuid": "3464f257-aeab-4b4c-bf8b-73591ca7fce9",
    "collapsed": false,
    "execution": {
     "iopub.execute_input": "2025-03-06T18:24:23.544481Z",
     "iopub.status.busy": "2025-03-06T18:24:23.544056Z",
     "iopub.status.idle": "2025-03-06T18:24:23.548333Z",
     "shell.execute_reply": "2025-03-06T18:24:23.547537Z"
    },
    "jupyter": {
     "outputs_hidden": false
    },
    "papermill": {
     "duration": 0.017591,
     "end_time": "2025-03-06T18:24:23.549439",
     "exception": false,
     "start_time": "2025-03-06T18:24:23.531848",
     "status": "completed"
    },
    "tags": []
   },
   "outputs": [],
   "source": [
    "instance_count: Optional[int] = None\n",
    "\n",
    "\n",
    "def get_number_of_instances(num_instances: int) -> None:\n",
    "    \"\"\"The very first message from the gateway will be the total number of instances to be served.\n",
    "    You don't need to edit this function.\n",
    "    \"\"\"\n",
    "    global instance_count\n",
    "    instance_count = num_instances"
   ]
  },
  {
   "cell_type": "code",
   "execution_count": 4,
   "id": "250bbafb",
   "metadata": {
    "_cell_guid": "e99a7258-4aee-49d8-bd39-3c10ca40ddf0",
    "_kg_hide-output": true,
    "_uuid": "6b90e41a-106f-47a5-a8c2-6b79f727bdb5",
    "collapsed": false,
    "execution": {
     "iopub.execute_input": "2025-03-06T18:24:23.596648Z",
     "iopub.status.busy": "2025-03-06T18:24:23.596385Z",
     "iopub.status.idle": "2025-03-06T18:27:50.404082Z",
     "shell.execute_reply": "2025-03-06T18:27:50.403247Z"
    },
    "jupyter": {
     "outputs_hidden": false
    },
    "papermill": {
     "duration": 206.821418,
     "end_time": "2025-03-06T18:27:50.405682",
     "exception": false,
     "start_time": "2025-03-06T18:24:23.584264",
     "status": "completed"
    },
    "tags": []
   },
   "outputs": [
    {
     "name": "stdout",
     "output_type": "stream",
     "text": [
      "INFO 03-06 18:25:15 __init__.py:183] Automatically detected platform cuda.\n",
      "INFO 03-06 18:25:47 config.py:526] This model supports multiple tasks: {'score', 'classify', 'reward', 'generate', 'embed'}. Defaulting to 'generate'.\n",
      "INFO 03-06 18:25:51 awq_marlin.py:109] The model is convertible to awq_marlin during runtime. Using awq_marlin kernel.\n",
      "INFO 03-06 18:25:51 config.py:1383] Defaulting to use mp for distributed inference\n",
      "WARNING 03-06 18:25:51 config.py:975] MLA is not supported with awq_marlin quantization. Disabling MLA.\n",
      "INFO 03-06 18:25:51 llm_engine.py:232] Initializing a V0 LLM engine (v0.7.1) with config: model='/kaggle/input/deepseek-r1/transformers/deepseek-r1-distill-qwen-14b-awq-casperhansen/1', speculative_config=None, tokenizer='/kaggle/input/deepseek-r1/transformers/deepseek-r1-distill-qwen-14b-awq-casperhansen/1', skip_tokenizer_init=False, tokenizer_mode=auto, revision=None, override_neuron_config=None, tokenizer_revision=None, trust_remote_code=True, dtype=torch.bfloat16, max_seq_len=32768, download_dir=None, load_format=auto, tensor_parallel_size=4, pipeline_parallel_size=1, disable_custom_all_reduce=False, quantization=awq_marlin, enforce_eager=False, kv_cache_dtype=auto,  device_config=cuda, decoding_config=DecodingConfig(guided_decoding_backend='xgrammar'), observability_config=ObservabilityConfig(otlp_traces_endpoint=None, collect_model_forward_time=False, collect_model_execute_time=False), seed=2024, served_model_name=/kaggle/input/deepseek-r1/transformers/deepseek-r1-distill-qwen-14b-awq-casperhansen/1, num_scheduler_steps=1, multi_step_stream_outputs=True, enable_prefix_caching=True, chunked_prefill_enabled=False, use_async_output_proc=True, disable_mm_preprocessor_cache=False, mm_processor_kwargs=None, pooler_config=None, compilation_config={\"splitting_ops\":[],\"compile_sizes\":[],\"cudagraph_capture_sizes\":[16,8,4,2,1],\"max_capture_size\":16}, use_cached_outputs=False, \n",
      "WARNING 03-06 18:25:52 multiproc_worker_utils.py:298] Reducing Torch parallelism from 24 threads to 1 to avoid unnecessary CPU contention. Set OMP_NUM_THREADS in the external environment to tune this value as needed.\n",
      "INFO 03-06 18:25:52 custom_cache_manager.py:17] Setting Triton cache manager to: vllm.triton_utils.custom_cache_manager:CustomCacheManager\n",
      "\u001b[1;36m(VllmWorkerProcess pid=359)\u001b[0;0m INFO 03-06 18:25:52 multiproc_worker_utils.py:227] Worker ready; awaiting tasks\n",
      "\u001b[1;36m(VllmWorkerProcess pid=362)\u001b[0;0m INFO 03-06 18:25:52 multiproc_worker_utils.py:227] Worker ready; awaiting tasks\n",
      "\u001b[1;36m(VllmWorkerProcess pid=367)\u001b[0;0m INFO 03-06 18:25:52 multiproc_worker_utils.py:227] Worker ready; awaiting tasks\n",
      "WARNING 03-06 18:25:52 config.py:975] MLA is not supported with awq_marlin quantization. Disabling MLA.\n",
      "\u001b[1;36m(VllmWorkerProcess pid=362)\u001b[0;0m \u001b[1;36m(VllmWorkerProcess pid=367)\u001b[0;0m \u001b[1;36m(VllmWorkerProcess pid=359)\u001b[0;0m WARNING 03-06 18:25:52 config.py:975] MLA is not supported with awq_marlin quantization. Disabling MLA.\n",
      "WARNING 03-06 18:25:52 config.py:975] MLA is not supported with awq_marlin quantization. Disabling MLA.\n",
      "WARNING 03-06 18:25:52 config.py:975] MLA is not supported with awq_marlin quantization. Disabling MLA.\n",
      "INFO 03-06 18:25:52 cuda.py:235] Using Flash Attention backend.\n",
      "\u001b[1;36m(VllmWorkerProcess pid=367)\u001b[0;0m \u001b[1;36m(VllmWorkerProcess pid=362)\u001b[0;0m \u001b[1;36m(VllmWorkerProcess pid=359)\u001b[0;0m INFO 03-06 18:25:52 cuda.py:235] Using Flash Attention backend.\n",
      "INFO 03-06 18:25:52 cuda.py:235] Using Flash Attention backend.\n",
      "INFO 03-06 18:25:52 cuda.py:235] Using Flash Attention backend.\n",
      "INFO 03-06 18:26:03 utils.py:938] Found nccl from library libnccl.so.2\n",
      "INFO 03-06 18:26:03 pynccl.py:67] vLLM is using nccl==2.21.5\n",
      "\u001b[1;36m(VllmWorkerProcess pid=367)\u001b[0;0m \u001b[1;36m(VllmWorkerProcess pid=362)\u001b[0;0m INFO 03-06 18:26:03 utils.py:938] Found nccl from library libnccl.so.2\n",
      "INFO 03-06 18:26:03 utils.py:938] Found nccl from library libnccl.so.2\n",
      "\u001b[1;36m(VllmWorkerProcess pid=367)\u001b[0;0m \u001b[1;36m(VllmWorkerProcess pid=362)\u001b[0;0m INFO 03-06 18:26:03 pynccl.py:67] vLLM is using nccl==2.21.5\n",
      "INFO 03-06 18:26:03 pynccl.py:67] vLLM is using nccl==2.21.5\n",
      "\u001b[1;36m(VllmWorkerProcess pid=359)\u001b[0;0m INFO 03-06 18:26:03 utils.py:938] Found nccl from library libnccl.so.2\n",
      "\u001b[1;36m(VllmWorkerProcess pid=359)\u001b[0;0m INFO 03-06 18:26:03 pynccl.py:67] vLLM is using nccl==2.21.5\n",
      "WARNING 03-06 18:26:04 custom_all_reduce.py:134] Custom allreduce is disabled because it's not supported on more than two PCIe-only GPUs. To silence this warning, specify disable_custom_all_reduce=True explicitly.\n",
      "\u001b[1;36m(VllmWorkerProcess pid=359)\u001b[0;0m \u001b[1;36m(VllmWorkerProcess pid=367)\u001b[0;0m \u001b[1;36m(VllmWorkerProcess pid=362)\u001b[0;0m WARNING 03-06 18:26:04 custom_all_reduce.py:134] Custom allreduce is disabled because it's not supported on more than two PCIe-only GPUs. To silence this warning, specify disable_custom_all_reduce=True explicitly.\n",
      "WARNING 03-06 18:26:04 custom_all_reduce.py:134] Custom allreduce is disabled because it's not supported on more than two PCIe-only GPUs. To silence this warning, specify disable_custom_all_reduce=True explicitly.\n",
      "WARNING 03-06 18:26:04 custom_all_reduce.py:134] Custom allreduce is disabled because it's not supported on more than two PCIe-only GPUs. To silence this warning, specify disable_custom_all_reduce=True explicitly.\n",
      "INFO 03-06 18:26:04 shm_broadcast.py:256] vLLM message queue communication handle: Handle(connect_ip='127.0.0.1', local_reader_ranks=[1, 2, 3], buffer_handle=(3, 4194304, 6, 'psm_8ac217cd'), local_subscribe_port=48921, remote_subscribe_port=None)\n",
      "INFO 03-06 18:26:04 model_runner.py:1111] Starting to load model /kaggle/input/deepseek-r1/transformers/deepseek-r1-distill-qwen-14b-awq-casperhansen/1...\n",
      "\u001b[1;36m(VllmWorkerProcess pid=359)\u001b[0;0m \u001b[1;36m(VllmWorkerProcess pid=367)\u001b[0;0m INFO 03-06 18:26:04 model_runner.py:1111] Starting to load model /kaggle/input/deepseek-r1/transformers/deepseek-r1-distill-qwen-14b-awq-casperhansen/1...\n",
      "INFO 03-06 18:26:04 model_runner.py:1111] Starting to load model /kaggle/input/deepseek-r1/transformers/deepseek-r1-distill-qwen-14b-awq-casperhansen/1...\n",
      "\u001b[1;36m(VllmWorkerProcess pid=362)\u001b[0;0m INFO 03-06 18:26:04 model_runner.py:1111] Starting to load model /kaggle/input/deepseek-r1/transformers/deepseek-r1-distill-qwen-14b-awq-casperhansen/1...\n"
     ]
    },
    {
     "data": {
      "application/vnd.jupyter.widget-view+json": {
       "model_id": "fa22f2fbc51142de83ff5a479e213d8b",
       "version_major": 2,
       "version_minor": 0
      },
      "text/plain": [
       "Loading safetensors checkpoint shards:   0% Completed | 0/2 [00:00<?, ?it/s]\n"
      ]
     },
     "metadata": {},
     "output_type": "display_data"
    },
    {
     "name": "stdout",
     "output_type": "stream",
     "text": [
      "\u001b[1;36m(VllmWorkerProcess pid=367)\u001b[0;0m INFO 03-06 18:27:09 model_runner.py:1116] Loading model weights took 2.3731 GB\n",
      "INFO 03-06 18:27:09 model_runner.py:1116] Loading model weights took 2.3731 GB\n",
      "\u001b[1;36m(VllmWorkerProcess pid=362)\u001b[0;0m INFO 03-06 18:27:09 model_runner.py:1116] Loading model weights took 2.3731 GB\n",
      "\u001b[1;36m(VllmWorkerProcess pid=359)\u001b[0;0m INFO 03-06 18:27:09 model_runner.py:1116] Loading model weights took 2.3731 GB\n",
      "\u001b[1;36m(VllmWorkerProcess pid=367)\u001b[0;0m \u001b[1;36m(VllmWorkerProcess pid=362)\u001b[0;0m WARNING 03-06 18:27:38 config.py:975] MLA is not supported with awq_marlin quantization. Disabling MLA.\n",
      "WARNING 03-06 18:27:38 config.py:975] MLA is not supported with awq_marlin quantization. Disabling MLA.\n",
      "\u001b[1;36m(VllmWorkerProcess pid=367)\u001b[0;0m \u001b[1;36m(VllmWorkerProcess pid=359)\u001b[0;0m \u001b[1;36m(VllmWorkerProcess pid=362)\u001b[0;0m WARNING 03-06 18:27:38 config.py:975] MLA is not supported with awq_marlin quantization. Disabling MLA.\n",
      "WARNING 03-06 18:27:38 config.py:975] MLA is not supported with awq_marlin quantization. Disabling MLA.\n",
      "WARNING 03-06 18:27:38 config.py:975] MLA is not supported with awq_marlin quantization. Disabling MLA.\n",
      "\u001b[1;36m(VllmWorkerProcess pid=367)\u001b[0;0m \u001b[1;36m(VllmWorkerProcess pid=359)\u001b[0;0m \u001b[1;36m(VllmWorkerProcess pid=362)\u001b[0;0m INFO 03-06 18:27:38 worker.py:266] Memory profiling takes 28.83 seconds\r\n",
      "WARNING 03-06 18:27:38 config.py:975] MLA is not supported with awq_marlin quantization. Disabling MLA.\n",
      "INFO 03-06 18:27:38 worker.py:266] Memory profiling takes 28.83 seconds\r\n",
      "\u001b[1;36m(VllmWorkerProcess pid=367)\u001b[0;0m \u001b[1;36m(VllmWorkerProcess pid=359)\u001b[0;0m \u001b[1;36m(VllmWorkerProcess pid=362)\u001b[0;0m INFO 03-06 18:27:38 worker.py:266] the current vLLM instance can use total_gpu_memory (22.28GiB) x gpu_memory_utilization (0.95) = 21.16GiB\r\n",
      "INFO 03-06 18:27:38 worker.py:266] Memory profiling takes 28.83 seconds\r\n",
      "INFO 03-06 18:27:38 worker.py:266] the current vLLM instance can use total_gpu_memory (22.28GiB) x gpu_memory_utilization (0.95) = 21.16GiB\r\n",
      "\u001b[1;36m(VllmWorkerProcess pid=367)\u001b[0;0m \u001b[1;36m(VllmWorkerProcess pid=362)\u001b[0;0m \u001b[1;36m(VllmWorkerProcess pid=359)\u001b[0;0m INFO 03-06 18:27:38 worker.py:266] model weights take 2.37GiB; non_torch_memory takes 0.17GiB; PyTorch activation peak memory takes 2.20GiB; the rest of the memory reserved for KV Cache is 16.43GiB.\n",
      "INFO 03-06 18:27:38 worker.py:266] model weights take 2.37GiB; non_torch_memory takes 0.17GiB; PyTorch activation peak memory takes 2.20GiB; the rest of the memory reserved for KV Cache is 16.43GiB.\n",
      "INFO 03-06 18:27:38 worker.py:266] the current vLLM instance can use total_gpu_memory (22.28GiB) x gpu_memory_utilization (0.95) = 21.16GiB\r\n",
      "\u001b[1;36m(VllmWorkerProcess pid=359)\u001b[0;0m INFO 03-06 18:27:38 worker.py:266] model weights take 2.37GiB; non_torch_memory takes 0.17GiB; PyTorch activation peak memory takes 2.20GiB; the rest of the memory reserved for KV Cache is 16.43GiB.\n",
      "WARNING 03-06 18:27:39 config.py:975] MLA is not supported with awq_marlin quantization. Disabling MLA.\n",
      "WARNING 03-06 18:27:39 config.py:975] MLA is not supported with awq_marlin quantization. Disabling MLA.\n",
      "INFO 03-06 18:27:39 worker.py:266] Memory profiling takes 29.16 seconds\r\n",
      "INFO 03-06 18:27:39 worker.py:266] the current vLLM instance can use total_gpu_memory (22.28GiB) x gpu_memory_utilization (0.95) = 21.16GiB\r\n",
      "INFO 03-06 18:27:39 worker.py:266] model weights take 2.37GiB; non_torch_memory takes 0.17GiB; PyTorch activation peak memory takes 2.20GiB; the rest of the memory reserved for KV Cache is 16.43GiB.\n",
      "INFO 03-06 18:27:39 executor_base.py:108] # CUDA blocks: 22428, # CPU blocks: 5461\n",
      "INFO 03-06 18:27:39 executor_base.py:113] Maximum concurrency for 32768 tokens per request: 10.95x\n",
      "WARNING 03-06 18:27:39 config.py:975] MLA is not supported with awq_marlin quantization. Disabling MLA.\n",
      "WARNING 03-06 18:27:39 config.py:975] MLA is not supported with awq_marlin quantization. Disabling MLA.\n",
      "\u001b[1;36m(VllmWorkerProcess pid=362)\u001b[0;0m \u001b[1;36m(VllmWorkerProcess pid=359)\u001b[0;0m \u001b[1;36m(VllmWorkerProcess pid=367)\u001b[0;0m WARNING 03-06 18:27:39 config.py:975] MLA is not supported with awq_marlin quantization. Disabling MLA.\n",
      "WARNING 03-06 18:27:39 config.py:975] MLA is not supported with awq_marlin quantization. Disabling MLA.\n",
      "WARNING 03-06 18:27:39 config.py:975] MLA is not supported with awq_marlin quantization. Disabling MLA.\n",
      "\u001b[1;36m(VllmWorkerProcess pid=362)\u001b[0;0m \u001b[1;36m(VllmWorkerProcess pid=367)\u001b[0;0m \u001b[1;36m(VllmWorkerProcess pid=359)\u001b[0;0m WARNING 03-06 18:27:39 config.py:975] MLA is not supported with awq_marlin quantization. Disabling MLA.\n",
      "WARNING 03-06 18:27:39 config.py:975] MLA is not supported with awq_marlin quantization. Disabling MLA.\n",
      "WARNING 03-06 18:27:39 config.py:975] MLA is not supported with awq_marlin quantization. Disabling MLA.\n",
      "INFO 03-06 18:27:43 model_runner.py:1435] Capturing cudagraphs for decoding. This may lead to unexpected consequences if the model is not static. To run the model in eager mode, set 'enforce_eager=True' or use '--enforce-eager' in the CLI. If out-of-memory error occurs during cudagraph capture, consider decreasing `gpu_memory_utilization` or switching to eager mode. You can also reduce the `max_num_seqs` as needed to decrease memory usage.\n",
      "\u001b[1;36m(VllmWorkerProcess pid=367)\u001b[0;0m \u001b[1;36m(VllmWorkerProcess pid=362)\u001b[0;0m \u001b[1;36m(VllmWorkerProcess pid=359)\u001b[0;0m INFO 03-06 18:27:43 model_runner.py:1435] Capturing cudagraphs for decoding. This may lead to unexpected consequences if the model is not static. To run the model in eager mode, set 'enforce_eager=True' or use '--enforce-eager' in the CLI. If out-of-memory error occurs during cudagraph capture, consider decreasing `gpu_memory_utilization` or switching to eager mode. You can also reduce the `max_num_seqs` as needed to decrease memory usage.\n",
      "INFO 03-06 18:27:43 model_runner.py:1435] Capturing cudagraphs for decoding. This may lead to unexpected consequences if the model is not static. To run the model in eager mode, set 'enforce_eager=True' or use '--enforce-eager' in the CLI. If out-of-memory error occurs during cudagraph capture, consider decreasing `gpu_memory_utilization` or switching to eager mode. You can also reduce the `max_num_seqs` as needed to decrease memory usage.\n",
      "INFO 03-06 18:27:43 model_runner.py:1435] Capturing cudagraphs for decoding. This may lead to unexpected consequences if the model is not static. To run the model in eager mode, set 'enforce_eager=True' or use '--enforce-eager' in the CLI. If out-of-memory error occurs during cudagraph capture, consider decreasing `gpu_memory_utilization` or switching to eager mode. You can also reduce the `max_num_seqs` as needed to decrease memory usage.\n"
     ]
    },
    {
     "name": "stderr",
     "output_type": "stream",
     "text": [
      "Capturing CUDA graph shapes: 100%|██████████| 5/5 [00:05<00:00,  1.20s/it]"
     ]
    },
    {
     "name": "stdout",
     "output_type": "stream",
     "text": [
      "\u001b[1;36m(VllmWorkerProcess pid=367)\u001b[0;0m "
     ]
    },
    {
     "name": "stderr",
     "output_type": "stream",
     "text": [
      "Capturing CUDA graph shapes: 100%|██████████| 5/5 [00:05<00:00,  1.14s/it]"
     ]
    },
    {
     "name": "stdout",
     "output_type": "stream",
     "text": [
      "INFO 03-06 18:27:49 model_runner.py:1563] Graph capturing finished in 6 secs, took 0.09 GiB\n",
      "INFO 03-06 18:27:49 model_runner.py:1563] Graph capturing finished in 6 secs, took 0.09 GiB\n",
      "\u001b[1;36m(VllmWorkerProcess pid=362)\u001b[0;0m INFO 03-06 18:27:49 model_runner.py:1563] Graph capturing finished in 6 secs, took 0.09 GiB\n",
      "\u001b[1;36m(VllmWorkerProcess pid=359)\u001b[0;0m INFO 03-06 18:27:49 model_runner.py:1563] Graph capturing finished in 6 secs, took 0.09 GiB\n",
      "INFO 03-06 18:27:49 llm_engine.py:429] init engine (profile, create kv cache, warmup model) took 39.98 seconds\n"
     ]
    },
    {
     "name": "stderr",
     "output_type": "stream",
     "text": [
      "\n"
     ]
    }
   ],
   "source": [
    "from vllm import LLM, SamplingParams, RequestOutput\n",
    "import warnings\n",
    "\n",
    "warnings.simplefilter(\"ignore\")\n",
    "\n",
    "os.environ[\"CUDA_VISIBLE_DEVICES\"] = \"0,1,2,3\"\n",
    "os.environ[\"TOKENIZERS_PARALLELISM\"] = \"false\"\n",
    "\n",
    "if os.getenv(\"KAGGLE_KERNEL_RUN_TYPE\") or os.getenv(\"KAGGLE_IS_COMPETITION_RERUN\"):\n",
    "    llm_model_pth: str = (\n",
    "        \"/kaggle/input/deepseek-r1/transformers/deepseek-r1-distill-qwen-14b-awq-casperhansen/1\"\n",
    "    )\n",
    "else:\n",
    "    llm_model_pth: str = \"/root/volume/KirillR/QwQ-32B-Preview-AWQ\"\n",
    "\n",
    "BATCH_SIZE: int = 20\n",
    "VALIDATION_COPY_COUNT: int = 3\n",
    "MAX_TOKENS: int = 8192\n",
    "\n",
    "MAX_NUM_SEQS: int = 10\n",
    "MAX_MODEL_LEN: int = 32_768\n",
    "\n",
    "llm: LLM = LLM(\n",
    "    llm_model_pth,\n",
    "    max_num_seqs=MAX_NUM_SEQS,  # Maximum number of sequences per iteration. Default is 256\n",
    "    max_model_len=MAX_MODEL_LEN,  # Model context length\n",
    "    trust_remote_code=True,  # Trust remote code (e.g., from HuggingFace) when downloading the model and tokenizer\n",
    "    tensor_parallel_size=4,  # The number of GPUs to use for distributed execution with tensor parallelism\n",
    "    enable_prefix_caching=True,\n",
    "    gpu_memory_utilization=0.95,  # The ratio (between 0 and 1) of GPU memory to reserve for the model\n",
    "    seed=2024,\n",
    ")"
   ]
  },
  {
   "cell_type": "code",
   "execution_count": 5,
   "id": "2d47d48d",
   "metadata": {
    "_cell_guid": "0406e19f-9d43-49c6-bc58-0a2a5e507595",
    "_uuid": "08b952e7-cd51-4cff-9d84-5f02675ed1dc",
    "collapsed": false,
    "execution": {
     "iopub.execute_input": "2025-03-06T18:27:50.443703Z",
     "iopub.status.busy": "2025-03-06T18:27:50.443411Z",
     "iopub.status.idle": "2025-03-06T18:27:50.446839Z",
     "shell.execute_reply": "2025-03-06T18:27:50.446211Z"
    },
    "jupyter": {
     "outputs_hidden": false
    },
    "papermill": {
     "duration": 0.023332,
     "end_time": "2025-03-06T18:27:50.447864",
     "exception": false,
     "start_time": "2025-03-06T18:27:50.424532",
     "status": "completed"
    },
    "tags": []
   },
   "outputs": [],
   "source": [
    "tokenizer = llm.get_tokenizer()\n",
    "\n",
    "\n",
    "def count_tokens(text: str) -> int:\n",
    "    return len(tokenizer.encode(text))"
   ]
  },
  {
   "cell_type": "code",
   "execution_count": 6,
   "id": "7d8cec0f",
   "metadata": {
    "_cell_guid": "a97c9025-75f9-449b-93be-698746b23c7c",
    "_uuid": "a08a265b-729f-4b45-9eda-e2b5917d1b97",
    "collapsed": false,
    "execution": {
     "iopub.execute_input": "2025-03-06T18:27:50.521161Z",
     "iopub.status.busy": "2025-03-06T18:27:50.520909Z",
     "iopub.status.idle": "2025-03-06T18:27:50.526745Z",
     "shell.execute_reply": "2025-03-06T18:27:50.526114Z"
    },
    "jupyter": {
     "outputs_hidden": false
    },
    "papermill": {
     "duration": 0.025774,
     "end_time": "2025-03-06T18:27:50.527783",
     "exception": false,
     "start_time": "2025-03-06T18:27:50.502009",
     "status": "completed"
    },
    "tags": []
   },
   "outputs": [],
   "source": [
    "REPO_PATH = \"repo\"\n",
    "\n",
    "\n",
    "def setup(\n",
    "    repo_archive: io.BytesIO,\n",
    "    pip_packages_archive: io.BytesIO,\n",
    "    env_setup_cmds_templates: list[str],\n",
    "    repo_path: str,\n",
    ") -> None:\n",
    "    \"\"\"Replace this function with your inference code.\n",
    "    Args:\n",
    "        problem_statement: The text of the git issue.\n",
    "        repo_path: A BytesIO buffer path with a .tar containing the codebase that must be patched. The gateway will make this directory available immediately before this function runs.\n",
    "        pip_packages_archive: A BytesIO buffer path with a .tar containing the wheel files necessary for running unit tests.\n",
    "        env_setup_cmds_templates: Commands necessary for installing the pip_packages_archive.\n",
    "    \"\"\"\n",
    "\n",
    "    # Unpack the codebase to be patched into a directory that won't be exported when\n",
    "    # the notebook is saved.\n",
    "    archive_path = \"/tmp/repo_archive.tar\"\n",
    "    with open(archive_path, \"wb\") as f:\n",
    "        f.write(repo_archive.read())\n",
    "    if os.path.exists(repo_path):\n",
    "        shutil.rmtree(repo_path)\n",
    "    shutil.unpack_archive(archive_path, extract_dir=repo_path)\n",
    "    os.remove(archive_path)\n",
    "\n",
    "    \"\"\"\n",
    "    Unpack pip_packages if you want to run unit tests on your patch.\n",
    "    Note that editing unit tests with your patch -- even to add valid tests -- can cause your submission to be flagged as a failure.\n",
    "    Most of the relevant repos use pytest for running tests. You will almost certainly need to run only a subset of the unit tests to avoid running out of inference time.\n",
    "    \"\"\"\n",
    "    pip_archive_dir = \"/tmp/pip_packages_archive.tar\"\n",
    "    with open(pip_archive_dir, \"wb\") as f:\n",
    "        f.write(pip_packages_archive.read())\n",
    "    pip_packages_path = \"/path/to/pip_packages\"\n",
    "    if os.path.exists(pip_packages_path):\n",
    "        shutil.rmtree(pip_packages_path)\n",
    "    shutil.unpack_archive(pip_archive_dir, extract_dir=pip_packages_path)\n",
    "    os.remove(pip_archive_dir)\n",
    "\n",
    "    # Get env setup cmds by setting the pip_packages_path\n",
    "    env_setup_cmds = [\n",
    "        cmd.format(pip_packages_path=pip_packages_path)\n",
    "        for cmd in env_setup_cmds_templates\n",
    "    ]\n",
    "\n",
    "    # Run env setup for the repo\n",
    "    subprocess.run(\n",
    "        \"\\n\".join(env_setup_cmds),\n",
    "        shell=True,\n",
    "        executable=\"/bin/bash\",\n",
    "        cwd=repo_path,\n",
    "    )"
   ]
  },
  {
   "cell_type": "code",
   "execution_count": 7,
   "id": "51ecebc0",
   "metadata": {
    "_cell_guid": "df138201-3898-4cd1-9a43-89bdb7c6393d",
    "_uuid": "957ea2f5-0402-41f1-86d2-dfee2fb9fdd2",
    "collapsed": false,
    "execution": {
     "iopub.execute_input": "2025-03-06T18:27:50.564735Z",
     "iopub.status.busy": "2025-03-06T18:27:50.564476Z",
     "iopub.status.idle": "2025-03-06T18:27:50.568602Z",
     "shell.execute_reply": "2025-03-06T18:27:50.567960Z"
    },
    "jupyter": {
     "outputs_hidden": false
    },
    "papermill": {
     "duration": 0.023677,
     "end_time": "2025-03-06T18:27:50.569610",
     "exception": false,
     "start_time": "2025-03-06T18:27:50.545933",
     "status": "completed"
    },
    "tags": []
   },
   "outputs": [],
   "source": [
    "import os\n",
    "\n",
    "\n",
    "def stringify_directory(directory: str) -> str:\n",
    "    full_paths: List[str] = []\n",
    "    banned_strings = [\".venv\", \".pyc\", \".txt\", \".pytest_cache\", \".github\", \"/doc/\"]\n",
    "\n",
    "    for root, dirs, files in os.walk(directory):\n",
    "        for file in files:\n",
    "            for banned_string in banned_strings:\n",
    "                if banned_string in root or banned_string in file:\n",
    "                    break\n",
    "            else:\n",
    "                full_path: str = os.path.join(root, file)\n",
    "                full_paths.append(full_path)\n",
    "    return \"\\n\".join(full_paths)"
   ]
  },
  {
   "cell_type": "code",
   "execution_count": 8,
   "id": "98940ce3",
   "metadata": {
    "_cell_guid": "768b2b94-2a83-40a1-b9d6-678b3d1ca1ad",
    "_uuid": "b32f50c7-4a25-49e3-8516-3bc95c1c5900",
    "collapsed": false,
    "execution": {
     "iopub.execute_input": "2025-03-06T18:27:50.606388Z",
     "iopub.status.busy": "2025-03-06T18:27:50.606143Z",
     "iopub.status.idle": "2025-03-06T18:27:50.611725Z",
     "shell.execute_reply": "2025-03-06T18:27:50.611113Z"
    },
    "jupyter": {
     "outputs_hidden": false
    },
    "papermill": {
     "duration": 0.025145,
     "end_time": "2025-03-06T18:27:50.612774",
     "exception": false,
     "start_time": "2025-03-06T18:27:50.587629",
     "status": "completed"
    },
    "tags": []
   },
   "outputs": [],
   "source": [
    "import re\n",
    "\n",
    "\n",
    "def extract_file_query(xml_content: str) -> Dict[str, List[str]]:\n",
    "    import xml.etree.ElementTree as ET\n",
    "\n",
    "    # Prepare a data structure to collect results\n",
    "    parsed_data: Dict[str, List[str]] = {}\n",
    "    pattern: str = r\"<root>(.*?)</root>\"\n",
    "    matches: List[str] = re.findall(pattern, xml_content, re.DOTALL)\n",
    "\n",
    "    for match in matches:\n",
    "        try:\n",
    "            # Parse the XML\n",
    "            root = ET.fromstring(\"<root>\" + match + \"</root>\")\n",
    "\n",
    "            # Find all <entry> elements\n",
    "            for entry in root.findall(\"entry\"):\n",
    "                # Extract the <filepath> text\n",
    "                filepath = entry.find(\"filepath\")\n",
    "                filepath_text: Optional[str] = (\n",
    "                    filepath.text.strip()\n",
    "                    if filepath is not None and filepath.text is not None\n",
    "                    else None\n",
    "                )\n",
    "\n",
    "                # Locate <strings_to_search> container\n",
    "                strings_container = entry.find(\"strings_to_search\")\n",
    "\n",
    "                # Gather each <string_to_search> text\n",
    "                search_strings: List[str] = []\n",
    "                if strings_container is not None:\n",
    "                    for s in strings_container.findall(\"string_to_search\"):\n",
    "                        if s.text is not None:\n",
    "                            search_strings.append(s.text.strip())\n",
    "\n",
    "                # Store in a dictionary: { filepath: [search_strings...] }\n",
    "                parsed_data[filepath_text] = search_strings  # type: ignore\n",
    "        except:\n",
    "            print(\"Error parsing output\")\n",
    "            print(xml_content)\n",
    "            return {}\n",
    "\n",
    "    return parsed_data"
   ]
  },
  {
   "cell_type": "code",
   "execution_count": 9,
   "id": "d48ae204",
   "metadata": {
    "_cell_guid": "3385fe9b-8e27-476e-a395-33072a3fe894",
    "_uuid": "e83192b1-1843-4c6a-a886-363810d8501b",
    "collapsed": false,
    "execution": {
     "iopub.execute_input": "2025-03-06T18:27:50.649873Z",
     "iopub.status.busy": "2025-03-06T18:27:50.649627Z",
     "iopub.status.idle": "2025-03-06T18:27:50.656617Z",
     "shell.execute_reply": "2025-03-06T18:27:50.656016Z"
    },
    "jupyter": {
     "outputs_hidden": false
    },
    "papermill": {
     "duration": 0.02677,
     "end_time": "2025-03-06T18:27:50.657671",
     "exception": false,
     "start_time": "2025-03-06T18:27:50.630901",
     "status": "completed"
    },
    "tags": []
   },
   "outputs": [],
   "source": [
    "reading_prompt: str = (\n",
    "    \"\"\"\n",
    "You will be implementing a git diff patch to solve an issue with the code repository.\n",
    "You will first need to select files in the file directory.\n",
    "\n",
    "This is the problem statement.\n",
    "\n",
    "{problem_statement}\n",
    "\n",
    "This is the file directory\n",
    "\n",
    "<directory>\n",
    "{directory_string}\n",
    "</directory>\n",
    "\n",
    "Which files should be inspected so that we can solve the problem?\n",
    "When we inspect each file, what strings should be searched?\n",
    "\n",
    "Return the strings to search in this format\n",
    "\n",
    "(explanation)\n",
    "\n",
    "<root>\n",
    "    <entry>\n",
    "        <filepath>filepath</filepath>  \n",
    "        <strings_to_search>\n",
    "            <string_to_search>string_to_search</string_to_search>\n",
    "            ...\n",
    "            <string_to_search>string_to_search</string_to_search>\n",
    "        </strings_to_search>\n",
    "    </entry>\n",
    "    <entry>\n",
    "        <filepath>filepath</filepath>\n",
    "        <strings_to_search>\n",
    "            <string_to_search>string_to_search</string_to_search>\n",
    "            ...\n",
    "            <string_to_search>string_to_search</string_to_search>\n",
    "        </strings_to_search>\n",
    "    </entry>\n",
    "    ...\n",
    "</root>\n",
    "...\n",
    "\n",
    "Notes:\n",
    "- Make sure to encode each entry between <root> and </root>\n",
    "- Return the FULL filepath - exactly as specified in <directory> and </directory>\n",
    "    - Example: <filepath>repo/path/to/directory/file.py</filepath>\n",
    "- If you are searching for a word instead of a substring, maybe add spaces or brackets before and after the string\n",
    "    - For example, if you are searching for uses of the function `calculate`, use ` calculate(` as the search string instead of `calculate`\n",
    "- Prefer searching longer strings\n",
    "    - Avoid searching for strings that might appear in many parts of the codebase\n",
    "- Search the test files as well to understand the feature behavior\n",
    "    - Also search for the relevant function calls in the test files\n",
    "\"\"\".strip()\n",
    ")\n",
    "\n",
    "\n",
    "def get_selection_query(\n",
    "    directory_string: str, problem_statement: str\n",
    ") -> Tuple[List[str], List[Dict[str, List[str]]]]:\n",
    "    sampling_params: SamplingParams = SamplingParams(\n",
    "        temperature=0.6,  # randomness of the sampling\n",
    "        min_p=0.01,\n",
    "        skip_special_tokens=True,  # Whether to skip special tokens in the output\n",
    "        max_tokens=MAX_TOKENS,\n",
    "    )\n",
    "\n",
    "    list_of_messages: List[List[Dict[str, str]]] = [\n",
    "        [\n",
    "            {\n",
    "                \"role\": \"user\",\n",
    "                \"content\": reading_prompt.format(\n",
    "                    problem_statement=problem_statement[:20_000],\n",
    "                    directory_string=directory_string[:30_000],\n",
    "                ),\n",
    "            },\n",
    "        ]\n",
    "        for _ in range(BATCH_SIZE)\n",
    "    ]\n",
    "\n",
    "    prompt_texts: List[str] = [\n",
    "        (\n",
    "            tokenizer.apply_chat_template(\n",
    "                conversation=messages, tokenize=False, add_generation_prompt=True\n",
    "            )  # type: ignore\n",
    "        )\n",
    "        + \"<think>\\n\"\n",
    "        for messages in list_of_messages\n",
    "    ]\n",
    "    # print(prompt_texts)\n",
    "\n",
    "    print(\"get_selection_query\", [count_tokens(text) for text in prompt_texts])\n",
    "    request_outputs: list[RequestOutput] = llm.generate(\n",
    "        prompt_texts, sampling_params=sampling_params\n",
    "    )\n",
    "    if not request_outputs:\n",
    "        return [], []\n",
    "    response_texts: List[str] = [\n",
    "        request_output.outputs[0].text for request_output in request_outputs\n",
    "    ]\n",
    "    print(\"get_selection_query\", [count_tokens(text) for text in response_texts])\n",
    "\n",
    "    completion_texts = [\n",
    "        prompt_text + response_text\n",
    "        for prompt_text, response_text in zip(prompt_texts, response_texts)\n",
    "    ]\n",
    "    file_queries: List[Dict[str, List[str]]] = [\n",
    "        extract_file_query(response_text) for response_text in response_texts\n",
    "    ]\n",
    "    return completion_texts, file_queries"
   ]
  },
  {
   "cell_type": "code",
   "execution_count": null,
   "id": "6c88fb92",
   "metadata": {
    "_cell_guid": "97cbebf3-16b9-4971-a1b2-c5645c0fd3ef",
    "_uuid": "28a297dd-a6f2-4b9e-8c6d-3553187930ae",
    "collapsed": false,
    "execution": {
     "iopub.execute_input": "2025-03-06T18:27:50.694928Z",
     "iopub.status.busy": "2025-03-06T18:27:50.694683Z",
     "iopub.status.idle": "2025-03-06T18:27:50.710135Z",
     "shell.execute_reply": "2025-03-06T18:27:50.709529Z"
    },
    "jupyter": {
     "outputs_hidden": false
    },
    "papermill": {
     "duration": 0.035178,
     "end_time": "2025-03-06T18:27:50.711111",
     "exception": false,
     "start_time": "2025-03-06T18:27:50.675933",
     "status": "completed"
    },
    "tags": []
   },
   "outputs": [],
   "source": [
    "def fetch_file_contents(\n",
    "    files_to_search: Dict[str, List[str]], context_lines: int = 12, max_gap: int = 0\n",
    ") -> str:\n",
    "    from io import StringIO\n",
    "    from typing import Tuple\n",
    "\n",
    "    def find_lines_in_files_with_context(\n",
    "        search_map: Dict[str, List[str]], context_lines: int = context_lines\n",
    "    ) -> List[List[List[Tuple[int, str]]]]:\n",
    "        \"\"\"\n",
    "        Given a dictionary mapping file paths to a list of search terms,\n",
    "        open each file and gather *snippets* of lines that contain any\n",
    "        of those search terms, including 'context_lines' before and after.\n",
    "\n",
    "        Returns a list of lists:\n",
    "        [\n",
    "          [  # For file1\n",
    "             [ (line_number, text), (line_number, text), ... ],\n",
    "             [ ... ],\n",
    "          ],\n",
    "          [  # For file2\n",
    "             ...\n",
    "          ],\n",
    "          ...\n",
    "        ]\n",
    "        \"\"\"\n",
    "        all_matches_per_file: List[List[List[Tuple[int, str]]]] = []\n",
    "\n",
    "        for path, terms in search_map.items():\n",
    "            if not os.path.isfile(path):\n",
    "                # If the file is not found, record an empty list\n",
    "                all_matches_per_file.append([])\n",
    "                continue\n",
    "\n",
    "            with open(path, \"r\", encoding=\"utf-8\", errors=\"replace\") as f:\n",
    "                lines = f.readlines()\n",
    "\n",
    "            file_snippets: List[List[Tuple[int, str]]] = []\n",
    "            num_lines: int = len(lines)\n",
    "\n",
    "            for i, line in enumerate(lines, start=1):\n",
    "                if any(t in line for t in terms):\n",
    "                    start_idx: int = max(1, i - context_lines)\n",
    "                    end_idx: int = min(num_lines, i + context_lines)\n",
    "                    snippet: List[Tuple[int, str]] = []\n",
    "                    for snippet_no in range(start_idx, end_idx + 1):\n",
    "                        text_content: str = lines[snippet_no - 1].rstrip(\"\\n\")\n",
    "                        snippet.append((snippet_no, text_content))\n",
    "                    file_snippets.append(snippet)\n",
    "\n",
    "            all_matches_per_file.append(file_snippets)\n",
    "\n",
    "        return all_matches_per_file\n",
    "\n",
    "\n",
    "\n",
    "    def merge_file_snippets(\n",
    "        file_snippets: List[List[Tuple[int, str]]], gap: int = 0\n",
    "    ) -> List[List[Tuple[int, str]]]:\n",
    "        \"\"\"\n",
    "        Merge overlapping or nearly adjacent snippets in a single file’s snippet list.\n",
    "        \"\"\"\n",
    "        intervals: List[Tuple[int, int, List[Tuple[int, str]]]] = []\n",
    "        for snippet in file_snippets:\n",
    "            if snippet:\n",
    "                start_line: int = snippet[0][0]\n",
    "                end_line: int = snippet[-1][0]\n",
    "                intervals.append((start_line, end_line, snippet))\n",
    "\n",
    "        intervals.sort(key=lambda x: x[0])  # sort by start line\n",
    "\n",
    "        merged: List[Tuple[int, int, List[Tuple[int, str]]]] = []\n",
    "        for start, end, snippet in intervals:\n",
    "            if not merged:\n",
    "                merged.append((start, end, snippet))\n",
    "                continue\n",
    "\n",
    "            prev_start, prev_end, prev_snippet = merged[-1]\n",
    "            if start <= prev_end + gap:\n",
    "                new_end: int = max(end, prev_end)\n",
    "                combined_dict: Dict[int, str] = {}\n",
    "                for ln, txt in prev_snippet:\n",
    "                    combined_dict[ln] = txt\n",
    "                for ln, txt in snippet:\n",
    "                    combined_dict[ln] = txt\n",
    "                merged_snippet: List[Tuple[int, str]] = [\n",
    "                    (ln, combined_dict[ln]) for ln in sorted(combined_dict)\n",
    "                ]\n",
    "                merged[-1] = (prev_start, new_end, merged_snippet)\n",
    "            else:\n",
    "                merged.append((start, end, snippet))\n",
    "\n",
    "        # Extract just the merged snippet portion\n",
    "        return [x[2] for x in merged]\n",
    "\n",
    "    def merge_all_snippets(\n",
    "        all_files_snips: List[List[List[Tuple[int, str]]]], gap: int = 0\n",
    "    ) -> List[List[List[Tuple[int, str]]]]:\n",
    "        \"\"\"\n",
    "        Merge snippet blocks within each file.\n",
    "        all_files_snips is a list-of-lists:\n",
    "          [\n",
    "            [ snippetA, snippetB, ... ],  # file 1\n",
    "            [ snippetC, snippetD, ... ],  # file 2\n",
    "          ]\n",
    "        \"\"\"\n",
    "        merged: List[List[List[Tuple[int, str]]]] = []\n",
    "        for snips in all_files_snips:\n",
    "            merged.append(merge_file_snippets(snips, gap=gap))\n",
    "        return merged\n",
    "\n",
    "\n",
    "    has_any_matches: bool = False\n",
    "\n",
    "    # 1) Gather snippets around each match\n",
    "    context_snippets: List[List[List[Tuple[int, str]]]] = (\n",
    "        find_lines_in_files_with_context(files_to_search, context_lines=context_lines)\n",
    "    )\n",
    "\n",
    "    # 2) Merge overlapping snippets\n",
    "    merged_snips: List[List[List[Tuple[int, str]]]] = merge_all_snippets(\n",
    "        context_snippets, gap=max_gap\n",
    "    )\n",
    "\n",
    "    # 3) Build a string (instead of printing)\n",
    "    output = StringIO()\n",
    "\n",
    "    # Header\n",
    "    output.write(\"Sample files created successfully.\\n\\n\")\n",
    "    output.write(\"Search Results (by file, merging any overlapping context):\\n\\n\")\n",
    "\n",
    "    # For each file\n",
    "    for (filepath, terms), snippet_list in zip(files_to_search.items(), merged_snips):\n",
    "        output.write(f\"[file name]: {filepath[len(REPO_PATH) + 1:]}\\n\")\n",
    "        terms_searched_as_str = \"\\n\".join(terms)\n",
    "        output.write(f\"[terms searched]:\\n{terms_searched_as_str}\\n\")\n",
    "        output.write(\"[file content begin]\\n\")\n",
    "        if not snippet_list:\n",
    "            output.write(\"  No matches found.\\n\")\n",
    "        else:\n",
    "            has_any_matches = True\n",
    "            for snippet_idx, snippet in enumerate(snippet_list, start=1):\n",
    "                snippet_start: int = snippet[0][0]\n",
    "                snippet_end: int = snippet[-1][0]\n",
    "                output.write(\n",
    "                    f\"\\nMatch #{snippet_idx}, lines {snippet_start} to {snippet_end}:\\n\"\n",
    "                )\n",
    "                for line_no, text in snippet:\n",
    "                    output.write(f\"  {line_no:3d} | {text}\\n\")\n",
    "                output.write(\"\\n\")\n",
    "        output.write(\"[file content end]\\n\\n\")\n",
    "\n",
    "    file_content_string: str = output.getvalue()\n",
    "\n",
    "    if has_any_matches:\n",
    "        return file_content_string\n",
    "    return \"\""
   ]
  },
  {
   "cell_type": "code",
   "execution_count": 11,
   "id": "9ebfdfec",
   "metadata": {
    "_cell_guid": "99c7c237-6b7a-4160-b576-550fde9de659",
    "_uuid": "7f4d31bd-6729-40d7-b648-0c5d36742788",
    "collapsed": false,
    "execution": {
     "iopub.execute_input": "2025-03-06T18:27:50.748190Z",
     "iopub.status.busy": "2025-03-06T18:27:50.747963Z",
     "iopub.status.idle": "2025-03-06T18:27:50.751228Z",
     "shell.execute_reply": "2025-03-06T18:27:50.750649Z"
    },
    "jupyter": {
     "outputs_hidden": false
    },
    "papermill": {
     "duration": 0.022845,
     "end_time": "2025-03-06T18:27:50.752235",
     "exception": false,
     "start_time": "2025-03-06T18:27:50.729390",
     "status": "completed"
    },
    "tags": []
   },
   "outputs": [],
   "source": [
    "import re\n",
    "\n",
    "\n",
    "def extract_patch_string(text: str) -> Optional[str]:\n",
    "    pattern: str = r\"\\n```diff\\n(.*?)\\n```\"\n",
    "    matches: List[str] = re.findall(pattern, text, re.DOTALL)\n",
    "    if not matches:\n",
    "        return None\n",
    "    return matches[-1] + \"\\n\""
   ]
  },
  {
   "cell_type": "code",
   "execution_count": 12,
   "id": "527b1c8a",
   "metadata": {
    "_cell_guid": "d487fae6-778a-474f-a9cb-a97403c0033a",
    "_uuid": "69511c48-00b6-4d38-bd78-e1fe14891450",
    "collapsed": false,
    "execution": {
     "iopub.execute_input": "2025-03-06T18:27:50.789557Z",
     "iopub.status.busy": "2025-03-06T18:27:50.789305Z",
     "iopub.status.idle": "2025-03-06T18:27:50.797161Z",
     "shell.execute_reply": "2025-03-06T18:27:50.796571Z"
    },
    "jupyter": {
     "outputs_hidden": false
    },
    "papermill": {
     "duration": 0.027734,
     "end_time": "2025-03-06T18:27:50.798161",
     "exception": false,
     "start_time": "2025-03-06T18:27:50.770427",
     "status": "completed"
    },
    "tags": []
   },
   "outputs": [],
   "source": [
    "patching_prompt: str = (\n",
    "    \"\"\"\n",
    "You will be implementing a git diff patch to solve an issue with the code repository.\n",
    "This is the problem statement.\n",
    "\n",
    "{problem_statement}\n",
    "\n",
    "These are the files that is thought to be relevant\n",
    "\n",
    "{file_content_string}\n",
    "\n",
    "Write a git diff within ```diff and ``` that fully fixes the problem.\n",
    "The git diff should not cause other tests to fail.\n",
    "Do not edit the test files.\n",
    "\n",
    "Example:\n",
    "\n",
    "```diff\n",
    "--- a/first.txt\n",
    "+++ b/first.txt\n",
    "@@ -1,3 +1,3 @@\n",
    " start\n",
    "-first change\n",
    "+new first change\n",
    " middle\n",
    "@@ -7,4 +7,4 @@\n",
    " some content\n",
    "-second change\n",
    "+new second change\n",
    " more content\n",
    "--- a/second.txt\n",
    "+++ b/second.txt\n",
    "@@ -1,3 +1,3 @@\n",
    " beginning\n",
    "-old line\n",
    "+new line\n",
    " end\n",
    "```\n",
    "\n",
    "Reminder\n",
    "- Put your diff within ```diff and ``` and make sure the diff is valid.\n",
    "- Only the last diff printed will be considered.\n",
    "- Do not edit the test files.\n",
    "\"\"\".strip()\n",
    ")\n",
    "\n",
    "import re\n",
    "\n",
    "\n",
    "def get_patch_string(\n",
    "    problem_statement: str, file_content_strings: List[str]\n",
    ") -> Tuple[List[str], List[Optional[str]]]:\n",
    "    sampling_params: SamplingParams = SamplingParams(\n",
    "        temperature=0.6,  # randomness of the sampling\n",
    "        min_p=0.01,\n",
    "        skip_special_tokens=True,  # Whether to skip special tokens in the output\n",
    "        max_tokens=MAX_TOKENS,\n",
    "    )\n",
    "\n",
    "    inference_idx_to_input_idx: list[int] = [\n",
    "        input_idx\n",
    "        for input_idx, file_content_string in enumerate(file_content_strings)\n",
    "        if file_content_string != \"\"\n",
    "    ]\n",
    "\n",
    "    list_of_messages: List[List[Dict[str, str]]] = [\n",
    "        [\n",
    "            {\n",
    "                \"role\": \"user\",\n",
    "                \"content\": patching_prompt.format(\n",
    "                    problem_statement=problem_statement[:20_000],\n",
    "                    file_content_string=file_content_strings[input_idx][:30_000],\n",
    "                ),\n",
    "            },\n",
    "        ]\n",
    "        for input_idx in inference_idx_to_input_idx\n",
    "    ]\n",
    "\n",
    "    prompt_texts: List[str] = [\n",
    "        (\n",
    "            tokenizer.apply_chat_template(\n",
    "                conversation=messages, tokenize=False, add_generation_prompt=True\n",
    "            )  # type: ignore\n",
    "        )\n",
    "        + \"<think>\\n\"\n",
    "        for messages in list_of_messages\n",
    "    ]\n",
    "    # print(prompt_texts)\n",
    "\n",
    "    print(\"get_patch_string\", [count_tokens(text) for text in prompt_texts])\n",
    "    request_outputs: list[RequestOutput] = llm.generate(\n",
    "        prompt_texts, sampling_params=sampling_params\n",
    "    )\n",
    "    response_texts_from_inference: List[str] = [\n",
    "        request_output.outputs[0].text for request_output in request_outputs\n",
    "    ]\n",
    "    print(\n",
    "        \"get_patch_string\",\n",
    "        [count_tokens(text) for text in response_texts_from_inference],\n",
    "    )\n",
    "    completion_texts_from_inference = [\n",
    "        prompt_text + response_text\n",
    "        for prompt_text, response_text in zip(\n",
    "            prompt_texts, response_texts_from_inference\n",
    "        )\n",
    "    ]\n",
    "    patch_strings_from_inference: List[Optional[str]] = [\n",
    "        extract_patch_string(response_text)\n",
    "        for response_text in response_texts_from_inference\n",
    "    ]\n",
    "\n",
    "    completion_texts: list[str] = [\"\" for _ in file_content_strings]\n",
    "    patch_strings: List[Optional[str]] = [None for _ in file_content_strings]\n",
    "    for inference_idx, (completion_text, patch_string) in enumerate(\n",
    "        zip(completion_texts_from_inference, patch_strings_from_inference)\n",
    "    ):\n",
    "        input_idx = inference_idx_to_input_idx[inference_idx]\n",
    "        completion_texts[input_idx] = completion_text\n",
    "        patch_strings[input_idx] = patch_string\n",
    "\n",
    "    return completion_texts, patch_strings"
   ]
  },
  {
   "cell_type": "code",
   "execution_count": 13,
   "id": "77c8fb50",
   "metadata": {
    "_cell_guid": "c7239b62-1e48-45ca-8ef8-c701ebec687e",
    "_uuid": "6e92f7ca-1e80-45d8-8fbb-9d17debe2ab6",
    "collapsed": false,
    "execution": {
     "iopub.execute_input": "2025-03-06T18:27:50.834991Z",
     "iopub.status.busy": "2025-03-06T18:27:50.834770Z",
     "iopub.status.idle": "2025-03-06T18:27:50.845746Z",
     "shell.execute_reply": "2025-03-06T18:27:50.845151Z"
    },
    "jupyter": {
     "outputs_hidden": false
    },
    "papermill": {
     "duration": 0.03051,
     "end_time": "2025-03-06T18:27:50.846823",
     "exception": false,
     "start_time": "2025-03-06T18:27:50.816313",
     "status": "completed"
    },
    "tags": []
   },
   "outputs": [],
   "source": [
    "from pathlib import Path\n",
    "\n",
    "verifying_prompt: str = (\n",
    "    \"\"\"\n",
    "This is the problem statement.\n",
    "\n",
    "{problem_statement}\n",
    "\n",
    "These are the files that is thought to be relevant, which may not be complete.\n",
    "\n",
    "{file_content_string}\n",
    "\n",
    "This is the proposed patch to fix the problem.\n",
    "\n",
    "{patch_string}\n",
    "\n",
    "Evaluate whether the patch works\n",
    "- The patch fully fixes the problem described in the problem statement.\n",
    "- The patch does not cause side effects and make any other tests fail.\n",
    "\n",
    "End your response with exactly either of\n",
    "- <label>Yes</label>, this fixes the problem.\n",
    "- <label>No</label>, this does not fix the problem.\n",
    "\n",
    "Reminder\n",
    "- Only evaluate, do not provide suggestion on how to fix.\n",
    "- Remember to write exactly either of <label>Yes</label> or <label>No</label> in the last line\n",
    "\"\"\".strip()\n",
    ")\n",
    "\n",
    "\n",
    "from functools import cache\n",
    "\n",
    "\n",
    "@cache\n",
    "def is_valid_patch_format(patch_string: str) -> bool:\n",
    "    \"\"\"\n",
    "    A quick check to confirm if a patch could be valid.\n",
    "    \"\"\"\n",
    "    if not isinstance(patch_string, str):\n",
    "        return False\n",
    "    try:\n",
    "        patch_set = unidiff.PatchSet(patch_string)\n",
    "        if len(patch_set) == 0:\n",
    "            return False\n",
    "    except Exception:\n",
    "        return False\n",
    "    return True\n",
    "\n",
    "\n",
    "@cache\n",
    "def patch_dry_run_succeeds(\n",
    "    patch_string: str, repo_path: str = REPO_PATH, timeout: int = 60\n",
    ") -> bool:\n",
    "    \"\"\"\n",
    "    A robust check if the patch will proceed without any errors.\n",
    "    Should be run after `is_valid_patch_format()`: the patch\n",
    "    command can hang if the inputs are sufficiently invalid.\n",
    "\n",
    "    Args:\n",
    "        patch_path: Path to a file containing the patch.\n",
    "        repo_path: Path to the directory to be patched.\n",
    "        timeout: Number of seconds before the dry run will be cancelled.\n",
    "    \"\"\"\n",
    "    with open(\"patch.txt\", \"w\") as f:\n",
    "        f.write(patch_string)\n",
    "    patch_path = \"/kaggle/working/patch.txt\"\n",
    "\n",
    "    cmd = f\"patch --quiet --dry-run -p1 -i {patch_path} -d {repo_path}\"\n",
    "    try:\n",
    "        subprocess.run(cmd, shell=True, check=True, timeout=timeout)\n",
    "        return True\n",
    "    except subprocess.CalledProcessError:\n",
    "        return False\n",
    "\n",
    "\n",
    "def get_verification(\n",
    "    problem_statement: str,\n",
    "    file_content_strings: List[str],\n",
    "    patch_strings: List[Optional[str]],\n",
    "    repo_path: str,\n",
    ") -> Tuple[List[List[str]], List[List[bool]]]:\n",
    "    assert len(file_content_strings) == len(patch_strings)\n",
    "    sampling_params: SamplingParams = SamplingParams(\n",
    "        temperature=0.6,  # randomness of the sampling\n",
    "        min_p=0.01,\n",
    "        skip_special_tokens=True,  # Whether to skip special tokens in the output\n",
    "        max_tokens=MAX_TOKENS,\n",
    "    )\n",
    "\n",
    "    inference_idx_to_input_idx: list[int] = [\n",
    "        input_idx\n",
    "        for _ in range(VALIDATION_COPY_COUNT)\n",
    "        for input_idx, patch_string in enumerate(patch_strings)\n",
    "        if patch_string is not None\n",
    "        and is_valid_patch_format(patch_string)\n",
    "        and patch_dry_run_succeeds(patch_string, repo_path)\n",
    "    ]\n",
    "    print(inference_idx_to_input_idx)\n",
    "\n",
    "    list_of_messages: List[List[Dict[str, str]]] = [\n",
    "        [\n",
    "            {\n",
    "                \"role\": \"user\",\n",
    "                \"content\": verifying_prompt.format(\n",
    "                    problem_statement=problem_statement[:20_000],\n",
    "                    file_content_string=file_content_strings[input_idx][:30_000],\n",
    "                    patch_string=patch_strings[input_idx],\n",
    "                ),\n",
    "            },\n",
    "        ]\n",
    "        for input_idx in inference_idx_to_input_idx\n",
    "    ]\n",
    "\n",
    "    prompt_texts: List[str] = [\n",
    "        (\n",
    "            tokenizer.apply_chat_template(\n",
    "                conversation=messages, tokenize=False, add_generation_prompt=True\n",
    "            )  # type: ignore\n",
    "        )\n",
    "        + \"<think>\\n\"\n",
    "        for messages in list_of_messages\n",
    "    ]\n",
    "    # print(prompt_texts)\n",
    "\n",
    "    print(\"get_verification\", [count_tokens(text) for text in prompt_texts])\n",
    "    request_outputs: list[RequestOutput] = llm.generate(\n",
    "        prompt_texts, sampling_params=sampling_params\n",
    "    )\n",
    "    response_texts: List[str] = [\n",
    "        request_output.outputs[0].text for request_output in request_outputs\n",
    "    ]\n",
    "    print(\"get_verification\", [count_tokens(text) for text in response_texts])\n",
    "\n",
    "    completion_texts = [\n",
    "        prompt_text + response_text\n",
    "        for prompt_text, response_text in zip(prompt_texts, response_texts)\n",
    "    ]\n",
    "    judgments_flattened: List[bool] = [\n",
    "        \"<label>Yes</label>\" in response_text for response_text in response_texts\n",
    "    ]\n",
    "    print(judgments_flattened)\n",
    "\n",
    "    judgments_aggregated: List[List[bool]] = [[] for _ in file_content_strings]\n",
    "    completion_text_aggregated: List[List[str]] = [[] for _ in patch_strings]\n",
    "    for inference_idx, (completion_text, judgement) in enumerate(\n",
    "        zip(completion_texts, judgments_flattened)\n",
    "    ):\n",
    "        input_idx = inference_idx_to_input_idx[inference_idx]\n",
    "        completion_text_aggregated[input_idx].append(completion_text)\n",
    "        judgments_aggregated[input_idx].append(judgement)\n",
    "    print(judgments_aggregated)\n",
    "\n",
    "    return completion_text_aggregated, judgments_aggregated"
   ]
  },
  {
   "cell_type": "code",
   "execution_count": 14,
   "id": "fbe90b39",
   "metadata": {
    "_cell_guid": "be966b8c-14b0-4c59-a77d-15566f315988",
    "_uuid": "16cae032-ec07-427c-9f97-14ee6032f9b7",
    "collapsed": false,
    "execution": {
     "iopub.execute_input": "2025-03-06T18:27:50.923380Z",
     "iopub.status.busy": "2025-03-06T18:27:50.923086Z",
     "iopub.status.idle": "2025-03-06T18:27:50.928199Z",
     "shell.execute_reply": "2025-03-06T18:27:50.927577Z"
    },
    "jupyter": {
     "outputs_hidden": false
    },
    "papermill": {
     "duration": 0.064475,
     "end_time": "2025-03-06T18:27:50.929236",
     "exception": false,
     "start_time": "2025-03-06T18:27:50.864761",
     "status": "completed"
    },
    "tags": []
   },
   "outputs": [],
   "source": [
    "import unidiff\n",
    "import subprocess\n",
    "\n",
    "\n",
    "def choose_patch_string(\n",
    "    patch_strings: list[Optional[str]],\n",
    "    judgments_aggregated: List[List[bool]],\n",
    "    repo_path: str,\n",
    ") -> tuple[list[int], Optional[str]]:\n",
    "    best_score = -1\n",
    "    best_patch_string = None\n",
    "\n",
    "    scores = []\n",
    "    for judgments, patch_string in zip(judgments_aggregated, patch_strings):\n",
    "\n",
    "        if patch_string is None:\n",
    "            score = -103\n",
    "            scores.append(score)\n",
    "            continue\n",
    "\n",
    "        if not is_valid_patch_format(patch_string):\n",
    "            score = -102\n",
    "            scores.append(score)\n",
    "            continue\n",
    "\n",
    "        if not patch_dry_run_succeeds(patch_string, repo_path):\n",
    "            score = -101\n",
    "            scores.append(score)\n",
    "            continue\n",
    "\n",
    "        score = judgments.count(True)\n",
    "        scores.append(score)\n",
    "\n",
    "        if score > best_score:\n",
    "            best_score = score\n",
    "            best_patch_string = patch_string\n",
    "\n",
    "    return scores, best_patch_string"
   ]
  },
  {
   "cell_type": "code",
   "execution_count": 15,
   "id": "5150c0df",
   "metadata": {
    "_cell_guid": "4cd441a0-1ab8-4dbf-b55a-a1dd42bed643",
    "_uuid": "bfc7f6a8-4465-4729-ad94-15dd100bd3ae",
    "collapsed": false,
    "execution": {
     "iopub.execute_input": "2025-03-06T18:27:51.002349Z",
     "iopub.status.busy": "2025-03-06T18:27:51.002102Z",
     "iopub.status.idle": "2025-03-06T18:27:51.008631Z",
     "shell.execute_reply": "2025-03-06T18:27:51.008019Z"
    },
    "jupyter": {
     "outputs_hidden": false
    },
    "papermill": {
     "duration": 0.026202,
     "end_time": "2025-03-06T18:27:51.009619",
     "exception": false,
     "start_time": "2025-03-06T18:27:50.983417",
     "status": "completed"
    },
    "tags": []
   },
   "outputs": [],
   "source": [
    "def predict_inner(problem_statement: str, directory: str) -> Optional[str]:\n",
    "    is_valid_patch_format.cache_clear()\n",
    "    patch_dry_run_succeeds.cache_clear()\n",
    "\n",
    "    directory_string = stringify_directory(directory)\n",
    "\n",
    "    selection_completion_texts, file_queries = get_selection_query(\n",
    "        directory_string, problem_statement\n",
    "    )\n",
    "\n",
    "    file_content_strings: List[str] = [\n",
    "        fetch_file_contents(file_query) for file_query in file_queries\n",
    "    ]\n",
    "\n",
    "    patch_completion_texts, patch_strings = get_patch_string(\n",
    "        problem_statement, file_content_strings\n",
    "    )\n",
    "\n",
    "    verification_completion_texts_aggregated, judgments_aggregated = get_verification(\n",
    "        problem_statement, file_content_strings, patch_strings, directory\n",
    "    )\n",
    "\n",
    "    scores, patch_string = choose_patch_string(\n",
    "        patch_strings, judgments_aggregated, directory\n",
    "    )\n",
    "\n",
    "    if not os.getenv(\"KAGGLE_IS_COMPETITION_RERUN\"):\n",
    "        data = {\n",
    "            \"problem_statement\": [problem_statement] * len(file_queries),\n",
    "            \"selection_completion_text\": selection_completion_texts,\n",
    "            \"selection_completion_length\": [\n",
    "                count_tokens(completion_text)\n",
    "                for completion_text in selection_completion_texts\n",
    "            ],\n",
    "            \"file_query\": file_queries,\n",
    "            \"file_content_string\": file_content_strings,\n",
    "            \"patch_completion_text\": patch_completion_texts,\n",
    "            \"patch_completion_length\": [\n",
    "                count_tokens(completion_text)\n",
    "                for completion_text in patch_completion_texts\n",
    "            ],\n",
    "            \"patch_string\": patch_strings,\n",
    "        }\n",
    "\n",
    "        for copy_idx in range(VALIDATION_COPY_COUNT):\n",
    "            data[f\"verification_completion_text_{copy_idx}\"] = [\n",
    "                completion_texts[copy_idx] if completion_texts else None\n",
    "                for completion_texts in verification_completion_texts_aggregated\n",
    "            ]\n",
    "            data[f\"verification_completion_length_{copy_idx}\"] = [\n",
    "                count_tokens(completion_texts[copy_idx]) if completion_texts else None\n",
    "                for completion_texts in verification_completion_texts_aggregated\n",
    "            ]\n",
    "            data[f\"judgment_{copy_idx}\"] = [\n",
    "                judgments[copy_idx] if judgments else None\n",
    "                for judgments in judgments_aggregated\n",
    "            ]\n",
    "\n",
    "        data[\"judgment_count_true\"] = [\n",
    "            judgments.count(True) for judgments in judgments_aggregated\n",
    "        ]\n",
    "        data[\"score\"] = scores\n",
    "\n",
    "        pd.DataFrame(data).to_csv(\n",
    "            f\"{str(int(time.time() - start_time)).zfill(5)}.csv\", index=False\n",
    "        )\n",
    "\n",
    "    return patch_string"
   ]
  },
  {
   "cell_type": "code",
   "execution_count": 16,
   "id": "82cbc3bc",
   "metadata": {
    "_cell_guid": "7e0d9952-8792-4310-8d0c-43d823bd06b9",
    "_uuid": "c43def43-2e77-4cca-bdf7-6d10c08815fc",
    "collapsed": false,
    "execution": {
     "iopub.execute_input": "2025-03-06T18:27:51.046788Z",
     "iopub.status.busy": "2025-03-06T18:27:51.046523Z",
     "iopub.status.idle": "2025-03-06T18:27:51.051880Z",
     "shell.execute_reply": "2025-03-06T18:27:51.051255Z"
    },
    "jupyter": {
     "outputs_hidden": false
    },
    "papermill": {
     "duration": 0.025035,
     "end_time": "2025-03-06T18:27:51.052846",
     "exception": false,
     "start_time": "2025-03-06T18:27:51.027811",
     "status": "completed"
    },
    "tags": []
   },
   "outputs": [],
   "source": [
    "import io\n",
    "from typing import Optional, List\n",
    "\n",
    "initial_predictions_left = 5\n",
    "predictions_left = initial_predictions_left\n",
    "\n",
    "\n",
    "def predict(\n",
    "    problem_statement: str,\n",
    "    repo_archive: io.BytesIO,\n",
    "    pip_packages_archive: io.BytesIO,\n",
    "    env_setup_cmds_templates: List[str],\n",
    ") -> Optional[str]:\n",
    "    \"\"\"Replace this function with your inference code.\n",
    "    Args:\n",
    "        problem_statement: The text of the git issue.\n",
    "        repo_archive: A BytesIO buffer path with a .tar containing the codebase that must be patched. The gateway will make this directory available immediately before this function runs.\n",
    "    \"\"\"\n",
    "    allowed_time[-1] += 6 * 60\n",
    "    if time.time() > allowed_time[-1]:\n",
    "        return None\n",
    "\n",
    "    global predictions_left\n",
    "    if predictions_left == 0:\n",
    "        return None\n",
    "\n",
    "    repo_path: str = REPO_PATH\n",
    "    if not os.path.exists(repo_path):\n",
    "        os.makedirs(repo_path)\n",
    "\n",
    "    setup(repo_archive, pip_packages_archive, env_setup_cmds_templates, repo_path)\n",
    "\n",
    "    patch_string = predict_inner(\n",
    "        problem_statement=problem_statement,\n",
    "        directory=repo_path,\n",
    "    )\n",
    "\n",
    "    if os.path.exists(repo_path):\n",
    "        shutil.rmtree(repo_path)\n",
    "\n",
    "    if os.getenv(\"KAGGLE_IS_COMPETITION_RERUN\"):\n",
    "        predictions_left -= 1\n",
    "    else:\n",
    "        predictions_left = 0\n",
    "\n",
    "    print(\"submitted patch_string\")\n",
    "    print(patch_string)\n",
    "\n",
    "    if patch_string is None:\n",
    "        return None\n",
    "\n",
    "    return patch_string"
   ]
  },
  {
   "cell_type": "markdown",
   "id": "4cb580b2",
   "metadata": {
    "_cell_guid": "594d02e7-7ef2-4aa2-8c2b-01bfdc4f66eb",
    "_uuid": "d0174590-1085-45ff-b098-5122486f42ec",
    "collapsed": false,
    "jupyter": {
     "outputs_hidden": false
    },
    "papermill": {
     "duration": 0.017898,
     "end_time": "2025-03-06T18:27:51.088893",
     "exception": false,
     "start_time": "2025-03-06T18:27:51.070995",
     "status": "completed"
    },
    "tags": []
   },
   "source": [
    "# Get predict data without server"
   ]
  },
  {
   "cell_type": "code",
   "execution_count": 17,
   "id": "c12c30b8",
   "metadata": {
    "_cell_guid": "668b6305-e306-43bb-8156-5c49f9784ad3",
    "_uuid": "59c8d09c-c2c1-4889-9ace-05c3a038d52b",
    "collapsed": false,
    "execution": {
     "iopub.execute_input": "2025-03-06T18:27:51.125728Z",
     "iopub.status.busy": "2025-03-06T18:27:51.125472Z",
     "iopub.status.idle": "2025-03-06T18:27:54.400736Z",
     "shell.execute_reply": "2025-03-06T18:27:54.400001Z"
    },
    "jupyter": {
     "outputs_hidden": false
    },
    "papermill": {
     "duration": 3.295248,
     "end_time": "2025-03-06T18:27:54.402187",
     "exception": false,
     "start_time": "2025-03-06T18:27:51.106939",
     "status": "completed"
    },
    "tags": []
   },
   "outputs": [],
   "source": [
    "import os\n",
    "import zipfile\n",
    "\n",
    "# !mkdir -p /kaggle/tmp/konwinski-prize-alt\n",
    "os.makedirs(\"/kaggle/tmp/konwinski-prize-alt\", exist_ok=True)\n",
    "\n",
    "# !unzip -q -o /kaggle/input/konwinski-prize/data.a_zip -d /kaggle/tmp/konwinski-prize-alt/ 2>/dev/null || true\n",
    "try:\n",
    "    with zipfile.ZipFile(\"/kaggle/input/konwinski-prize/data.a_zip\", \"r\") as zip_ref:\n",
    "        zip_ref.extractall(\"/kaggle/tmp/konwinski-prize-alt/\")\n",
    "except:\n",
    "    pass"
   ]
  },
  {
   "cell_type": "code",
   "execution_count": 18,
   "id": "ad00584c",
   "metadata": {
    "_cell_guid": "a2da7861-bb26-4b3a-86ed-5d2b7c0ec33b",
    "_uuid": "358eb3ee-1500-4784-b5f7-44489a3f5e5a",
    "collapsed": false,
    "execution": {
     "iopub.execute_input": "2025-03-06T18:27:54.439818Z",
     "iopub.status.busy": "2025-03-06T18:27:54.439545Z",
     "iopub.status.idle": "2025-03-06T18:27:54.482421Z",
     "shell.execute_reply": "2025-03-06T18:27:54.481819Z"
    },
    "jupyter": {
     "outputs_hidden": false
    },
    "papermill": {
     "duration": 0.062532,
     "end_time": "2025-03-06T18:27:54.483467",
     "exception": false,
     "start_time": "2025-03-06T18:27:54.420935",
     "status": "completed"
    },
    "tags": []
   },
   "outputs": [],
   "source": [
    "import pandas as pd\n",
    "\n",
    "temp_data_dir = \"/kaggle/tmp/konwinski-prize-alt/data/\"\n",
    "metadata_path = os.path.join(temp_data_dir, \"data.parquet\")\n",
    "pip_packages_dir = os.path.join(temp_data_dir, \"pip_packages\")\n",
    "repo_config_dir = os.path.join(temp_data_dir, \"repo_configs\")\n",
    "repo_dir = os.path.join(temp_data_dir, \"repos\")\n",
    "\n",
    "from kprize_setup.kprize.evaluation.kprize_env_handler import KprizeEnvHandler\n",
    "\n",
    "\n",
    "def get_problem(problem_index: int) -> tuple[str, io.BytesIO, io.BytesIO, list[str]]:\n",
    "    df = pd.read_parquet(\"/kaggle/tmp/konwinski-prize-alt/data/data.parquet\")\n",
    "    problem_statement: str = df[\"problem_statement\"][problem_index]\n",
    "\n",
    "    repo_path = os.path.join(repo_dir, f\"repo__{df['instance_id'][problem_index]}\")\n",
    "    pip_packages_path = os.path.join(pip_packages_dir, df[\"instance_id\"][problem_index])\n",
    "\n",
    "    import shutil\n",
    "    import tempfile\n",
    "\n",
    "    with tempfile.TemporaryDirectory() as tmpdir:\n",
    "        # instance repo\n",
    "        shutil.make_archive(os.path.join(tmpdir, \"a_repo\"), \"tar\", repo_path)\n",
    "        with open(os.path.join(tmpdir, \"a_repo.tar\"), \"rb\") as f:\n",
    "            repo_buffer = io.BytesIO(f.read())\n",
    "        # instance pip packages\n",
    "        shutil.make_archive(\n",
    "            os.path.join(tmpdir, \"a_pip_packages_dir\"), \"tar\", pip_packages_path\n",
    "        )\n",
    "        with open(os.path.join(tmpdir, \"a_pip_packages_dir.tar\"), \"rb\") as f:\n",
    "            pip_packages_buffer = io.BytesIO(f.read())\n",
    "\n",
    "    repo_config_path = os.path.join(\n",
    "        repo_config_dir, df[\"instance_id\"][problem_index].rsplit(\"-\", maxsplit=1)[0]\n",
    "    )\n",
    "    env_setup_cmd_templates = KprizeEnvHandler.get_env_setup_cmds_templates(\n",
    "        repo_config_path\n",
    "    )\n",
    "    return problem_statement, repo_buffer, pip_packages_buffer, env_setup_cmd_templates"
   ]
  },
  {
   "cell_type": "code",
   "execution_count": 19,
   "id": "07a13ad8",
   "metadata": {
    "_cell_guid": "a088661b-d627-47c4-89ba-f275bb96d5d0",
    "_uuid": "6c027058-d972-420d-bd4f-6fb7b4f263b8",
    "collapsed": false,
    "execution": {
     "iopub.execute_input": "2025-03-06T18:27:54.521797Z",
     "iopub.status.busy": "2025-03-06T18:27:54.521449Z",
     "iopub.status.idle": "2025-03-06T18:27:54.525814Z",
     "shell.execute_reply": "2025-03-06T18:27:54.525106Z"
    },
    "jupyter": {
     "outputs_hidden": false
    },
    "papermill": {
     "duration": 0.024951,
     "end_time": "2025-03-06T18:27:54.526991",
     "exception": false,
     "start_time": "2025-03-06T18:27:54.502040",
     "status": "completed"
    },
    "tags": []
   },
   "outputs": [],
   "source": [
    "demo_problem_index: int = 0\n",
    "\n",
    "if os.getenv(\"KAGGLE_KERNEL_RUN_TYPE\") == \"Interactive\" and not os.getenv(\n",
    "    \"KAGGLE_IS_COMPETITION_RERUN\"\n",
    "):\n",
    "    problem_statement, repo_buffer, pip_packages_buffer, env_setup_cmd_templates = (\n",
    "        get_problem(problem_index=demo_problem_index)\n",
    "    )\n",
    "\n",
    "    print(problem_statement)\n",
    "    print(len(list(repo_buffer)))\n",
    "    print(len(list(repo_buffer)))\n",
    "    print(len(list(pip_packages_buffer)))\n",
    "    print(len(list(pip_packages_buffer)))\n",
    "    print(env_setup_cmd_templates)"
   ]
  },
  {
   "cell_type": "code",
   "execution_count": 20,
   "id": "5d3898a6",
   "metadata": {
    "_cell_guid": "775d0efc-23a9-4202-9f53-94f6ac42a415",
    "_kg_hide-output": true,
    "_uuid": "e6d8f807-9248-4953-acf2-96610df3b98e",
    "collapsed": false,
    "execution": {
     "iopub.execute_input": "2025-03-06T18:27:54.564385Z",
     "iopub.status.busy": "2025-03-06T18:27:54.564116Z",
     "iopub.status.idle": "2025-03-06T18:27:54.567662Z",
     "shell.execute_reply": "2025-03-06T18:27:54.567039Z"
    },
    "jupyter": {
     "outputs_hidden": false
    },
    "papermill": {
     "duration": 0.0233,
     "end_time": "2025-03-06T18:27:54.568683",
     "exception": false,
     "start_time": "2025-03-06T18:27:54.545383",
     "status": "completed"
    },
    "tags": []
   },
   "outputs": [],
   "source": [
    "if os.getenv(\"KAGGLE_KERNEL_RUN_TYPE\") == \"Interactive\" and not os.getenv(\n",
    "    \"KAGGLE_IS_COMPETITION_RERUN\"\n",
    "):\n",
    "    predictions_left = 1\n",
    "    problem_statement, repo_buffer, pip_packages_buffer, env_setup_cmd_templates = (\n",
    "        get_problem(problem_index=demo_problem_index)\n",
    "    )\n",
    "    patch_string = predict(\n",
    "        problem_statement, repo_buffer, pip_packages_buffer, env_setup_cmd_templates\n",
    "    )"
   ]
  },
  {
   "cell_type": "code",
   "execution_count": 21,
   "id": "46d117c0",
   "metadata": {
    "_cell_guid": "65bc0028-8bd7-48e2-8f3a-e319889bdc08",
    "_uuid": "5292db7c-2f74-4e87-b9c5-d68c061cc0e9",
    "collapsed": false,
    "execution": {
     "iopub.execute_input": "2025-03-06T18:27:54.606118Z",
     "iopub.status.busy": "2025-03-06T18:27:54.605854Z",
     "iopub.status.idle": "2025-03-06T18:27:54.610042Z",
     "shell.execute_reply": "2025-03-06T18:27:54.609449Z"
    },
    "jupyter": {
     "outputs_hidden": false
    },
    "papermill": {
     "duration": 0.024124,
     "end_time": "2025-03-06T18:27:54.611068",
     "exception": false,
     "start_time": "2025-03-06T18:27:54.586944",
     "status": "completed"
    },
    "tags": []
   },
   "outputs": [],
   "source": [
    "if (\n",
    "    os.getenv(\"KAGGLE_KERNEL_RUN_TYPE\") == \"Interactive\"\n",
    "    and not os.getenv(\"KAGGLE_IS_COMPETITION_RERUN\")\n",
    "    and patch_string is not None\n",
    "):\n",
    "    import polars as pl\n",
    "\n",
    "    df = pl.read_parquet(\"/kaggle/tmp/konwinski-prize-alt/data/data.parquet\")\n",
    "\n",
    "    import kaggle_evaluation.konwinski_prize_gateway\n",
    "\n",
    "    k_prize_gateway = kaggle_evaluation.konwinski_prize_gateway.KPrizeGateway()\n",
    "    k_prize_gateway.unpack_data_paths()\n",
    "\n",
    "    results = k_prize_gateway._evaluate_instance(\n",
    "        instance=df.row(demo_problem_index, named=True),\n",
    "        patch=patch_string,\n",
    "    )\n",
    "\n",
    "    from collections import Counter\n",
    "\n",
    "    print(\n",
    "        demo_problem_index, Counter(result.unit_test_outcome for result in results[1:])\n",
    "    )"
   ]
  },
  {
   "cell_type": "code",
   "execution_count": 22,
   "id": "b0521105",
   "metadata": {
    "_cell_guid": "1dcd6015-a9f3-4560-8021-a18c11660cee",
    "_uuid": "08300287-f22c-477a-83b9-e092ee467778",
    "collapsed": false,
    "execution": {
     "iopub.execute_input": "2025-03-06T18:27:54.648236Z",
     "iopub.status.busy": "2025-03-06T18:27:54.647998Z",
     "iopub.status.idle": "2025-03-06T18:27:54.651566Z",
     "shell.execute_reply": "2025-03-06T18:27:54.650963Z"
    },
    "jupyter": {
     "outputs_hidden": false
    },
    "papermill": {
     "duration": 0.023257,
     "end_time": "2025-03-06T18:27:54.652581",
     "exception": false,
     "start_time": "2025-03-06T18:27:54.629324",
     "status": "completed"
    },
    "tags": []
   },
   "outputs": [],
   "source": [
    "if (\n",
    "    os.getenv(\"KAGGLE_KERNEL_RUN_TYPE\") == \"Interactive\"\n",
    "    and not os.getenv(\"KAGGLE_IS_COMPETITION_RERUN\")\n",
    "    and patch_string is not None\n",
    "):\n",
    "    from kaggle_evaluation.konwinski_prize_gateway import UnitTestOutcome\n",
    "\n",
    "    for result in results[1:]:\n",
    "        if result.unit_test_outcome != UnitTestOutcome.PASSED:\n",
    "            print(result.test_name)\n",
    "            print(result.fail_description)"
   ]
  },
  {
   "cell_type": "code",
   "execution_count": 23,
   "id": "1749b0d2",
   "metadata": {
    "_cell_guid": "8108d3d6-025a-4d4b-81bb-71befac78363",
    "_uuid": "e81dc05e-cf68-4e6e-bb2d-2afd6d2a1968",
    "collapsed": false,
    "execution": {
     "iopub.execute_input": "2025-03-06T18:27:54.761428Z",
     "iopub.status.busy": "2025-03-06T18:27:54.761164Z",
     "iopub.status.idle": "2025-03-06T18:27:54.764017Z",
     "shell.execute_reply": "2025-03-06T18:27:54.763425Z"
    },
    "jupyter": {
     "outputs_hidden": false
    },
    "papermill": {
     "duration": 0.022214,
     "end_time": "2025-03-06T18:27:54.764975",
     "exception": false,
     "start_time": "2025-03-06T18:27:54.742761",
     "status": "completed"
    },
    "tags": []
   },
   "outputs": [],
   "source": [
    "predictions_left = initial_predictions_left"
   ]
  },
  {
   "cell_type": "code",
   "execution_count": 24,
   "id": "ec9030fb",
   "metadata": {
    "_cell_guid": "e2ec01ec-e95a-40be-8074-99e382e1a9a4",
    "_kg_hide-output": true,
    "_uuid": "71fea716-cca0-478b-8d29-383a59254aaf",
    "collapsed": false,
    "execution": {
     "iopub.execute_input": "2025-03-06T18:27:54.801643Z",
     "iopub.status.busy": "2025-03-06T18:27:54.801409Z",
     "iopub.status.idle": "2025-03-06T18:31:55.169602Z",
     "shell.execute_reply": "2025-03-06T18:31:55.168681Z"
    },
    "jupyter": {
     "outputs_hidden": false
    },
    "papermill": {
     "duration": 240.388151,
     "end_time": "2025-03-06T18:31:55.171145",
     "exception": false,
     "start_time": "2025-03-06T18:27:54.782994",
     "status": "completed"
    },
    "tags": []
   },
   "outputs": [
    {
     "name": "stdout",
     "output_type": "stream",
     "text": [
      "Existing uv installation found. Skipping uv installation.\n",
      "Installing Python 3.11...\n",
      "get_selection_query [3989, 3989, 3989, 3989, 3989, 3989, 3989, 3989, 3989, 3989, 3989, 3989, 3989, 3989, 3989, 3989, 3989, 3989, 3989, 3989]\n"
     ]
    },
    {
     "name": "stderr",
     "output_type": "stream",
     "text": [
      "Processed prompts: 100%|██████████| 20/20 [01:41<00:00,  5.06s/it, est. speed input: 788.46 toks/s, output: 248.11 toks/s]\n"
     ]
    },
    {
     "name": "stdout",
     "output_type": "stream",
     "text": [
      "get_selection_query [1162, 1404, 994, 497, 659, 1642, 899, 861, 1096, 1641, 828, 1706, 1225, 1605, 1036, 1994, 1587, 1149, 2255, 865]\n",
      "get_patch_string [911, 865, 826, 872, 976, 857, 958, 826, 945, 874, 836, 892, 906, 828, 890]\n"
     ]
    },
    {
     "name": "stderr",
     "output_type": "stream",
     "text": [
      "Processed prompts: 100%|██████████| 15/15 [01:45<00:00,  7.06s/it, est. speed input: 125.18 toks/s, output: 261.84 toks/s]\n"
     ]
    },
    {
     "name": "stdout",
     "output_type": "stream",
     "text": [
      "get_patch_string [536, 2746, 575, 673, 3604, 3382, 3509, 1140, 906, 2102, 839, 4236, 2087, 523, 882]\n",
      "[14, 18, 14, 18, 14, 18]\n",
      "get_verification [907, 860, 907, 860, 907, 860]\n"
     ]
    },
    {
     "name": "stderr",
     "output_type": "stream",
     "text": [
      "Processed prompts: 100%|██████████| 6/6 [00:14<00:00,  2.36s/it, est. speed input: 375.18 toks/s, output: 207.23 toks/s]\n"
     ]
    },
    {
     "name": "stdout",
     "output_type": "stream",
     "text": [
      "get_verification [497, 668, 351, 446, 453, 513]\n",
      "[False, True, True, True, False, True]\n",
      "[[], [], [], [], [], [], [], [], [], [], [], [], [], [], [False, True, False], [], [], [], [True, True, True], []]\n",
      "submitted patch_string\n",
      "--- a/astroid/nodes/node_classes.py\n",
      "+++ b/astroid/nodes/node_classes.py\n",
      "@@ -4694,6 +4694,9 @@\n",
      "                     continue\n",
      "                 formatted = format(value.value, format_spec.value)\n",
      "                 yield Const(\n",
      "+            if value.value is None:\n",
      "+                yield util.Uninferable\n",
      "+                continue\n",
      "                     formatted,\n",
      "                     lineno=self.lineno,\n",
      "                     col_offset=self.col_offset,\n",
      "\n"
     ]
    }
   ],
   "source": [
    "inference_server = (\n",
    "    kaggle_evaluation.konwinski_prize_inference_server.KPrizeInferenceServer(\n",
    "        get_number_of_instances, predict\n",
    "    )\n",
    ")\n",
    "\n",
    "if os.getenv(\"KAGGLE_IS_COMPETITION_RERUN\"):\n",
    "    inference_server.serve()\n",
    "else:\n",
    "    inference_server.run_local_gateway(\n",
    "        data_paths=(\n",
    "            \"/kaggle/input/konwinski-prize/\",  # Path to the entire competition dataset\n",
    "            \"/kaggle/tmp/konwinski-prize/\",  # Path to a scratch directory for unpacking data.a_zip.\n",
    "        )  # type: ignore\n",
    "    )"
   ]
  },
  {
   "cell_type": "code",
   "execution_count": null,
   "id": "ded5d1a0",
   "metadata": {
    "_cell_guid": "0ce34cf1-7275-4373-a521-5cec87057e15",
    "_uuid": "16e8618e-fbfa-43ef-a0fc-5ab227edea0b",
    "collapsed": false,
    "jupyter": {
     "outputs_hidden": false
    },
    "papermill": {
     "duration": 0.020448,
     "end_time": "2025-03-06T18:31:55.213070",
     "exception": false,
     "start_time": "2025-03-06T18:31:55.192622",
     "status": "completed"
    },
    "tags": []
   },
   "outputs": [],
   "source": []
  },
  {
   "cell_type": "code",
   "execution_count": null,
   "id": "caf8555e",
   "metadata": {
    "papermill": {
     "duration": 0.020281,
     "end_time": "2025-03-06T18:31:55.253899",
     "exception": false,
     "start_time": "2025-03-06T18:31:55.233618",
     "status": "completed"
    },
    "tags": []
   },
   "outputs": [],
   "source": []
  },
  {
   "cell_type": "code",
   "execution_count": null,
   "id": "2131afd4",
   "metadata": {
    "papermill": {
     "duration": 0.020182,
     "end_time": "2025-03-06T18:31:55.294622",
     "exception": false,
     "start_time": "2025-03-06T18:31:55.274440",
     "status": "completed"
    },
    "tags": []
   },
   "outputs": [],
   "source": []
  },
  {
   "cell_type": "code",
   "execution_count": null,
   "id": "2a922900",
   "metadata": {
    "papermill": {
     "duration": 0.020126,
     "end_time": "2025-03-06T18:31:55.335132",
     "exception": false,
     "start_time": "2025-03-06T18:31:55.315006",
     "status": "completed"
    },
    "tags": []
   },
   "outputs": [],
   "source": []
  },
  {
   "cell_type": "code",
   "execution_count": null,
   "id": "e12a2389",
   "metadata": {
    "papermill": {
     "duration": 0.020219,
     "end_time": "2025-03-06T18:31:55.375707",
     "exception": false,
     "start_time": "2025-03-06T18:31:55.355488",
     "status": "completed"
    },
    "tags": []
   },
   "outputs": [],
   "source": []
  },
  {
   "cell_type": "code",
   "execution_count": null,
   "id": "0050726b",
   "metadata": {
    "papermill": {
     "duration": 0.020225,
     "end_time": "2025-03-06T18:31:55.416529",
     "exception": false,
     "start_time": "2025-03-06T18:31:55.396304",
     "status": "completed"
    },
    "tags": []
   },
   "outputs": [],
   "source": []
  },
  {
   "cell_type": "code",
   "execution_count": null,
   "id": "babd5d30",
   "metadata": {
    "papermill": {
     "duration": 0.020177,
     "end_time": "2025-03-06T18:31:55.457205",
     "exception": false,
     "start_time": "2025-03-06T18:31:55.437028",
     "status": "completed"
    },
    "tags": []
   },
   "outputs": [],
   "source": []
  },
  {
   "cell_type": "code",
   "execution_count": null,
   "id": "b2bf029d",
   "metadata": {
    "papermill": {
     "duration": 0.02016,
     "end_time": "2025-03-06T18:31:55.497738",
     "exception": false,
     "start_time": "2025-03-06T18:31:55.477578",
     "status": "completed"
    },
    "tags": []
   },
   "outputs": [],
   "source": []
  },
  {
   "cell_type": "code",
   "execution_count": null,
   "id": "2cebb2be",
   "metadata": {
    "papermill": {
     "duration": 0.020178,
     "end_time": "2025-03-06T18:31:55.538235",
     "exception": false,
     "start_time": "2025-03-06T18:31:55.518057",
     "status": "completed"
    },
    "tags": []
   },
   "outputs": [],
   "source": []
  },
  {
   "cell_type": "code",
   "execution_count": null,
   "id": "7263366b",
   "metadata": {
    "papermill": {
     "duration": 0.020304,
     "end_time": "2025-03-06T18:31:55.579018",
     "exception": false,
     "start_time": "2025-03-06T18:31:55.558714",
     "status": "completed"
    },
    "tags": []
   },
   "outputs": [],
   "source": []
  },
  {
   "cell_type": "code",
   "execution_count": null,
   "id": "8db4c463",
   "metadata": {
    "papermill": {
     "duration": 0.020209,
     "end_time": "2025-03-06T18:31:55.619498",
     "exception": false,
     "start_time": "2025-03-06T18:31:55.599289",
     "status": "completed"
    },
    "tags": []
   },
   "outputs": [],
   "source": []
  },
  {
   "cell_type": "code",
   "execution_count": null,
   "id": "d3b01df0",
   "metadata": {
    "papermill": {
     "duration": 0.020493,
     "end_time": "2025-03-06T18:31:55.660821",
     "exception": false,
     "start_time": "2025-03-06T18:31:55.640328",
     "status": "completed"
    },
    "tags": []
   },
   "outputs": [],
   "source": []
  },
  {
   "cell_type": "code",
   "execution_count": null,
   "id": "e6c77591",
   "metadata": {
    "papermill": {
     "duration": 0.020542,
     "end_time": "2025-03-06T18:31:55.702150",
     "exception": false,
     "start_time": "2025-03-06T18:31:55.681608",
     "status": "completed"
    },
    "tags": []
   },
   "outputs": [],
   "source": []
  },
  {
   "cell_type": "code",
   "execution_count": null,
   "id": "acf42655",
   "metadata": {
    "papermill": {
     "duration": 0.020275,
     "end_time": "2025-03-06T18:31:55.743021",
     "exception": false,
     "start_time": "2025-03-06T18:31:55.722746",
     "status": "completed"
    },
    "tags": []
   },
   "outputs": [],
   "source": []
  },
  {
   "cell_type": "code",
   "execution_count": null,
   "id": "3d75decd",
   "metadata": {
    "papermill": {
     "duration": 0.020389,
     "end_time": "2025-03-06T18:31:55.784367",
     "exception": false,
     "start_time": "2025-03-06T18:31:55.763978",
     "status": "completed"
    },
    "tags": []
   },
   "outputs": [],
   "source": []
  },
  {
   "cell_type": "code",
   "execution_count": null,
   "id": "472b78f2",
   "metadata": {
    "papermill": {
     "duration": 0.020286,
     "end_time": "2025-03-06T18:31:55.825769",
     "exception": false,
     "start_time": "2025-03-06T18:31:55.805483",
     "status": "completed"
    },
    "tags": []
   },
   "outputs": [],
   "source": []
  },
  {
   "cell_type": "code",
   "execution_count": null,
   "id": "aece6095",
   "metadata": {
    "papermill": {
     "duration": 0.02027,
     "end_time": "2025-03-06T18:31:55.866446",
     "exception": false,
     "start_time": "2025-03-06T18:31:55.846176",
     "status": "completed"
    },
    "tags": []
   },
   "outputs": [],
   "source": []
  },
  {
   "cell_type": "code",
   "execution_count": null,
   "id": "b8f4e495",
   "metadata": {
    "papermill": {
     "duration": 0.020192,
     "end_time": "2025-03-06T18:31:55.907142",
     "exception": false,
     "start_time": "2025-03-06T18:31:55.886950",
     "status": "completed"
    },
    "tags": []
   },
   "outputs": [],
   "source": []
  },
  {
   "cell_type": "code",
   "execution_count": null,
   "id": "23b9470c",
   "metadata": {
    "papermill": {
     "duration": 0.020161,
     "end_time": "2025-03-06T18:31:55.947791",
     "exception": false,
     "start_time": "2025-03-06T18:31:55.927630",
     "status": "completed"
    },
    "tags": []
   },
   "outputs": [],
   "source": []
  },
  {
   "cell_type": "code",
   "execution_count": null,
   "id": "6b9105ff",
   "metadata": {
    "papermill": {
     "duration": 0.020222,
     "end_time": "2025-03-06T18:31:55.988362",
     "exception": false,
     "start_time": "2025-03-06T18:31:55.968140",
     "status": "completed"
    },
    "tags": []
   },
   "outputs": [],
   "source": []
  },
  {
   "cell_type": "code",
   "execution_count": null,
   "id": "3bf05cf3",
   "metadata": {
    "papermill": {
     "duration": 0.020256,
     "end_time": "2025-03-06T18:31:56.029003",
     "exception": false,
     "start_time": "2025-03-06T18:31:56.008747",
     "status": "completed"
    },
    "tags": []
   },
   "outputs": [],
   "source": []
  },
  {
   "cell_type": "code",
   "execution_count": null,
   "id": "22fb14ff",
   "metadata": {
    "papermill": {
     "duration": 0.020412,
     "end_time": "2025-03-06T18:31:56.069910",
     "exception": false,
     "start_time": "2025-03-06T18:31:56.049498",
     "status": "completed"
    },
    "tags": []
   },
   "outputs": [],
   "source": []
  },
  {
   "cell_type": "code",
   "execution_count": null,
   "id": "db241e64",
   "metadata": {
    "papermill": {
     "duration": 0.020205,
     "end_time": "2025-03-06T18:31:56.110579",
     "exception": false,
     "start_time": "2025-03-06T18:31:56.090374",
     "status": "completed"
    },
    "tags": []
   },
   "outputs": [],
   "source": []
  },
  {
   "cell_type": "code",
   "execution_count": null,
   "id": "b3b13cbc",
   "metadata": {
    "papermill": {
     "duration": 0.020301,
     "end_time": "2025-03-06T18:31:56.151407",
     "exception": false,
     "start_time": "2025-03-06T18:31:56.131106",
     "status": "completed"
    },
    "tags": []
   },
   "outputs": [],
   "source": []
  },
  {
   "cell_type": "code",
   "execution_count": null,
   "id": "5d68ac87",
   "metadata": {
    "papermill": {
     "duration": 0.020259,
     "end_time": "2025-03-06T18:31:56.192140",
     "exception": false,
     "start_time": "2025-03-06T18:31:56.171881",
     "status": "completed"
    },
    "tags": []
   },
   "outputs": [],
   "source": []
  },
  {
   "cell_type": "code",
   "execution_count": null,
   "id": "163fdbaa",
   "metadata": {
    "papermill": {
     "duration": 0.020217,
     "end_time": "2025-03-06T18:31:56.232666",
     "exception": false,
     "start_time": "2025-03-06T18:31:56.212449",
     "status": "completed"
    },
    "tags": []
   },
   "outputs": [],
   "source": []
  },
  {
   "cell_type": "code",
   "execution_count": null,
   "id": "f9c2910d",
   "metadata": {
    "papermill": {
     "duration": 0.020233,
     "end_time": "2025-03-06T18:31:56.273226",
     "exception": false,
     "start_time": "2025-03-06T18:31:56.252993",
     "status": "completed"
    },
    "tags": []
   },
   "outputs": [],
   "source": []
  },
  {
   "cell_type": "code",
   "execution_count": null,
   "id": "09bf9362",
   "metadata": {
    "papermill": {
     "duration": 0.020165,
     "end_time": "2025-03-06T18:31:56.313822",
     "exception": false,
     "start_time": "2025-03-06T18:31:56.293657",
     "status": "completed"
    },
    "tags": []
   },
   "outputs": [],
   "source": []
  },
  {
   "cell_type": "code",
   "execution_count": null,
   "id": "638c83b2",
   "metadata": {
    "papermill": {
     "duration": 0.020208,
     "end_time": "2025-03-06T18:31:56.354412",
     "exception": false,
     "start_time": "2025-03-06T18:31:56.334204",
     "status": "completed"
    },
    "tags": []
   },
   "outputs": [],
   "source": []
  },
  {
   "cell_type": "code",
   "execution_count": null,
   "id": "ec789c44",
   "metadata": {
    "papermill": {
     "duration": 0.020398,
     "end_time": "2025-03-06T18:31:56.395207",
     "exception": false,
     "start_time": "2025-03-06T18:31:56.374809",
     "status": "completed"
    },
    "tags": []
   },
   "outputs": [],
   "source": []
  },
  {
   "cell_type": "code",
   "execution_count": null,
   "id": "f2a905e3",
   "metadata": {
    "papermill": {
     "duration": 0.02024,
     "end_time": "2025-03-06T18:31:56.435929",
     "exception": false,
     "start_time": "2025-03-06T18:31:56.415689",
     "status": "completed"
    },
    "tags": []
   },
   "outputs": [],
   "source": []
  },
  {
   "cell_type": "code",
   "execution_count": null,
   "id": "bc35b03f",
   "metadata": {
    "papermill": {
     "duration": 0.020387,
     "end_time": "2025-03-06T18:31:56.476757",
     "exception": false,
     "start_time": "2025-03-06T18:31:56.456370",
     "status": "completed"
    },
    "tags": []
   },
   "outputs": [],
   "source": []
  },
  {
   "cell_type": "code",
   "execution_count": null,
   "id": "ad269f90",
   "metadata": {
    "papermill": {
     "duration": 0.020217,
     "end_time": "2025-03-06T18:31:56.517428",
     "exception": false,
     "start_time": "2025-03-06T18:31:56.497211",
     "status": "completed"
    },
    "tags": []
   },
   "outputs": [],
   "source": []
  },
  {
   "cell_type": "code",
   "execution_count": null,
   "id": "0d787bf9",
   "metadata": {
    "papermill": {
     "duration": 0.020189,
     "end_time": "2025-03-06T18:31:56.558078",
     "exception": false,
     "start_time": "2025-03-06T18:31:56.537889",
     "status": "completed"
    },
    "tags": []
   },
   "outputs": [],
   "source": []
  },
  {
   "cell_type": "code",
   "execution_count": null,
   "id": "b24a63b9",
   "metadata": {
    "papermill": {
     "duration": 0.020246,
     "end_time": "2025-03-06T18:31:56.598874",
     "exception": false,
     "start_time": "2025-03-06T18:31:56.578628",
     "status": "completed"
    },
    "tags": []
   },
   "outputs": [],
   "source": []
  },
  {
   "cell_type": "code",
   "execution_count": null,
   "id": "cc4a8321",
   "metadata": {
    "papermill": {
     "duration": 0.020245,
     "end_time": "2025-03-06T18:31:56.639645",
     "exception": false,
     "start_time": "2025-03-06T18:31:56.619400",
     "status": "completed"
    },
    "tags": []
   },
   "outputs": [],
   "source": []
  },
  {
   "cell_type": "code",
   "execution_count": null,
   "id": "6ddddc23",
   "metadata": {
    "papermill": {
     "duration": 0.020228,
     "end_time": "2025-03-06T18:31:56.680288",
     "exception": false,
     "start_time": "2025-03-06T18:31:56.660060",
     "status": "completed"
    },
    "tags": []
   },
   "outputs": [],
   "source": []
  },
  {
   "cell_type": "code",
   "execution_count": null,
   "id": "8083dbcd",
   "metadata": {
    "papermill": {
     "duration": 0.020243,
     "end_time": "2025-03-06T18:31:56.720995",
     "exception": false,
     "start_time": "2025-03-06T18:31:56.700752",
     "status": "completed"
    },
    "tags": []
   },
   "outputs": [],
   "source": []
  },
  {
   "cell_type": "code",
   "execution_count": null,
   "id": "746b0267",
   "metadata": {
    "papermill": {
     "duration": 0.020272,
     "end_time": "2025-03-06T18:31:56.761628",
     "exception": false,
     "start_time": "2025-03-06T18:31:56.741356",
     "status": "completed"
    },
    "tags": []
   },
   "outputs": [],
   "source": []
  },
  {
   "cell_type": "code",
   "execution_count": null,
   "id": "dab379ee",
   "metadata": {
    "papermill": {
     "duration": 0.021258,
     "end_time": "2025-03-06T18:31:56.803381",
     "exception": false,
     "start_time": "2025-03-06T18:31:56.782123",
     "status": "completed"
    },
    "tags": []
   },
   "outputs": [],
   "source": []
  },
  {
   "cell_type": "code",
   "execution_count": null,
   "id": "876c6bc0",
   "metadata": {
    "papermill": {
     "duration": 0.020305,
     "end_time": "2025-03-06T18:31:56.844456",
     "exception": false,
     "start_time": "2025-03-06T18:31:56.824151",
     "status": "completed"
    },
    "tags": []
   },
   "outputs": [],
   "source": []
  },
  {
   "cell_type": "code",
   "execution_count": null,
   "id": "28387bcf",
   "metadata": {
    "papermill": {
     "duration": 0.020222,
     "end_time": "2025-03-06T18:31:56.885116",
     "exception": false,
     "start_time": "2025-03-06T18:31:56.864894",
     "status": "completed"
    },
    "tags": []
   },
   "outputs": [],
   "source": []
  },
  {
   "cell_type": "code",
   "execution_count": null,
   "id": "da085175",
   "metadata": {
    "papermill": {
     "duration": 0.020299,
     "end_time": "2025-03-06T18:31:56.925845",
     "exception": false,
     "start_time": "2025-03-06T18:31:56.905546",
     "status": "completed"
    },
    "tags": []
   },
   "outputs": [],
   "source": []
  },
  {
   "cell_type": "code",
   "execution_count": null,
   "id": "f3859015",
   "metadata": {
    "papermill": {
     "duration": 0.02037,
     "end_time": "2025-03-06T18:31:56.966636",
     "exception": false,
     "start_time": "2025-03-06T18:31:56.946266",
     "status": "completed"
    },
    "tags": []
   },
   "outputs": [],
   "source": []
  },
  {
   "cell_type": "code",
   "execution_count": null,
   "id": "49d5e630",
   "metadata": {
    "papermill": {
     "duration": 0.020219,
     "end_time": "2025-03-06T18:31:57.007363",
     "exception": false,
     "start_time": "2025-03-06T18:31:56.987144",
     "status": "completed"
    },
    "tags": []
   },
   "outputs": [],
   "source": []
  },
  {
   "cell_type": "code",
   "execution_count": null,
   "id": "f5fec46f",
   "metadata": {
    "papermill": {
     "duration": 0.02017,
     "end_time": "2025-03-06T18:31:57.048026",
     "exception": false,
     "start_time": "2025-03-06T18:31:57.027856",
     "status": "completed"
    },
    "tags": []
   },
   "outputs": [],
   "source": []
  },
  {
   "cell_type": "code",
   "execution_count": null,
   "id": "6eac76e7",
   "metadata": {
    "papermill": {
     "duration": 0.020512,
     "end_time": "2025-03-06T18:31:57.088990",
     "exception": false,
     "start_time": "2025-03-06T18:31:57.068478",
     "status": "completed"
    },
    "tags": []
   },
   "outputs": [],
   "source": []
  },
  {
   "cell_type": "code",
   "execution_count": null,
   "id": "cad459fc",
   "metadata": {
    "papermill": {
     "duration": 0.020271,
     "end_time": "2025-03-06T18:31:57.129693",
     "exception": false,
     "start_time": "2025-03-06T18:31:57.109422",
     "status": "completed"
    },
    "tags": []
   },
   "outputs": [],
   "source": []
  },
  {
   "cell_type": "code",
   "execution_count": null,
   "id": "05164245",
   "metadata": {
    "papermill": {
     "duration": 0.020226,
     "end_time": "2025-03-06T18:31:57.170384",
     "exception": false,
     "start_time": "2025-03-06T18:31:57.150158",
     "status": "completed"
    },
    "tags": []
   },
   "outputs": [],
   "source": []
  },
  {
   "cell_type": "code",
   "execution_count": null,
   "id": "ce539a13",
   "metadata": {
    "papermill": {
     "duration": 0.020201,
     "end_time": "2025-03-06T18:31:57.211028",
     "exception": false,
     "start_time": "2025-03-06T18:31:57.190827",
     "status": "completed"
    },
    "tags": []
   },
   "outputs": [],
   "source": []
  },
  {
   "cell_type": "code",
   "execution_count": null,
   "id": "25140b49",
   "metadata": {
    "papermill": {
     "duration": 0.020166,
     "end_time": "2025-03-06T18:31:57.251654",
     "exception": false,
     "start_time": "2025-03-06T18:31:57.231488",
     "status": "completed"
    },
    "tags": []
   },
   "outputs": [],
   "source": []
  }
 ],
 "metadata": {
  "kaggle": {
   "accelerator": "nvidiaL4",
   "dataSources": [
    {
     "databundleVersionId": 11281725,
     "sourceId": 84795,
     "sourceType": "competition"
    },
    {
     "sourceId": 221096520,
     "sourceType": "kernelVersion"
    },
    {
     "modelId": 224053,
     "modelInstanceId": 227466,
     "sourceId": 265863,
     "sourceType": "modelInstanceVersion"
    },
    {
     "modelId": 224053,
     "modelInstanceId": 227475,
     "sourceId": 265872,
     "sourceType": "modelInstanceVersion"
    }
   ],
   "isGpuEnabled": true,
   "isInternetEnabled": false,
   "language": "python",
   "sourceType": "notebook"
  },
  "kernelspec": {
   "display_name": "Python 3",
   "language": "python",
   "name": "python3"
  },
  "language_info": {
   "codemirror_mode": {
    "name": "ipython",
    "version": 3
   },
   "file_extension": ".py",
   "mimetype": "text/x-python",
   "name": "python",
   "nbconvert_exporter": "python",
   "pygments_lexer": "ipython3",
   "version": "3.10.12"
  },
  "papermill": {
   "default_parameters": {},
   "duration": 473.7244,
   "end_time": "2025-03-06T18:32:01.593234",
   "environment_variables": {},
   "exception": null,
   "input_path": "__notebook__.ipynb",
   "output_path": "__notebook__.ipynb",
   "parameters": {},
   "start_time": "2025-03-06T18:24:07.868834",
   "version": "2.6.0"
  },
  "widgets": {
   "application/vnd.jupyter.widget-state+json": {
    "state": {
     "09a0662a03e44c5f8051d3abbf6e0fe0": {
      "model_module": "@jupyter-widgets/controls",
      "model_module_version": "2.0.0",
      "model_name": "HTMLStyleModel",
      "state": {
       "_model_module": "@jupyter-widgets/controls",
       "_model_module_version": "2.0.0",
       "_model_name": "HTMLStyleModel",
       "_view_count": null,
       "_view_module": "@jupyter-widgets/base",
       "_view_module_version": "2.0.0",
       "_view_name": "StyleView",
       "background": null,
       "description_width": "",
       "font_size": null,
       "text_color": null
      }
     },
     "3ec4737e591348b4a4c4a008b919840d": {
      "model_module": "@jupyter-widgets/controls",
      "model_module_version": "2.0.0",
      "model_name": "FloatProgressModel",
      "state": {
       "_dom_classes": [],
       "_model_module": "@jupyter-widgets/controls",
       "_model_module_version": "2.0.0",
       "_model_name": "FloatProgressModel",
       "_view_count": null,
       "_view_module": "@jupyter-widgets/controls",
       "_view_module_version": "2.0.0",
       "_view_name": "ProgressView",
       "bar_style": "success",
       "description": "",
       "description_allow_html": false,
       "layout": "IPY_MODEL_bc97c5811a3b48b8b6ebbf6f55912396",
       "max": 2,
       "min": 0,
       "orientation": "horizontal",
       "style": "IPY_MODEL_ca73540e81ef47a0bdb47d91bac86451",
       "tabbable": null,
       "tooltip": null,
       "value": 2
      }
     },
     "4e3d19bb32f241268f1c030f4e8995b8": {
      "model_module": "@jupyter-widgets/base",
      "model_module_version": "2.0.0",
      "model_name": "LayoutModel",
      "state": {
       "_model_module": "@jupyter-widgets/base",
       "_model_module_version": "2.0.0",
       "_model_name": "LayoutModel",
       "_view_count": null,
       "_view_module": "@jupyter-widgets/base",
       "_view_module_version": "2.0.0",
       "_view_name": "LayoutView",
       "align_content": null,
       "align_items": null,
       "align_self": null,
       "border_bottom": null,
       "border_left": null,
       "border_right": null,
       "border_top": null,
       "bottom": null,
       "display": null,
       "flex": null,
       "flex_flow": null,
       "grid_area": null,
       "grid_auto_columns": null,
       "grid_auto_flow": null,
       "grid_auto_rows": null,
       "grid_column": null,
       "grid_gap": null,
       "grid_row": null,
       "grid_template_areas": null,
       "grid_template_columns": null,
       "grid_template_rows": null,
       "height": null,
       "justify_content": null,
       "justify_items": null,
       "left": null,
       "margin": null,
       "max_height": null,
       "max_width": null,
       "min_height": null,
       "min_width": null,
       "object_fit": null,
       "object_position": null,
       "order": null,
       "overflow": null,
       "padding": null,
       "right": null,
       "top": null,
       "visibility": null,
       "width": null
      }
     },
     "83c165c844ba4c3b924378f9941ca965": {
      "model_module": "@jupyter-widgets/controls",
      "model_module_version": "2.0.0",
      "model_name": "HTMLModel",
      "state": {
       "_dom_classes": [],
       "_model_module": "@jupyter-widgets/controls",
       "_model_module_version": "2.0.0",
       "_model_name": "HTMLModel",
       "_view_count": null,
       "_view_module": "@jupyter-widgets/controls",
       "_view_module_version": "2.0.0",
       "_view_name": "HTMLView",
       "description": "",
       "description_allow_html": false,
       "layout": "IPY_MODEL_ec2e0f558a0e45f8a38985ad26a1777d",
       "placeholder": "​",
       "style": "IPY_MODEL_09a0662a03e44c5f8051d3abbf6e0fe0",
       "tabbable": null,
       "tooltip": null,
       "value": ""
      }
     },
     "b6c0019cebeb43f695a2fc80033def5e": {
      "model_module": "@jupyter-widgets/base",
      "model_module_version": "2.0.0",
      "model_name": "LayoutModel",
      "state": {
       "_model_module": "@jupyter-widgets/base",
       "_model_module_version": "2.0.0",
       "_model_name": "LayoutModel",
       "_view_count": null,
       "_view_module": "@jupyter-widgets/base",
       "_view_module_version": "2.0.0",
       "_view_name": "LayoutView",
       "align_content": null,
       "align_items": null,
       "align_self": null,
       "border_bottom": null,
       "border_left": null,
       "border_right": null,
       "border_top": null,
       "bottom": null,
       "display": null,
       "flex": null,
       "flex_flow": null,
       "grid_area": null,
       "grid_auto_columns": null,
       "grid_auto_flow": null,
       "grid_auto_rows": null,
       "grid_column": null,
       "grid_gap": null,
       "grid_row": null,
       "grid_template_areas": null,
       "grid_template_columns": null,
       "grid_template_rows": null,
       "height": null,
       "justify_content": null,
       "justify_items": null,
       "left": null,
       "margin": null,
       "max_height": null,
       "max_width": null,
       "min_height": null,
       "min_width": null,
       "object_fit": null,
       "object_position": null,
       "order": null,
       "overflow": null,
       "padding": null,
       "right": null,
       "top": null,
       "visibility": null,
       "width": null
      }
     },
     "bc97c5811a3b48b8b6ebbf6f55912396": {
      "model_module": "@jupyter-widgets/base",
      "model_module_version": "2.0.0",
      "model_name": "LayoutModel",
      "state": {
       "_model_module": "@jupyter-widgets/base",
       "_model_module_version": "2.0.0",
       "_model_name": "LayoutModel",
       "_view_count": null,
       "_view_module": "@jupyter-widgets/base",
       "_view_module_version": "2.0.0",
       "_view_name": "LayoutView",
       "align_content": null,
       "align_items": null,
       "align_self": null,
       "border_bottom": null,
       "border_left": null,
       "border_right": null,
       "border_top": null,
       "bottom": null,
       "display": null,
       "flex": null,
       "flex_flow": null,
       "grid_area": null,
       "grid_auto_columns": null,
       "grid_auto_flow": null,
       "grid_auto_rows": null,
       "grid_column": null,
       "grid_gap": null,
       "grid_row": null,
       "grid_template_areas": null,
       "grid_template_columns": null,
       "grid_template_rows": null,
       "height": null,
       "justify_content": null,
       "justify_items": null,
       "left": null,
       "margin": null,
       "max_height": null,
       "max_width": null,
       "min_height": null,
       "min_width": null,
       "object_fit": null,
       "object_position": null,
       "order": null,
       "overflow": null,
       "padding": null,
       "right": null,
       "top": null,
       "visibility": null,
       "width": null
      }
     },
     "ca73540e81ef47a0bdb47d91bac86451": {
      "model_module": "@jupyter-widgets/controls",
      "model_module_version": "2.0.0",
      "model_name": "ProgressStyleModel",
      "state": {
       "_model_module": "@jupyter-widgets/controls",
       "_model_module_version": "2.0.0",
       "_model_name": "ProgressStyleModel",
       "_view_count": null,
       "_view_module": "@jupyter-widgets/base",
       "_view_module_version": "2.0.0",
       "_view_name": "StyleView",
       "bar_color": null,
       "description_width": ""
      }
     },
     "eb622a0c693140849af1dbda2a4f65d7": {
      "model_module": "@jupyter-widgets/controls",
      "model_module_version": "2.0.0",
      "model_name": "HTMLStyleModel",
      "state": {
       "_model_module": "@jupyter-widgets/controls",
       "_model_module_version": "2.0.0",
       "_model_name": "HTMLStyleModel",
       "_view_count": null,
       "_view_module": "@jupyter-widgets/base",
       "_view_module_version": "2.0.0",
       "_view_name": "StyleView",
       "background": null,
       "description_width": "",
       "font_size": null,
       "text_color": null
      }
     },
     "ec2e0f558a0e45f8a38985ad26a1777d": {
      "model_module": "@jupyter-widgets/base",
      "model_module_version": "2.0.0",
      "model_name": "LayoutModel",
      "state": {
       "_model_module": "@jupyter-widgets/base",
       "_model_module_version": "2.0.0",
       "_model_name": "LayoutModel",
       "_view_count": null,
       "_view_module": "@jupyter-widgets/base",
       "_view_module_version": "2.0.0",
       "_view_name": "LayoutView",
       "align_content": null,
       "align_items": null,
       "align_self": null,
       "border_bottom": null,
       "border_left": null,
       "border_right": null,
       "border_top": null,
       "bottom": null,
       "display": null,
       "flex": null,
       "flex_flow": null,
       "grid_area": null,
       "grid_auto_columns": null,
       "grid_auto_flow": null,
       "grid_auto_rows": null,
       "grid_column": null,
       "grid_gap": null,
       "grid_row": null,
       "grid_template_areas": null,
       "grid_template_columns": null,
       "grid_template_rows": null,
       "height": null,
       "justify_content": null,
       "justify_items": null,
       "left": null,
       "margin": null,
       "max_height": null,
       "max_width": null,
       "min_height": null,
       "min_width": null,
       "object_fit": null,
       "object_position": null,
       "order": null,
       "overflow": null,
       "padding": null,
       "right": null,
       "top": null,
       "visibility": null,
       "width": null
      }
     },
     "f6437c77ed344f499a7eec1e27b04896": {
      "model_module": "@jupyter-widgets/controls",
      "model_module_version": "2.0.0",
      "model_name": "HTMLModel",
      "state": {
       "_dom_classes": [],
       "_model_module": "@jupyter-widgets/controls",
       "_model_module_version": "2.0.0",
       "_model_name": "HTMLModel",
       "_view_count": null,
       "_view_module": "@jupyter-widgets/controls",
       "_view_module_version": "2.0.0",
       "_view_name": "HTMLView",
       "description": "",
       "description_allow_html": false,
       "layout": "IPY_MODEL_4e3d19bb32f241268f1c030f4e8995b8",
       "placeholder": "​",
       "style": "IPY_MODEL_eb622a0c693140849af1dbda2a4f65d7",
       "tabbable": null,
       "tooltip": null,
       "value": "Loading safetensors checkpoint shards: 100% Completed | 2/2 [01:03&lt;00:00, 31.46s/it]\n"
      }
     },
     "fa22f2fbc51142de83ff5a479e213d8b": {
      "model_module": "@jupyter-widgets/controls",
      "model_module_version": "2.0.0",
      "model_name": "HBoxModel",
      "state": {
       "_dom_classes": [],
       "_model_module": "@jupyter-widgets/controls",
       "_model_module_version": "2.0.0",
       "_model_name": "HBoxModel",
       "_view_count": null,
       "_view_module": "@jupyter-widgets/controls",
       "_view_module_version": "2.0.0",
       "_view_name": "HBoxView",
       "box_style": "",
       "children": [
        "IPY_MODEL_83c165c844ba4c3b924378f9941ca965",
        "IPY_MODEL_3ec4737e591348b4a4c4a008b919840d",
        "IPY_MODEL_f6437c77ed344f499a7eec1e27b04896"
       ],
       "layout": "IPY_MODEL_b6c0019cebeb43f695a2fc80033def5e",
       "tabbable": null,
       "tooltip": null
      }
     }
    },
    "version_major": 2,
    "version_minor": 0
   }
  }
 },
 "nbformat": 4,
 "nbformat_minor": 5
}
