{
 "cells": [
  {
   "cell_type": "markdown",
   "id": "d477eeaa",
   "metadata": {
    "papermill": {
     "duration": 0.002957,
     "end_time": "2023-10-01T08:12:02.089724",
     "exception": false,
     "start_time": "2023-10-01T08:12:02.086767",
     "status": "completed"
    },
    "tags": []
   },
   "source": [
    "# Platypus2-70B + Wikipedia RAG\n"
   ]
  },
  {
   "cell_type": "code",
   "execution_count": 1,
   "id": "e23195e7",
   "metadata": {
    "_cell_guid": "b1076dfc-b9ad-4769-8c92-a6c4dae69d19",
    "_uuid": "8f2839f25d086af736a60e9eeb907d3b93b6e0e5",
    "execution": {
     "iopub.execute_input": "2023-10-01T08:12:02.096763Z",
     "iopub.status.busy": "2023-10-01T08:12:02.096447Z",
     "iopub.status.idle": "2023-10-01T08:12:57.989804Z",
     "shell.execute_reply": "2023-10-01T08:12:57.988710Z"
    },
    "papermill": {
     "duration": 55.900338,
     "end_time": "2023-10-01T08:12:57.992786",
     "exception": false,
     "start_time": "2023-10-01T08:12:02.092448",
     "status": "completed"
    },
    "tags": []
   },
   "outputs": [
    {
     "name": "stdout",
     "output_type": "stream",
     "text": [
      "Processing /kaggle/input/faiss-gpu-173-python310/faiss_gpu-1.7.2-cp310-cp310-manylinux_2_17_x86_64.manylinux2014_x86_64.whl\r\n",
      "Installing collected packages: faiss-gpu\r\n",
      "Successfully installed faiss-gpu-1.7.2\r\n",
      "Processing /kaggle/input/datasets-214/datasets-2.14.5-py3-none-any.whl\r\n",
      "Installing collected packages: datasets\r\n",
      "  Attempting uninstall: datasets\r\n",
      "    Found existing installation: datasets 2.1.0\r\n",
      "    Uninstalling datasets-2.1.0:\r\n",
      "      Successfully uninstalled datasets-2.1.0\r\n",
      "Successfully installed datasets-2.14.5\r\n"
     ]
    }
   ],
   "source": [
    "# Installing offline dependencies\n",
    "!pip install -U --no-deps /kaggle/input/faiss-gpu-173-python310/faiss_gpu-1.7.2-cp310-cp310-manylinux_2_17_x86_64.manylinux2014_x86_64.whl\n",
    "!pip install -U --no-deps /kaggle/input/datasets-214/datasets-2.14.5-py3-none-any.whl"
   ]
  },
  {
   "cell_type": "code",
   "execution_count": 2,
   "id": "e06e820d",
   "metadata": {
    "execution": {
     "iopub.execute_input": "2023-10-01T08:12:58.005535Z",
     "iopub.status.busy": "2023-10-01T08:12:58.005148Z",
     "iopub.status.idle": "2023-10-01T08:13:14.898495Z",
     "shell.execute_reply": "2023-10-01T08:13:14.897654Z"
    },
    "papermill": {
     "duration": 16.902038,
     "end_time": "2023-10-01T08:13:14.900623",
     "exception": false,
     "start_time": "2023-10-01T08:12:57.998585",
     "status": "completed"
    },
    "tags": []
   },
   "outputs": [
    {
     "name": "stderr",
     "output_type": "stream",
     "text": [
      "/opt/conda/lib/python3.10/site-packages/scipy/__init__.py:146: UserWarning: A NumPy version >=1.16.5 and <1.23.0 is required for this version of SciPy (detected version 1.23.5\n",
      "  warnings.warn(f\"A NumPy version >={np_minversion} and <{np_maxversion}\"\n"
     ]
    }
   ],
   "source": [
    "import gc\n",
    "import logging\n",
    "from time import time\n",
    "from pathlib import Path\n",
    "from concurrent.futures import ThreadPoolExecutor\n",
    "import ctypes\n",
    "from functools import partial\n",
    "\n",
    "import torch\n",
    "import numpy as np\n",
    "import pandas as pd\n",
    "from tqdm.auto import tqdm\n",
    "\n",
    "# For RAG\n",
    "import faiss\n",
    "import torch.nn.functional as F\n",
    "from torch.utils.data import DataLoader\n",
    "from datasets import load_from_disk, Dataset\n",
    "\n",
    "NUM_TITLES = 5\n",
    "MAX_SEQ_LEN = 512\n",
    "MODEL_PATH = \"/kaggle/input/bge-small-faiss/\"\n",
    "\n",
    "# For LLM\n",
    "from transformers import AutoConfig, AutoModelForCausalLM, AutoTokenizer, AutoModel\n",
    "from accelerate import init_empty_weights\n",
    "from accelerate.utils.modeling import set_module_tensor_to_device\n",
    "from safetensors.torch import load_file\n",
    "\n",
    "N_BATCHES = 5 \n",
    "MAX_CONTEXT = 2750\n",
    "MAX_LENGTH = 4096"
   ]
  },
  {
   "cell_type": "code",
   "execution_count": 3,
   "id": "1aadb74f",
   "metadata": {
    "execution": {
     "iopub.execute_input": "2023-10-01T08:13:14.907978Z",
     "iopub.status.busy": "2023-10-01T08:13:14.907706Z",
     "iopub.status.idle": "2023-10-01T08:13:14.949752Z",
     "shell.execute_reply": "2023-10-01T08:13:14.948827Z"
    },
    "papermill": {
     "duration": 0.048163,
     "end_time": "2023-10-01T08:13:14.951999",
     "exception": false,
     "start_time": "2023-10-01T08:13:14.903836",
     "status": "completed"
    },
    "tags": []
   },
   "outputs": [],
   "source": [
    "# Function to clean RAM & vRAM\n",
    "def clean_memory():\n",
    "    gc.collect()\n",
    "    ctypes.CDLL(\"libc.so.6\").malloc_trim(0)\n",
    "    torch.cuda.empty_cache()\n",
    "\n",
    "# Load data\n",
    "df = pd.read_csv(\"/kaggle/input/kaggle-llm-science-exam/test.csv\", index_col=\"id\")\n",
    "\n",
    "# Variable used to avoid running the notebook for 3 hours when submitting. Credit : CPMP\n",
    "IS_TEST_SET = len(df) != 200\n",
    "\n",
    "# Uncomment this to see results on the train set\n",
    "# df = pd.read_csv(\"/kaggle/input/kaggle-llm-science-exam/train.csv\", index_col=\"id\")\n",
    "# IS_TEST_SET = True\n",
    "# N_BATCHES = 1"
   ]
  },
  {
   "cell_type": "markdown",
   "id": "7e79b383",
   "metadata": {
    "papermill": {
     "duration": 0.00288,
     "end_time": "2023-10-01T08:13:14.958315",
     "exception": false,
     "start_time": "2023-10-01T08:13:14.955435",
     "status": "completed"
    },
    "tags": []
   },
   "source": [
    "## 1. Wikipedia Retrieval Augmented Generation (RAG)\n",
    "\n",
    "The following code is adapted from [the notebook of @MGöksu](https://www.kaggle.com/code/mgoksu/0-807-sharing-my-trained-with-context-model) and [the notebook of @MB](https://www.kaggle.com/code/mbanaei/86-2-with-only-270k-articles/notebook). We use the [bge-small-en-v1.5](https://huggingface.co/BAAI/bge-small-en-v1.5) to embed the Wikipedia dataset."
   ]
  },
  {
   "cell_type": "code",
   "execution_count": 4,
   "id": "f97b1941",
   "metadata": {
    "execution": {
     "iopub.execute_input": "2023-10-01T08:13:14.965251Z",
     "iopub.status.busy": "2023-10-01T08:13:14.964961Z",
     "iopub.status.idle": "2023-10-01T08:13:14.973267Z",
     "shell.execute_reply": "2023-10-01T08:13:14.972300Z"
    },
    "papermill": {
     "duration": 0.013956,
     "end_time": "2023-10-01T08:13:14.975110",
     "exception": false,
     "start_time": "2023-10-01T08:13:14.961154",
     "status": "completed"
    },
    "tags": []
   },
   "outputs": [],
   "source": [
    "# New SentenceTransformer class similar to the one used in @Mgöksu notebook but relying on the transformers library only\n",
    "\n",
    "class SentenceTransformer:\n",
    "    def __init__(self, checkpoint, device=\"cuda:0\"):\n",
    "        self.device = device\n",
    "        self.checkpoint = checkpoint\n",
    "        self.model = AutoModel.from_pretrained(checkpoint).to(self.device).half()\n",
    "        self.tokenizer = AutoTokenizer.from_pretrained(checkpoint)\n",
    "\n",
    "    def transform(self, batch):\n",
    "        tokens = self.tokenizer(batch[\"text\"], truncation=True, padding=True, return_tensors=\"pt\", max_length=MAX_SEQ_LEN)\n",
    "        return tokens.to(self.device)  \n",
    "\n",
    "    def get_dataloader(self, sentences, batch_size=32):\n",
    "        sentences = [\"Represent this sentence for searching relevant passages: \" + x for x in sentences]\n",
    "        dataset = Dataset.from_dict({\"text\": sentences})\n",
    "        dataset.set_transform(self.transform)\n",
    "        dataloader = DataLoader(dataset, batch_size=batch_size, shuffle=False)\n",
    "        return dataloader\n",
    "\n",
    "    def encode(self, sentences, show_progress_bar=False, batch_size=32):\n",
    "        dataloader = self.get_dataloader(sentences, batch_size=batch_size)\n",
    "        pbar = tqdm(dataloader) if show_progress_bar else dataloader\n",
    "\n",
    "        embeddings = []\n",
    "        for batch in pbar:\n",
    "            with torch.no_grad():\n",
    "                e = self.model(**batch).pooler_output\n",
    "                e = F.normalize(e, p=2, dim=1)\n",
    "                embeddings.append(e.detach().cpu().numpy())\n",
    "        embeddings = np.concatenate(embeddings, axis=0)\n",
    "        return embeddings"
   ]
  },
  {
   "cell_type": "code",
   "execution_count": 5,
   "id": "735f6dd9",
   "metadata": {
    "execution": {
     "iopub.execute_input": "2023-10-01T08:13:14.982047Z",
     "iopub.status.busy": "2023-10-01T08:13:14.981547Z",
     "iopub.status.idle": "2023-10-01T08:13:14.988433Z",
     "shell.execute_reply": "2023-10-01T08:13:14.987506Z"
    },
    "papermill": {
     "duration": 0.012188,
     "end_time": "2023-10-01T08:13:14.990177",
     "exception": false,
     "start_time": "2023-10-01T08:13:14.977989",
     "status": "completed"
    },
    "tags": []
   },
   "outputs": [],
   "source": [
    "if IS_TEST_SET:\n",
    "    # Load embedding model\n",
    "    start = time()\n",
    "    print(f\"Starting prompt embedding, t={time() - start :.1f}s\")\n",
    "    model = SentenceTransformer(MODEL_PATH, device=\"cuda:0\")\n",
    "\n",
    "    # Get embeddings of prompts\n",
    "    f = lambda row : \" \".join([row[\"prompt\"], row[\"A\"], row[\"B\"], row[\"C\"], row[\"D\"], row[\"E\"]])\n",
    "    inputs = df.apply(f, axis=1).values # better results than prompt only\n",
    "    prompt_embeddings = model.encode(inputs, show_progress_bar=False)\n",
    "\n",
    "    # Search closest sentences in the wikipedia index \n",
    "    print(f\"Loading faiss index, t={time() - start :.1f}s\")\n",
    "    faiss_index = faiss.read_index(MODEL_PATH + '/faiss.index')\n",
    "    # faiss_index = faiss.index_cpu_to_all_gpus(faiss_index) # causes OOM, and not that long on CPU\n",
    "\n",
    "    print(f\"Starting text search, t={time() - start :.1f}s\")\n",
    "    search_index = faiss_index.search(np.float32(prompt_embeddings), NUM_TITLES)[1]\n",
    "\n",
    "    print(f\"Starting context extraction, t={time() - start :.1f}s\")\n",
    "    dataset = load_from_disk(\"/kaggle/input/all-paraphs-parsed-expanded\")\n",
    "    for i in range(len(df)):\n",
    "        df.loc[i, \"context\"] = \"-\" + \"\\n-\".join([dataset[int(j)][\"text\"] for j in search_index[i]])\n",
    "\n",
    "    # Free memory\n",
    "    faiss_index.reset()\n",
    "    del faiss_index, prompt_embeddings, model, dataset\n",
    "    clean_memory()\n",
    "    print(f\"Context added, t={time() - start :.1f}s\")"
   ]
  },
  {
   "cell_type": "markdown",
   "id": "9e5b4504",
   "metadata": {
    "papermill": {
     "duration": 0.002623,
     "end_time": "2023-10-01T08:13:14.995665",
     "exception": false,
     "start_time": "2023-10-01T08:13:14.993042",
     "status": "completed"
    },
    "tags": []
   },
   "source": [
    "## 2: Run Platypus2-70B\n",
    "\n",
    "To run such a large model on a single T4 GPU, we run it layer by layer and sample by sample"
   ]
  },
  {
   "cell_type": "code",
   "execution_count": 6,
   "id": "29803185",
   "metadata": {
    "execution": {
     "iopub.execute_input": "2023-10-01T08:13:15.003044Z",
     "iopub.status.busy": "2023-10-01T08:13:15.002180Z",
     "iopub.status.idle": "2023-10-01T08:13:15.046255Z",
     "shell.execute_reply": "2023-10-01T08:13:15.045347Z"
    },
    "papermill": {
     "duration": 0.049655,
     "end_time": "2023-10-01T08:13:15.048180",
     "exception": false,
     "start_time": "2023-10-01T08:13:14.998525",
     "status": "completed"
    },
    "tags": []
   },
   "outputs": [],
   "source": [
    "# Create symlinks from kaggle datasets to fake cached model\n",
    "\n",
    "checkpoint_path = Path(\"/root/.cache/\")\n",
    "checkpoint_path.mkdir(exist_ok=True, parents=True)\n",
    "\n",
    "for part in [1, 2]:\n",
    "    source_dir = Path(f\"/kaggle/input/platypus2-70b-instruct-part{part}\")\n",
    "    for path in source_dir.glob(\"*\"):\n",
    "        try:\n",
    "            (checkpoint_path / path.name).symlink_to(path)\n",
    "        except:\n",
    "            pass"
   ]
  },
  {
   "cell_type": "code",
   "execution_count": 7,
   "id": "5ea29b65",
   "metadata": {
    "execution": {
     "iopub.execute_input": "2023-10-01T08:13:15.056085Z",
     "iopub.status.busy": "2023-10-01T08:13:15.055812Z",
     "iopub.status.idle": "2023-10-01T08:13:15.072940Z",
     "shell.execute_reply": "2023-10-01T08:13:15.072043Z"
    },
    "papermill": {
     "duration": 0.023457,
     "end_time": "2023-10-01T08:13:15.074711",
     "exception": false,
     "start_time": "2023-10-01T08:13:15.051254",
     "status": "completed"
    },
    "tags": []
   },
   "outputs": [],
   "source": [
    "# Class for sharded llama\n",
    "\n",
    "class ShardedLlama:\n",
    "    def __init__(self, checkpoint_path, device=\"cuda:0\", dtype=torch.float16):\n",
    "        \"\"\"\n",
    "        Sharded version of LlamaForCausalLM : the model is splitted into layer shards to reduce GPU memory usage.\n",
    "        During the forward pass, the inputs are processed layer by layer, and the GPU memory is freed after each layer.\n",
    "        To avoid loading the layers multiple times, we could save all the intermediate activations in RAM, but\n",
    "        as Kaggle accelerators have more GPU memory than CPU, we simply batch the inputs and keep them on the GPU.\n",
    "\n",
    "        Parameters\n",
    "        ----------\n",
    "        checkpoint_path : str or Path\n",
    "            path to the checkpoint\n",
    "        device : str, optional\n",
    "            device, by default \"cuda:0\"\n",
    "        dtype : torch.dtype, optional\n",
    "            dtype, by default torch.float16\n",
    "        \"\"\"\n",
    "        \n",
    "        # Save parameters\n",
    "        self.checkpoint_path = Path(checkpoint_path)\n",
    "        self.device = device \n",
    "        self.dtype = dtype\n",
    "\n",
    "        # Create model\n",
    "        self.config = AutoConfig.from_pretrained(self.checkpoint_path)\n",
    "        # For flash attention when Turing architecture will be supported : https://github.com/Dao-AILab/flash-attention/issues/542\n",
    "        # self.config.auto_map = {\"AutoModelForCausalLM\" : \"togethercomputer/LLaMA-2-7B-32K--modeling_flash_llama.LlamaForCausalLM\"} \n",
    "        \n",
    "        self.tokenizer = AutoTokenizer.from_pretrained(checkpoint_path)\n",
    "        self.tokenizer.pad_token = self.tokenizer.eos_token\n",
    "        self.tokenizer.padding_side = \"right\"\n",
    "        self.init_model()\n",
    "        self.layer_names = [\"model.embed_tokens\"] + [f\"model.layers.{i}\" for i in range(len(self.model.model.layers))] + [\"model.norm\", \"lm_head\"]\n",
    "\n",
    "    def init_model(self):\n",
    "    \n",
    "        # Load meta model (no memory used)\n",
    "        with init_empty_weights():\n",
    "            self.model = AutoModelForCausalLM.from_config(self.config, trust_remote_code=True)\n",
    "            self.model.tie_weights()\n",
    "            \n",
    "        self.layers = [self.model.model.embed_tokens] + list(self.model.model.layers) + [self.model.model.norm, self.model.lm_head]\n",
    "            \n",
    "        # Move buffers to device (not that much GPU memory used)\n",
    "        for buffer_name, buffer in self.model.named_buffers():\n",
    "            set_module_tensor_to_device(self.model, buffer_name, self.device, value=buffer, dtype=self.dtype)\n",
    "\n",
    "    def load_layer(self, layer_name):\n",
    "        state_dict = load_file(self.checkpoint_path / (layer_name + \".safetensors\"), device=self.device)\n",
    "        for param_name, param in state_dict.items():\n",
    "            assert param.dtype != torch.int8, \"int8 not supported (need to add fp16_statistics)\"\n",
    "            set_module_tensor_to_device(self.model, param_name, self.device, value=param, dtype=self.dtype)\n",
    "\n",
    "    def __call__(self, inputs, output_token):\n",
    "        # inputs = [(prefix, suffix), ...] with prefix.shape[0] = 1 and suffix.shape[0] = 5\n",
    "        \n",
    "        # Reboot the model to make sure buffers are loaded and memory is clean\n",
    "        del self.model\n",
    "        clean_memory()\n",
    "        self.init_model()\n",
    "        \n",
    "       # Send batch to device\n",
    "        batch = [(prefix.to(self.device), suffix.to(self.device)) for prefix, suffix in inputs]\n",
    "        n_suffixes = len(batch[0][1])\n",
    "        suffix_eos = [(suffix != self.tokenizer.pad_token_id).sum(1) - 1 for _, suffix in inputs]\n",
    "\n",
    "        # Create attention mask for the largest input, and position ids to use KV cache\n",
    "        attention_mask = torch.finfo(self.dtype).min * torch.ones(MAX_LENGTH, MAX_LENGTH)\n",
    "        attention_mask = attention_mask.triu(diagonal=1)[None, None, ...]\n",
    "        attention_mask = attention_mask.to(self.device)\n",
    "        position_ids = torch.arange(MAX_LENGTH, dtype=torch.long, device=self.device)[None, :]\n",
    "\n",
    "        with ThreadPoolExecutor() as executor, torch.inference_mode():\n",
    "\n",
    "            # Load first layer\n",
    "            #future = executor.submit(self.load_layer, \"model.embed_tokens\")\n",
    "            self.load_layer(\"model.embed_tokens\")\n",
    "\n",
    "            for i, (layer_name, layer) in tqdm(enumerate(zip(self.layer_names, self.layers)), desc=self.device, total=len(self.layers)):\n",
    "\n",
    "                # Wait for previous layer to be loaded and load next layer\n",
    "                #future.result()\n",
    "                if (i + 1) < len(self.layer_names):\n",
    "                    #future = executor.submit(self.load_layer, self.layer_names[i + 1])\n",
    "                    self.load_layer(self.layer_names[i + 1])\n",
    "\n",
    "                # Run layer\n",
    "                for j, (prefix, suffix) in enumerate(batch):\n",
    "                    if layer_name == \"model.embed_tokens\":\n",
    "                        batch[j] = (layer(prefix), layer(suffix))\n",
    "                    elif layer_name == \"model.norm\":\n",
    "                        # Only keep the last token at this point\n",
    "                        batch[j] = (None, layer(suffix[torch.arange(n_suffixes), suffix_eos[j]][:, None]))\n",
    "                    elif layer_name == \"lm_head\":\n",
    "                        batch[j] = layer(suffix)[:, 0, output_token].detach().cpu().numpy()\n",
    "                    else:\n",
    "                        # Run prefix\n",
    "                        len_p, len_s = prefix.shape[1], suffix.shape[1]\n",
    "                        new_prefix, (k_cache, v_cache) = layer(prefix, use_cache=True, attention_mask=attention_mask[:, :, -len_p:, -len_p:])\n",
    "                        \n",
    "                        # Run suffix\n",
    "                        pos = position_ids[:, len_p:len_p + len_s].repeat(n_suffixes, 1)\n",
    "                        attn = attention_mask[:, :, -len_s:, -len_p - len_s:].repeat(n_suffixes, 1, 1, 1)\n",
    "                        kv_cache = (k_cache.repeat(n_suffixes, 1, 1, 1), v_cache.repeat(n_suffixes, 1, 1, 1))\n",
    "                        new_suffix = layer(suffix, past_key_value=kv_cache, position_ids=pos, attention_mask=attn)[0]\n",
    "                        batch[j] = (new_prefix, new_suffix)\n",
    "\n",
    "                # Remove previous layer from memory (including buffers)\n",
    "                layer.to(\"meta\")\n",
    "                clean_memory() # proposed by CPMP\n",
    "\n",
    "        # Get scores\n",
    "        return batch"
   ]
  },
  {
   "cell_type": "code",
   "execution_count": 8,
   "id": "7a7a06b9",
   "metadata": {
    "execution": {
     "iopub.execute_input": "2023-10-01T08:13:15.082373Z",
     "iopub.status.busy": "2023-10-01T08:13:15.081814Z",
     "iopub.status.idle": "2023-10-01T08:13:15.113036Z",
     "shell.execute_reply": "2023-10-01T08:13:15.111870Z"
    },
    "papermill": {
     "duration": 0.038098,
     "end_time": "2023-10-01T08:13:15.115941",
     "exception": false,
     "start_time": "2023-10-01T08:13:15.077843",
     "status": "completed"
    },
    "tags": []
   },
   "outputs": [],
   "source": [
    "# Run model on the 2 GPUs\n",
    "\n",
    "def get_tokens(row, tokenizer):\n",
    "        system_prefix = \"Below is an instruction that describes a task, paired with an input that provides further context. Write a response that appropriately completes the request.\\n\\n### Instruction:\\n{instruction}\\n\\n### Input:\\n{input_prefix}\"\n",
    "        instruction = \"Your task is to analyze the question and answer below. If the answer is correct, respond yes, if it is not correct respond no. As a potential aid to your answer, background context from Wikipedia articles is at your disposal, even if they might not always be relevant.\"\n",
    "        input_prefix = f\"Context: {row['context'][:MAX_CONTEXT]}\\nQuestion: {row['prompt']}\\nProposed answer: \"\n",
    "        prompt_prefix = system_prefix.format(instruction=instruction, input_prefix=input_prefix)\n",
    "        prefix = tokenizer(prompt_prefix, return_tensors=\"pt\", return_attention_mask=False, truncation=True, max_length=MAX_LENGTH)[\"input_ids\"]\n",
    "        prompt_suffix = [f\"{row[letter]}\\n\\n### Response:\\n\" for letter in \"ABCDE\"]\n",
    "        suffix = tokenizer(prompt_suffix, return_tensors=\"pt\", return_attention_mask=False, truncation=True, max_length=MAX_LENGTH, padding=True)[\"input_ids\"][:, 1:]\n",
    "        return prefix, suffix\n",
    "\n",
    "def run_model(device, df):\n",
    "    model = ShardedLlama(checkpoint_path, device=f\"cuda:{device}\")\n",
    "    f = partial(get_tokens, tokenizer=model.tokenizer)\n",
    "    inputs = df.apply(f, axis=1).values\n",
    "    batches = np.array_split(inputs, N_BATCHES)\n",
    "    outputs = []\n",
    "    for i, batch in enumerate(batches):\n",
    "        # Token #4874 is yes.\n",
    "        outputs += model(batch, output_token=4874)\n",
    "    return outputs\n",
    "\n",
    "# Run model\n",
    "if IS_TEST_SET: \n",
    "    with ThreadPoolExecutor() as executor:\n",
    "        outputs = list(executor.map(run_model, [0, 1], np.array_split(df, 2)))\n",
    "        outputs = sum(outputs, [])\n",
    "        \n",
    "    # Save results\n",
    "    n = len(df)\n",
    "    for i, scores in enumerate(outputs):\n",
    "        top3 = np.argsort(scores)[::-1]\n",
    "        df.loc[i, \"prediction\"] = \" \".join([\"ABCDE\"[j] for j in top3])\n",
    "    \n",
    "    # Display performances if train set is used (in this case use IS_TEST_SET=True !)\n",
    "    if \"answer\" in df.columns:\n",
    "        for i in range(n):\n",
    "            df.loc[i, \"top_1\"] = df.loc[i, \"prediction\"][0]\n",
    "            df.loc[i, \"top_2\"] = df.loc[i, \"prediction\"][2]\n",
    "            df.loc[i, \"top_3\"] = df.loc[i, \"prediction\"][4]\n",
    "\n",
    "        top_i = [(df[f\"top_{i}\"] == df[\"answer\"]).sum() for i in [1, 2, 3]]\n",
    "        print(f\"top1 : {top_i[0]}/{n}, top2 : {top_i[1]}/{n}, top3 : {top_i[2]}/{n} (total={sum(top_i)} / {n})\")\n",
    "        print(f\"Accuracy: {100*top_i[0]/n:.1f}%, map3: {100*(top_i[0] + top_i[1]*1/2 + top_i[2]*1/3).sum()/n:.1f}%\")\n",
    "else:\n",
    "    df[\"prediction\"] = \"A B C\"\n",
    "\n",
    "df[[\"prediction\"]].to_csv(\"submission.csv\")"
   ]
  }
 ],
 "metadata": {
  "kernelspec": {
   "display_name": "Python 3",
   "language": "python",
   "name": "python3"
  },
  "language_info": {
   "codemirror_mode": {
    "name": "ipython",
    "version": 3
   },
   "file_extension": ".py",
   "mimetype": "text/x-python",
   "name": "python",
   "nbconvert_exporter": "python",
   "pygments_lexer": "ipython3",
   "version": "3.10.12"
  },
  "papermill": {
   "default_parameters": {},
   "duration": 79.74521,
   "end_time": "2023-10-01T08:13:18.398905",
   "environment_variables": {},
   "exception": null,
   "input_path": "__notebook__.ipynb",
   "output_path": "__notebook__.ipynb",
   "parameters": {},
   "start_time": "2023-10-01T08:11:58.653695",
   "version": "2.4.0"
  }
 },
 "nbformat": 4,
 "nbformat_minor": 5
}
