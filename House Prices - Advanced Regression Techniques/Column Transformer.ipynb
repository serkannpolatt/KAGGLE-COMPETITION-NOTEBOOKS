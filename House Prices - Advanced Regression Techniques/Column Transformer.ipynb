{
  "cells": [
    {
      "cell_type": "markdown",
      "metadata": {
        "id": "qMYAC-r3UOt6"
      },
      "source": [
        "# Authenticate to Kaggle\n",
        "# Kaggle'da kimlik doğrulaması yapın"
      ]
    },
    {
      "cell_type": "code",
      "execution_count": 1,
      "metadata": {
        "id": "aKp5iYPRUY5B"
      },
      "outputs": [],
      "source": [
        "!mkdir ~/.kaggle"
      ]
    },
    {
      "cell_type": "code",
      "execution_count": 6,
      "metadata": {
        "id": "mZb8zraHUcC8"
      },
      "outputs": [],
      "source": [
        "!cp kaggle.json ~/.kaggle/kaggle.json"
      ]
    },
    {
      "cell_type": "code",
      "execution_count": 7,
      "metadata": {
        "id": "rH74hoQoUfy8"
      },
      "outputs": [],
      "source": [
        "!chmod 600 ~/.kaggle/kaggle.json"
      ]
    },
    {
      "cell_type": "code",
      "execution_count": null,
      "metadata": {
        "id": "8idprckpUu8z"
      },
      "outputs": [],
      "source": [
        "!pip list"
      ]
    },
    {
      "cell_type": "code",
      "execution_count": 10,
      "metadata": {
        "colab": {
          "base_uri": "https://localhost:8080/"
        },
        "id": "7LoX-osGUw8T",
        "outputId": "7d46a500-1e4d-4712-cbd4-c8939dad3eaf"
      },
      "outputs": [
        {
          "name": "stdout",
          "output_type": "stream",
          "text": [
            "Downloading house-prices-advanced-regression-techniques.zip to /content\n",
            "\r  0% 0.00/199k [00:00<?, ?B/s]\n",
            "\r100% 199k/199k [00:00<00:00, 66.4MB/s]\n"
          ]
        }
      ],
      "source": [
        "!kaggle competitions download -c house-prices-advanced-regression-techniques"
      ]
    },
    {
      "cell_type": "code",
      "execution_count": 11,
      "metadata": {
        "colab": {
          "base_uri": "https://localhost:8080/"
        },
        "id": "Q8qcvyulVAHS",
        "outputId": "34884499-f41b-4864-eb06-c2eeff37d85b"
      },
      "outputs": [
        {
          "name": "stdout",
          "output_type": "stream",
          "text": [
            "Archive:  house-prices-advanced-regression-techniques.zip\n",
            "  inflating: data_description.txt    \n",
            "  inflating: sample_submission.csv   \n",
            "  inflating: test.csv                \n",
            "  inflating: train.csv               \n"
          ]
        }
      ],
      "source": [
        "!unzip house-prices-advanced-regression-techniques.zip"
      ]
    },
    {
      "cell_type": "markdown",
      "metadata": {
        "id": "gAt5Un5uVITi"
      },
      "source": [
        "# Pipeline Practice\n",
        "# Pipeline Uygulaması"
      ]
    },
    {
      "cell_type": "code",
      "execution_count": 45,
      "metadata": {
        "id": "R0iuIbOQVci6"
      },
      "outputs": [],
      "source": [
        "import pandas as pd\n",
        "from sklearn.pipeline import make_pipeline, Pipeline\n",
        "from sklearn.preprocessing import StandardScaler\n",
        "from sklearn.ensemble import RandomForestRegressor"
      ]
    },
    {
      "cell_type": "code",
      "execution_count": 14,
      "metadata": {
        "id": "5gA74P-bVR5J"
      },
      "outputs": [],
      "source": [
        "df = pd.read_csv('train.csv')"
      ]
    },
    {
      "cell_type": "code",
      "execution_count": null,
      "metadata": {
        "id": "m6kNTtbLVbrh"
      },
      "outputs": [],
      "source": [
        "df.head()"
      ]
    },
    {
      "cell_type": "code",
      "execution_count": 27,
      "metadata": {
        "id": "Qhd9FqKYWpQ9"
      },
      "outputs": [],
      "source": [
        "# Only certain columns so I don't need to deal with NaNs for non\n",
        "# Yalnızca belirli sütunlar olduğundan NaN'lerle uğraşmama gerek kalmıyor\n",
        "select_df = df[['MSSubClass','MSZoning','LotFrontage','LotArea', 'Street', 'LotShape',\n",
        "        'LandContour',\t'Utilities', 'MiscVal', 'MoSold', 'YrSold', 'SaleType', 'SalePrice']].dropna()"
      ]
    },
    {
      "cell_type": "code",
      "execution_count": 26,
      "metadata": {
        "id": "pyJK7y3lV74n"
      },
      "outputs": [],
      "source": [
        "# Only certain columns so I don't need to deal with NaNs for now\n",
        "X = pd.get_dummies(select_df.drop('SalePrice', axis=1))\n",
        "y = select_df.SalePrice"
      ]
    },
    {
      "cell_type": "code",
      "execution_count": 29,
      "metadata": {
        "id": "3a8wbqNeXZ96"
      },
      "outputs": [],
      "source": [
        "pipeline = make_pipeline(StandardScaler(), RandomForestRegressor())"
      ]
    },
    {
      "cell_type": "code",
      "execution_count": 30,
      "metadata": {
        "colab": {
          "base_uri": "https://localhost:8080/"
        },
        "id": "nNZsxR0AXlai",
        "outputId": "60ac414e-3e5b-4b84-c43c-5959ae576388"
      },
      "outputs": [
        {
          "data": {
            "text/plain": [
              "Pipeline(steps=[('standardscaler', StandardScaler()),\n",
              "                ('randomforestregressor', RandomForestRegressor())])"
            ]
          },
          "execution_count": 30,
          "metadata": {},
          "output_type": "execute_result"
        }
      ],
      "source": [
        "pipeline.fit(X,y)"
      ]
    },
    {
      "cell_type": "code",
      "execution_count": 31,
      "metadata": {
        "colab": {
          "base_uri": "https://localhost:8080/"
        },
        "id": "jWfgnUN9Xm7y",
        "outputId": "f55ec9bf-dbad-4bd2-b7ce-c6ee00f61b9b"
      },
      "outputs": [
        {
          "data": {
            "text/plain": [
              "array([203543.5 , 169576.5 , 214726.  , ..., 225193.58, 143516.  ,\n",
              "       152326.  ])"
            ]
          },
          "execution_count": 31,
          "metadata": {},
          "output_type": "execute_result"
        }
      ],
      "source": [
        "pipeline.predict(X)"
      ]
    },
    {
      "cell_type": "markdown",
      "metadata": {
        "id": "wJGE5PdSXpmC"
      },
      "source": [
        "# Save the Pipeline\n",
        "# Pipeline'ı kaydet"
      ]
    },
    {
      "cell_type": "code",
      "execution_count": 32,
      "metadata": {
        "id": "V34OUSvbXzM5"
      },
      "outputs": [],
      "source": [
        "import pickle"
      ]
    },
    {
      "cell_type": "code",
      "execution_count": 34,
      "metadata": {
        "id": "lWo0NR0kX0XJ"
      },
      "outputs": [],
      "source": [
        "with open('pipelinemodel.pkl', 'wb') as f:\n",
        "  pickle.dump(pipeline, f)"
      ]
    },
    {
      "cell_type": "code",
      "execution_count": 35,
      "metadata": {
        "id": "66OnIvrlX5eY"
      },
      "outputs": [],
      "source": [
        "with open('pipelinemodel.pkl', 'rb') as f: \n",
        "  reloaded_model = pickle.load(f)"
      ]
    },
    {
      "cell_type": "code",
      "execution_count": 36,
      "metadata": {
        "colab": {
          "base_uri": "https://localhost:8080/"
        },
        "id": "z-wfBcOyYEOo",
        "outputId": "6dee0ade-1615-45a1-8643-52063c2a2574"
      },
      "outputs": [
        {
          "data": {
            "text/plain": [
              "Pipeline(steps=[('standardscaler', StandardScaler()),\n",
              "                ('randomforestregressor', RandomForestRegressor())])"
            ]
          },
          "execution_count": 36,
          "metadata": {},
          "output_type": "execute_result"
        }
      ],
      "source": [
        "reloaded_model"
      ]
    },
    {
      "cell_type": "code",
      "execution_count": null,
      "metadata": {
        "id": "_QTvyCXdYFaZ"
      },
      "outputs": [],
      "source": [
        "reloaded_model.steps[1][1].predict(X)"
      ]
    },
    {
      "cell_type": "markdown",
      "metadata": {
        "id": "ZbmPjZENaC1K"
      },
      "source": [
        "# Using the Pipeline Class \n",
        "# Pipeline Sınıfını Kullanmak"
      ]
    },
    {
      "cell_type": "code",
      "execution_count": 48,
      "metadata": {
        "id": "0SKnOxM1YReJ"
      },
      "outputs": [],
      "source": [
        "# with the pipeline class\n",
        "# pipeline sınıfıyla\n",
        "custom_pipeline = Pipeline([('scaling', StandardScaler()),('rfmodel', RandomForestRegressor())])"
      ]
    },
    {
      "cell_type": "code",
      "execution_count": 50,
      "metadata": {
        "colab": {
          "base_uri": "https://localhost:8080/"
        },
        "id": "Pf0jazWJaZxo",
        "outputId": "d6d839e0-5f5c-4ac1-fca7-cafff89368f8"
      },
      "outputs": [
        {
          "data": {
            "text/plain": [
              "Pipeline(steps=[('scaling', StandardScaler()),\n",
              "                ('rfmodel', RandomForestRegressor())])"
            ]
          },
          "execution_count": 50,
          "metadata": {},
          "output_type": "execute_result"
        }
      ],
      "source": [
        "custom_pipeline"
      ]
    },
    {
      "cell_type": "code",
      "execution_count": 49,
      "metadata": {
        "id": "TuKfhN3YaMsC"
      },
      "outputs": [],
      "source": [
        "# with the make_pipeline class\n",
        "# make_pipeline sınıfıyla\n",
        "make_pipeline_model = make_pipeline(StandardScaler(), RandomForestRegressor())"
      ]
    },
    {
      "cell_type": "code",
      "execution_count": 51,
      "metadata": {
        "colab": {
          "base_uri": "https://localhost:8080/"
        },
        "id": "JvomVhsZaZB4",
        "outputId": "c1eba976-1a66-4513-86d5-5bec454bcf1a"
      },
      "outputs": [
        {
          "data": {
            "text/plain": [
              "Pipeline(steps=[('standardscaler', StandardScaler()),\n",
              "                ('randomforestregressor', RandomForestRegressor())])"
            ]
          },
          "execution_count": 51,
          "metadata": {},
          "output_type": "execute_result"
        }
      ],
      "source": [
        "make_pipeline_model"
      ]
    },
    {
      "cell_type": "markdown",
      "metadata": {
        "id": "4uzgFUlXafwp"
      },
      "source": [
        "# Column Transformers\n",
        "# Sütun Transformers"
      ]
    },
    {
      "cell_type": "code",
      "execution_count": 53,
      "metadata": {
        "id": "8Al1nisra5jv"
      },
      "outputs": [],
      "source": [
        "from sklearn.compose import ColumnTransformer\n",
        "from sklearn.preprocessing import OneHotEncoder"
      ]
    },
    {
      "cell_type": "code",
      "execution_count": 55,
      "metadata": {
        "colab": {
          "base_uri": "https://localhost:8080/"
        },
        "id": "xgI20sxVbM0m",
        "outputId": "24ebef44-64e6-422e-8f08-da1abd17d04a"
      },
      "outputs": [
        {
          "data": {
            "text/plain": [
              "Index(['MSZoning', 'Street', 'LotShape', 'LandContour', 'Utilities',\n",
              "       'SaleType'],\n",
              "      dtype='object')"
            ]
          },
          "execution_count": 55,
          "metadata": {},
          "output_type": "execute_result"
        }
      ],
      "source": [
        "select_df.select_dtypes('object').columns"
      ]
    },
    {
      "cell_type": "code",
      "execution_count": 85,
      "metadata": {
        "id": "Wxr_poQAa9q4"
      },
      "outputs": [],
      "source": [
        "# Numeric Features\n",
        "# Sayısal Özellikler\n",
        "numeric_features = select_df.drop('SalePrice', axis=1).select_dtypes(exclude='object').columns\n",
        "numeric_pipeline = Pipeline([('scaler', StandardScaler())])"
      ]
    },
    {
      "cell_type": "code",
      "execution_count": 86,
      "metadata": {
        "id": "ld6dPmDubCkP"
      },
      "outputs": [],
      "source": [
        "# Categorical Features\n",
        "# Kategorik Özellikler\n",
        "categorical_features = select_df.select_dtypes('object').columns\n",
        "categorical_pipeline = Pipeline([('onehot', OneHotEncoder())])"
      ]
    },
    {
      "cell_type": "code",
      "execution_count": 87,
      "metadata": {
        "id": "eypRerjublZN"
      },
      "outputs": [],
      "source": [
        "transformer = ColumnTransformer([('numeric_preprocessing', numeric_pipeline, numeric_features), \n",
        "                                 ('categorical_preprocessing', categorical_pipeline, categorical_features)])"
      ]
    },
    {
      "cell_type": "code",
      "execution_count": 88,
      "metadata": {
        "id": "c1LUoyAUb8r6"
      },
      "outputs": [],
      "source": [
        "ml_pipeline = Pipeline([('all_column_preprocessing', transformer), ('randforestclassifier', RandomForestRegressor())])"
      ]
    },
    {
      "cell_type": "code",
      "execution_count": 89,
      "metadata": {
        "id": "ayrnGS0wdMlA"
      },
      "outputs": [],
      "source": [
        "X = select_df.drop('SalePrice', axis=1)\n",
        "y = select_df['SalePrice']"
      ]
    },
    {
      "cell_type": "code",
      "execution_count": 90,
      "metadata": {
        "colab": {
          "base_uri": "https://localhost:8080/"
        },
        "id": "c17Wi_pVchmC",
        "outputId": "1c2c8231-637e-4b2a-bc70-a673e3f79467"
      },
      "outputs": [
        {
          "data": {
            "text/plain": [
              "Pipeline(steps=[('all_column_preprocessing',\n",
              "                 ColumnTransformer(transformers=[('numeric_preprocessing',\n",
              "                                                  Pipeline(steps=[('scaler',\n",
              "                                                                   StandardScaler())]),\n",
              "                                                  Index(['MSSubClass', 'LotFrontage', 'LotArea', 'MiscVal', 'MoSold', 'YrSold'], dtype='object')),\n",
              "                                                 ('categorical_preprocessing',\n",
              "                                                  Pipeline(steps=[('onehot',\n",
              "                                                                   OneHotEncoder())]),\n",
              "                                                  Index(['MSZoning', 'Street', 'LotShape', 'LandContour', 'Utilities',\n",
              "       'SaleType'],\n",
              "      dtype='object'))])),\n",
              "                ('randforestclassifier', RandomForestRegressor())])"
            ]
          },
          "execution_count": 90,
          "metadata": {},
          "output_type": "execute_result"
        }
      ],
      "source": [
        "ml_pipeline.fit(X, y)"
      ]
    },
    {
      "cell_type": "code",
      "execution_count": 91,
      "metadata": {
        "colab": {
          "base_uri": "https://localhost:8080/"
        },
        "id": "0HLDc2H-c-IQ",
        "outputId": "91af189a-202b-4452-93bd-3429cbf2416b"
      },
      "outputs": [
        {
          "data": {
            "text/plain": [
              "array([204506.  , 165339.64, 210766.72, ..., 232544.5 , 144572.75,\n",
              "       155401.5 ])"
            ]
          },
          "execution_count": 91,
          "metadata": {},
          "output_type": "execute_result"
        }
      ],
      "source": [
        "ml_pipeline.predict(X)"
      ]
    },
    {
      "cell_type": "code",
      "execution_count": 92,
      "metadata": {
        "id": "2jaCP-zgeNyc"
      },
      "outputs": [],
      "source": [
        "with open('columntransformermodel.pkl', 'wb') as f: \n",
        "  pickle.dump(ml_pipeline, f)"
      ]
    },
    {
      "cell_type": "code",
      "execution_count": 93,
      "metadata": {
        "id": "h9WOMAIMeWfU"
      },
      "outputs": [],
      "source": [
        "with open('columntransformermodel.pkl', 'rb') as f: \n",
        "  reloaded_ml_pipeline = pickle.load(f)"
      ]
    },
    {
      "cell_type": "code",
      "execution_count": 94,
      "metadata": {
        "colab": {
          "base_uri": "https://localhost:8080/"
        },
        "id": "6PwL0nXRedZs",
        "outputId": "dda0004a-ce55-4513-ff9c-8515c3bbc437"
      },
      "outputs": [
        {
          "data": {
            "text/plain": [
              "Pipeline(steps=[('all_column_preprocessing',\n",
              "                 ColumnTransformer(transformers=[('numeric_preprocessing',\n",
              "                                                  Pipeline(steps=[('scaler',\n",
              "                                                                   StandardScaler())]),\n",
              "                                                  Index(['MSSubClass', 'LotFrontage', 'LotArea', 'MiscVal', 'MoSold', 'YrSold'], dtype='object')),\n",
              "                                                 ('categorical_preprocessing',\n",
              "                                                  Pipeline(steps=[('onehot',\n",
              "                                                                   OneHotEncoder())]),\n",
              "                                                  Index(['MSZoning', 'Street', 'LotShape', 'LandContour', 'Utilities',\n",
              "       'SaleType'],\n",
              "      dtype='object'))])),\n",
              "                ('randforestclassifier', RandomForestRegressor())])"
            ]
          },
          "execution_count": 94,
          "metadata": {},
          "output_type": "execute_result"
        }
      ],
      "source": [
        "reloaded_ml_pipeline"
      ]
    },
    {
      "cell_type": "code",
      "execution_count": null,
      "metadata": {
        "id": "sMVxDWB7ee1j"
      },
      "outputs": [],
      "source": []
    }
  ],
  "metadata": {
    "colab": {
      "name": "ColumnTransformerPractice.ipynb",
      "provenance": []
    },
    "kernelspec": {
      "display_name": "Python 3",
      "name": "python3"
    },
    "language_info": {
      "name": "python"
    }
  },
  "nbformat": 4,
  "nbformat_minor": 0
}
