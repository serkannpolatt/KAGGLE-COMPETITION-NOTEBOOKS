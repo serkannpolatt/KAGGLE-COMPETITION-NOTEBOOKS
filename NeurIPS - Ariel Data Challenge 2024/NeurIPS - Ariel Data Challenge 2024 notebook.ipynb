{
 "cells": [
  {
   "cell_type": "code",
   "execution_count": 1,
   "id": "b73fefad",
   "metadata": {
    "execution": {
     "iopub.execute_input": "2024-11-03T10:10:18.863122Z",
     "iopub.status.busy": "2024-11-03T10:10:18.862780Z",
     "iopub.status.idle": "2024-11-03T10:10:21.791947Z",
     "shell.execute_reply": "2024-11-03T10:10:21.791021Z"
    },
    "papermill": {
     "duration": 2.936365,
     "end_time": "2024-11-03T10:10:21.794710",
     "exception": false,
     "start_time": "2024-11-03T10:10:18.858345",
     "status": "completed"
    },
    "tags": []
   },
   "outputs": [],
   "source": [
    "# Load libraries\n",
    "import sys\n",
    "sys.path.append( \"/kaggle/input/my-ariel-library/\" )\n",
    "import ariel_support as ars # general support functions and the data loader\n",
    "import ariel_gp as arg # The model\n",
    "import pandas as pd\n",
    "import numpy as np\n",
    "import copy\n",
    "import dill\n",
    "import IPython"
   ]
  },
  {
   "cell_type": "markdown",
   "id": "3921ad1d",
   "metadata": {
    "papermill": {
     "duration": 0.005066,
     "end_time": "2024-11-03T10:10:21.807184",
     "exception": false,
     "start_time": "2024-11-03T10:10:21.802118",
     "status": "completed"
    },
    "tags": []
   },
   "source": [
    "Next, we configure our data loader and model, as it will be used during training. Test set specific tweaks come later. The 'include_later_optimizations' option determines whether we get my original best submission (False) or include later learnings (True)."
   ]
  },
  {
   "cell_type": "code",
   "execution_count": 2,
   "id": "7b41381f",
   "metadata": {
    "editable": true,
    "execution": {
     "iopub.execute_input": "2024-11-03T10:10:21.818358Z",
     "iopub.status.busy": "2024-11-03T10:10:21.817909Z",
     "iopub.status.idle": "2024-11-03T10:10:21.825095Z",
     "shell.execute_reply": "2024-11-03T10:10:21.824228Z"
    },
    "papermill": {
     "duration": 0.016202,
     "end_time": "2024-11-03T10:10:21.828270",
     "exception": false,
     "start_time": "2024-11-03T10:10:21.812068",
     "status": "completed"
    },
    "slideshow": {
     "slide_type": ""
    },
    "tags": []
   },
   "outputs": [],
   "source": [
    "include_later_optimizations = True\n",
    "\n",
    "# Configure loader\n",
    "loader = ars.DataLoader()\n",
    "loader.loader_options = ars.baseline_loader(include_later_optimization=include_later_optimizations)\n",
    "\n",
    "# Configure model\n",
    "model = arg.baseline_model(include_later_optimization=include_later_optimizations)\n",
    "\n",
    "if include_later_optimizations:\n",
    "    trained_model_filename = 'trained_model_optimized.pickle'\n",
    "else:\n",
    "    trained_model_filename = 'trained_model.pickle'"
   ]
  },
  {
   "cell_type": "markdown",
   "id": "0539c16f",
   "metadata": {
    "editable": true,
    "papermill": {
     "duration": 0.004558,
     "end_time": "2024-11-03T10:10:21.837500",
     "exception": false,
     "start_time": "2024-11-03T10:10:21.832942",
     "status": "completed"
    },
    "slideshow": {
     "slide_type": ""
    },
    "tags": []
   },
   "source": [
    "We're now ready to train our model. By default this is only done if we're not running in the Kaggle environment, but you can alter this in the first line below. If we don't train, we will get our trained model from the earlier stored \"trained_model.pickle\". \n",
    "\n",
    "With the default model, only two parameters are trained: the multiplication applied to all sigma's (trained_model.fudge_value), and the multiplication applied to the mean of every transit prediction (trained_model.model.bias). With the optimized model, the training actually does nothing...\n",
    "\n",
    "The pickle file for the default model is quite large (~400 MB) because it caches some internal results, which speeds up inference if we do it on the training data later. These caches do not end up being used during inference on test data."
   ]
  },
  {
   "cell_type": "code",
   "execution_count": 3,
   "id": "d23ead84",
   "metadata": {
    "editable": true,
    "execution": {
     "iopub.execute_input": "2024-11-03T10:10:21.848286Z",
     "iopub.status.busy": "2024-11-03T10:10:21.847853Z",
     "iopub.status.idle": "2024-11-03T10:10:21.896506Z",
     "shell.execute_reply": "2024-11-03T10:10:21.895669Z"
    },
    "papermill": {
     "duration": 0.057481,
     "end_time": "2024-11-03T10:10:21.899687",
     "exception": false,
     "start_time": "2024-11-03T10:10:21.842206",
     "status": "completed"
    },
    "slideshow": {
     "slide_type": ""
    },
    "tags": []
   },
   "outputs": [],
   "source": [
    "do_training = not ars.running_on_kaggle\n",
    "untrained_model = copy.deepcopy(model)\n",
    "if do_training:\n",
    "    assert len(ars.test_planet_list)==1, \"Cannot train when submitted\"\n",
    "    loader.planet_ids_to_load = ars.train_planet_list\n",
    "\n",
    "    # Load training data and train model on it\n",
    "    train_data = loader.load()\n",
    "    model.train(train_data)\n",
    "    \n",
    "    pickle_data = dict()        \n",
    "    pickle_data['untrained_model'] = untrained_model\n",
    "    pickle_data['trained_model'] = model\n",
    "    ars.pickle_save(ars.file_loc()+trained_model_filename, pickle_data)\n",
    "pickle_data = ars.pickle_load(ars.file_loc()+trained_model_filename)\n",
    "assert dill.dumps(untrained_model) == dill.dumps(pickle_data['untrained_model']), \"trained_model.pickle is not consistent with configured model; perhaps you need to redo training above?\"\n",
    "trained_model = pickle_data['trained_model']"
   ]
  },
  {
   "cell_type": "markdown",
   "id": "ce1b1368",
   "metadata": {
    "editable": true,
    "papermill": {
     "duration": 0.00377,
     "end_time": "2024-11-03T10:10:21.908332",
     "exception": false,
     "start_time": "2024-11-03T10:10:21.904562",
     "status": "completed"
    },
    "slideshow": {
     "slide_type": ""
    },
    "tags": []
   },
   "source": [
    "If desired we can tweak our model now, to account for differences between the train and test set."
   ]
  },
  {
   "cell_type": "code",
   "execution_count": 4,
   "id": "fcd3790e",
   "metadata": {
    "editable": true,
    "execution": {
     "iopub.execute_input": "2024-11-03T10:10:21.916946Z",
     "iopub.status.busy": "2024-11-03T10:10:21.916642Z",
     "iopub.status.idle": "2024-11-03T10:10:21.920860Z",
     "shell.execute_reply": "2024-11-03T10:10:21.919945Z"
    },
    "papermill": {
     "duration": 0.010679,
     "end_time": "2024-11-03T10:10:21.922822",
     "exception": false,
     "start_time": "2024-11-03T10:10:21.912143",
     "status": "completed"
    },
    "slideshow": {
     "slide_type": ""
    },
    "tags": []
   },
   "outputs": [],
   "source": [
    "# These values were found by hill climbing the public test set\n",
    "if not include_later_optimizations:\n",
    "    trained_model.fudge_value += 0.058\n",
    "    trained_model.model.bias += -0.0015"
   ]
  },
  {
   "cell_type": "markdown",
   "id": "976860ac",
   "metadata": {
    "editable": true,
    "papermill": {
     "duration": 0.003607,
     "end_time": "2024-11-03T10:10:21.930235",
     "exception": false,
     "start_time": "2024-11-03T10:10:21.926628",
     "status": "completed"
    },
    "slideshow": {
     "slide_type": ""
    },
    "tags": []
   },
   "source": [
    "Now that we have our trained_model - trained just now or imported - we're ready to apply it to the test data. If we've not actually been submitted, we instead use the first 5 training planets. We can't use the single test planet because some model variations don't work on a single planet."
   ]
  },
  {
   "cell_type": "code",
   "execution_count": 5,
   "id": "ee3165a8",
   "metadata": {
    "editable": true,
    "execution": {
     "iopub.execute_input": "2024-11-03T10:10:21.938812Z",
     "iopub.status.busy": "2024-11-03T10:10:21.938350Z",
     "iopub.status.idle": "2024-11-03T10:13:21.030232Z",
     "shell.execute_reply": "2024-11-03T10:13:21.028803Z"
    },
    "papermill": {
     "duration": 179.103091,
     "end_time": "2024-11-03T10:13:21.036976",
     "exception": false,
     "start_time": "2024-11-03T10:10:21.933885",
     "status": "completed"
    },
    "slideshow": {
     "slide_type": ""
    },
    "tags": []
   },
   "outputs": [
    {
     "name": "stdout",
     "output_type": "stream",
     "text": [
      "CPU times: user 5min 10s, sys: 24.5 s, total: 5min 34s\n",
      "Wall time: 2min 59s\n"
     ]
    }
   ],
   "source": [
    "%%time\n",
    "# Load data\n",
    "if len(ars.test_planet_list)==1:\n",
    "    loader.load_train = True\n",
    "    loader.planet_ids_to_load = ars.train_planet_list[:5]\n",
    "else:\n",
    "    loader.load_train = False\n",
    "    loader.planet_ids_to_load = ars.test_planet_list    \n",
    "loader.include_labels = False # don't try to load ground truth\n",
    "test_data = loader.load()\n",
    "\n",
    "# Do inference - the unused third output has the covariance matrices per planet\n",
    "pred,sigma,_ = trained_model.infer(test_data)"
   ]
  },
  {
   "cell_type": "markdown",
   "id": "b103543e",
   "metadata": {
    "editable": true,
    "papermill": {
     "duration": 0.004161,
     "end_time": "2024-11-03T10:13:21.045453",
     "exception": false,
     "start_time": "2024-11-03T10:13:21.041292",
     "status": "completed"
    },
    "slideshow": {
     "slide_type": ""
    },
    "tags": []
   },
   "source": [
    "Finally, we write the output to submission.csv. If we're not in submission mode we write it to the screen."
   ]
  },
  {
   "cell_type": "code",
   "execution_count": 6,
   "id": "4b30e511",
   "metadata": {
    "editable": true,
    "execution": {
     "iopub.execute_input": "2024-11-03T10:13:21.056093Z",
     "iopub.status.busy": "2024-11-03T10:13:21.055030Z",
     "iopub.status.idle": "2024-11-03T10:13:21.255217Z",
     "shell.execute_reply": "2024-11-03T10:13:21.254238Z"
    },
    "papermill": {
     "duration": 0.207493,
     "end_time": "2024-11-03T10:13:21.257117",
     "exception": false,
     "start_time": "2024-11-03T10:13:21.049624",
     "status": "completed"
    },
    "slideshow": {
     "slide_type": ""
    },
    "tags": []
   },
   "outputs": [
    {
     "data": {
      "text/html": [
       "<div>\n",
       "<style scoped>\n",
       "    .dataframe tbody tr th:only-of-type {\n",
       "        vertical-align: middle;\n",
       "    }\n",
       "\n",
       "    .dataframe tbody tr th {\n",
       "        vertical-align: top;\n",
       "    }\n",
       "\n",
       "    .dataframe thead th {\n",
       "        text-align: right;\n",
       "    }\n",
       "</style>\n",
       "<table border=\"1\" class=\"dataframe\">\n",
       "  <thead>\n",
       "    <tr style=\"text-align: right;\">\n",
       "      <th></th>\n",
       "      <th>wl_1</th>\n",
       "      <th>wl_2</th>\n",
       "      <th>wl_3</th>\n",
       "      <th>wl_4</th>\n",
       "      <th>wl_5</th>\n",
       "      <th>wl_6</th>\n",
       "      <th>wl_7</th>\n",
       "      <th>wl_8</th>\n",
       "      <th>wl_9</th>\n",
       "      <th>wl_10</th>\n",
       "      <th>...</th>\n",
       "      <th>sigma_274</th>\n",
       "      <th>sigma_275</th>\n",
       "      <th>sigma_276</th>\n",
       "      <th>sigma_277</th>\n",
       "      <th>sigma_278</th>\n",
       "      <th>sigma_279</th>\n",
       "      <th>sigma_280</th>\n",
       "      <th>sigma_281</th>\n",
       "      <th>sigma_282</th>\n",
       "      <th>sigma_283</th>\n",
       "    </tr>\n",
       "    <tr>\n",
       "      <th>planet_id</th>\n",
       "      <th></th>\n",
       "      <th></th>\n",
       "      <th></th>\n",
       "      <th></th>\n",
       "      <th></th>\n",
       "      <th></th>\n",
       "      <th></th>\n",
       "      <th></th>\n",
       "      <th></th>\n",
       "      <th></th>\n",
       "      <th></th>\n",
       "      <th></th>\n",
       "      <th></th>\n",
       "      <th></th>\n",
       "      <th></th>\n",
       "      <th></th>\n",
       "      <th></th>\n",
       "      <th></th>\n",
       "      <th></th>\n",
       "      <th></th>\n",
       "      <th></th>\n",
       "    </tr>\n",
       "  </thead>\n",
       "  <tbody>\n",
       "    <tr>\n",
       "      <th>785834.0</th>\n",
       "      <td>0.001144</td>\n",
       "      <td>0.001113</td>\n",
       "      <td>0.001112</td>\n",
       "      <td>0.001111</td>\n",
       "      <td>0.001111</td>\n",
       "      <td>0.001113</td>\n",
       "      <td>0.001114</td>\n",
       "      <td>0.001117</td>\n",
       "      <td>0.001120</td>\n",
       "      <td>0.001123</td>\n",
       "      <td>...</td>\n",
       "      <td>0.000050</td>\n",
       "      <td>0.000050</td>\n",
       "      <td>0.000050</td>\n",
       "      <td>0.000051</td>\n",
       "      <td>0.000052</td>\n",
       "      <td>0.000053</td>\n",
       "      <td>0.000054</td>\n",
       "      <td>0.000055</td>\n",
       "      <td>0.000055</td>\n",
       "      <td>0.000056</td>\n",
       "    </tr>\n",
       "    <tr>\n",
       "      <th>14485303.0</th>\n",
       "      <td>0.001871</td>\n",
       "      <td>0.001820</td>\n",
       "      <td>0.001819</td>\n",
       "      <td>0.001818</td>\n",
       "      <td>0.001818</td>\n",
       "      <td>0.001818</td>\n",
       "      <td>0.001820</td>\n",
       "      <td>0.001823</td>\n",
       "      <td>0.001826</td>\n",
       "      <td>0.001830</td>\n",
       "      <td>...</td>\n",
       "      <td>0.000034</td>\n",
       "      <td>0.000033</td>\n",
       "      <td>0.000033</td>\n",
       "      <td>0.000033</td>\n",
       "      <td>0.000033</td>\n",
       "      <td>0.000034</td>\n",
       "      <td>0.000034</td>\n",
       "      <td>0.000034</td>\n",
       "      <td>0.000034</td>\n",
       "      <td>0.000035</td>\n",
       "    </tr>\n",
       "    <tr>\n",
       "      <th>17002355.0</th>\n",
       "      <td>0.002794</td>\n",
       "      <td>0.002798</td>\n",
       "      <td>0.002798</td>\n",
       "      <td>0.002798</td>\n",
       "      <td>0.002799</td>\n",
       "      <td>0.002799</td>\n",
       "      <td>0.002798</td>\n",
       "      <td>0.002798</td>\n",
       "      <td>0.002798</td>\n",
       "      <td>0.002797</td>\n",
       "      <td>...</td>\n",
       "      <td>0.000028</td>\n",
       "      <td>0.000028</td>\n",
       "      <td>0.000029</td>\n",
       "      <td>0.000029</td>\n",
       "      <td>0.000029</td>\n",
       "      <td>0.000029</td>\n",
       "      <td>0.000029</td>\n",
       "      <td>0.000029</td>\n",
       "      <td>0.000029</td>\n",
       "      <td>0.000029</td>\n",
       "    </tr>\n",
       "    <tr>\n",
       "      <th>24135240.0</th>\n",
       "      <td>0.001358</td>\n",
       "      <td>0.001290</td>\n",
       "      <td>0.001286</td>\n",
       "      <td>0.001283</td>\n",
       "      <td>0.001280</td>\n",
       "      <td>0.001279</td>\n",
       "      <td>0.001279</td>\n",
       "      <td>0.001283</td>\n",
       "      <td>0.001291</td>\n",
       "      <td>0.001300</td>\n",
       "      <td>...</td>\n",
       "      <td>0.000044</td>\n",
       "      <td>0.000044</td>\n",
       "      <td>0.000045</td>\n",
       "      <td>0.000045</td>\n",
       "      <td>0.000046</td>\n",
       "      <td>0.000046</td>\n",
       "      <td>0.000046</td>\n",
       "      <td>0.000046</td>\n",
       "      <td>0.000046</td>\n",
       "      <td>0.000046</td>\n",
       "    </tr>\n",
       "    <tr>\n",
       "      <th>25070640.0</th>\n",
       "      <td>0.001953</td>\n",
       "      <td>0.001949</td>\n",
       "      <td>0.001949</td>\n",
       "      <td>0.001949</td>\n",
       "      <td>0.001949</td>\n",
       "      <td>0.001949</td>\n",
       "      <td>0.001949</td>\n",
       "      <td>0.001949</td>\n",
       "      <td>0.001950</td>\n",
       "      <td>0.001950</td>\n",
       "      <td>...</td>\n",
       "      <td>0.000028</td>\n",
       "      <td>0.000028</td>\n",
       "      <td>0.000028</td>\n",
       "      <td>0.000028</td>\n",
       "      <td>0.000028</td>\n",
       "      <td>0.000028</td>\n",
       "      <td>0.000028</td>\n",
       "      <td>0.000028</td>\n",
       "      <td>0.000028</td>\n",
       "      <td>0.000028</td>\n",
       "    </tr>\n",
       "  </tbody>\n",
       "</table>\n",
       "<p>5 rows × 566 columns</p>\n",
       "</div>"
      ],
      "text/plain": [
       "                wl_1      wl_2      wl_3      wl_4      wl_5      wl_6  \\\n",
       "planet_id                                                                \n",
       "785834.0    0.001144  0.001113  0.001112  0.001111  0.001111  0.001113   \n",
       "14485303.0  0.001871  0.001820  0.001819  0.001818  0.001818  0.001818   \n",
       "17002355.0  0.002794  0.002798  0.002798  0.002798  0.002799  0.002799   \n",
       "24135240.0  0.001358  0.001290  0.001286  0.001283  0.001280  0.001279   \n",
       "25070640.0  0.001953  0.001949  0.001949  0.001949  0.001949  0.001949   \n",
       "\n",
       "                wl_7      wl_8      wl_9     wl_10  ...  sigma_274  sigma_275  \\\n",
       "planet_id                                           ...                         \n",
       "785834.0    0.001114  0.001117  0.001120  0.001123  ...   0.000050   0.000050   \n",
       "14485303.0  0.001820  0.001823  0.001826  0.001830  ...   0.000034   0.000033   \n",
       "17002355.0  0.002798  0.002798  0.002798  0.002797  ...   0.000028   0.000028   \n",
       "24135240.0  0.001279  0.001283  0.001291  0.001300  ...   0.000044   0.000044   \n",
       "25070640.0  0.001949  0.001949  0.001950  0.001950  ...   0.000028   0.000028   \n",
       "\n",
       "            sigma_276  sigma_277  sigma_278  sigma_279  sigma_280  sigma_281  \\\n",
       "planet_id                                                                      \n",
       "785834.0     0.000050   0.000051   0.000052   0.000053   0.000054   0.000055   \n",
       "14485303.0   0.000033   0.000033   0.000033   0.000034   0.000034   0.000034   \n",
       "17002355.0   0.000029   0.000029   0.000029   0.000029   0.000029   0.000029   \n",
       "24135240.0   0.000045   0.000045   0.000046   0.000046   0.000046   0.000046   \n",
       "25070640.0   0.000028   0.000028   0.000028   0.000028   0.000028   0.000028   \n",
       "\n",
       "            sigma_282  sigma_283  \n",
       "planet_id                         \n",
       "785834.0     0.000055   0.000056  \n",
       "14485303.0   0.000034   0.000035  \n",
       "17002355.0   0.000029   0.000029  \n",
       "24135240.0   0.000046   0.000046  \n",
       "25070640.0   0.000028   0.000028  \n",
       "\n",
       "[5 rows x 566 columns]"
      ]
     },
     "metadata": {},
     "output_type": "display_data"
    },
    {
     "name": "stdout",
     "output_type": "stream",
     "text": [
      "0.0011126215985547824 4.1359960071418506e-05 3.2244350526727034e-05\n"
     ]
    }
   ],
   "source": [
    "# Convert to correct output format\n",
    "submission = pd.read_csv(ars.data_dir() + '/sample_submission.csv')\n",
    "submission = submission[0:0]\n",
    "for i in range(len(loader.planet_ids_to_load)):\n",
    "    submission.loc[i] = np.concatenate(([loader.planet_ids_to_load[i]], pred[i], sigma[i]))\n",
    "submission_csv=submission.copy().set_index(\"planet_id\")\n",
    "submission_csv[submission_csv<=0] = 1e-9\n",
    "\n",
    "# Output\n",
    "if len(ars.test_planet_list)>1:\n",
    "    submission_csv.to_csv('submission.csv')\n",
    "else:    \n",
    "    IPython.display.display(submission_csv)\n",
    "    print(submission_csv.to_numpy()[0,5], submission_csv.to_numpy()[0,500], ars.rms(sigma))\n",
    "    # Expected for testing (with include_later_optimizations=False): \n",
    "    # Offline: 0.0011164775705400421 3.989177792434888e-05 3.563359762792441e-05\n",
    "    # Kaggle:  0.001116477161465638 4.504426029385818e-05 3.567612829731749e-05\n",
    "    # Expected for testing (with include_later_optimizations=True): \n",
    "    # Offline: 0.0011126207347777167 3.664632827623065e-05 3.197817532055578e-05\n",
    "    # Kaggle:  0.0011126215985547824 4.1359960071418506e-05 3.2244350526727034e-05"
   ]
  }
 ],
 "metadata": {
  "kaggle": {
   "accelerator": "nvidiaTeslaT4",
   "dataSources": [
    {
     "databundleVersionId": 9188054,
     "sourceId": 70367,
     "sourceType": "competition"
    },
    {
     "datasetId": 5998787,
     "sourceId": 9793688,
     "sourceType": "datasetVersion"
    },
    {
     "sourceId": 204949753,
     "sourceType": "kernelVersion"
    }
   ],
   "dockerImageVersionId": 30762,
   "isGpuEnabled": true,
   "isInternetEnabled": false,
   "language": "python",
   "sourceType": "notebook"
  },
  "kernelspec": {
   "display_name": "Python 3 (ipykernel)",
   "language": "python",
   "name": "python3"
  },
  "language_info": {
   "codemirror_mode": {
    "name": "ipython",
    "version": 3
   },
   "file_extension": ".py",
   "mimetype": "text/x-python",
   "name": "python",
   "nbconvert_exporter": "python",
   "pygments_lexer": "ipython3",
   "version": "3.10.14"
  },
  "papermill": {
   "default_parameters": {},
   "duration": 185.872652,
   "end_time": "2024-11-03T10:13:21.780379",
   "environment_variables": {},
   "exception": null,
   "input_path": "__notebook__.ipynb",
   "output_path": "__notebook__.ipynb",
   "parameters": {},
   "start_time": "2024-11-03T10:10:15.907727",
   "version": "2.6.0"
  }
 },
 "nbformat": 4,
 "nbformat_minor": 5
}
